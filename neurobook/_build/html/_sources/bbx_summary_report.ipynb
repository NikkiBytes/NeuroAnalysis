{
 "cells": [
  {
   "cell_type": "code",
   "execution_count": 1,
   "metadata": {},
   "outputs": [
    {
     "name": "stdout",
     "output_type": "stream",
     "text": [
      "Populating the interactive namespace from numpy and matplotlib\n"
     ]
    }
   ],
   "source": [
    "# -- Packages --\n",
    "import os, glob\n",
    "import pandas as pd\n",
    "import matplotlib.pyplot as plt\n",
    "import matplotlib.image as mpimg\n",
    "\n",
    "import sys\n",
    "sys.path.append('../scripts/preprocessing_module')\n",
    "import BBXReport\n",
    "\n",
    "# -- Display Settings -- \n",
    "pd.set_option('display.max_rows', None)\n",
    "pd.set_option('display.max_columns', None)\n",
    "%pylab inline\n",
    "plt.rcParams[\"figure.figsize\"] = (15,12)\n"
   ]
  },
  {
   "cell_type": "markdown",
   "metadata": {},
   "source": [
    "# BBX Summary Report \n",
    "![](../../data/pngs/sub-001_ses-1_anat.png)"
   ]
  },
  {
   "cell_type": "code",
   "execution_count": 2,
   "metadata": {},
   "outputs": [],
   "source": [
    "BBXObj = BBXReport.BBXReport()"
   ]
  },
  {
   "cell_type": "code",
   "execution_count": 3,
   "metadata": {},
   "outputs": [
    {
     "name": "stdout",
     "output_type": "stream",
     "text": [
      "\n",
      "**** BBX DICOM fMRI Scan Data ****\n",
      "\n",
      "\n",
      "[INFO] 152 session 1 dicoms. (uploaded to renci)\n",
      "\n",
      "[INFO] 140 session 2 dicoms. (uploaded to renci)\n"
     ]
    }
   ],
   "source": [
    "BBXObj.bbx_dcm_report() # dicom report"
   ]
  },
  {
   "cell_type": "code",
   "execution_count": 4,
   "metadata": {},
   "outputs": [
    {
     "name": "stdout",
     "output_type": "stream",
     "text": [
      "\n",
      "**** BBX BIDS fMRI Scan Data ****\n",
      "\n",
      "\n",
      "[INFO] (SESSION-1) 151 BIDS subject folders found.\n",
      "\n",
      "\n",
      "[INFO] (SESSION-1) 145 subjects with 4 task-training run files.\n",
      "\n",
      "\n",
      "[INFO] (SESSION-1) 5 subjects with 3 task-training run files.\n",
      "\n",
      "\n",
      "[INFO] (SESSION-1) 1 subjects with 2 task-training run files.\n",
      "\n",
      "\n",
      "[INFO] (SESSION-2) 139 BIDS subject folders found.\n",
      "\n",
      "\n",
      "[INFO] (SESSION-2) 135 subjects have 4 task-training run files.\n",
      "\n",
      "[INFO] (SESSION-2) 1 subjects have 3 task-training run files.\n",
      "\n",
      "[INFO] (SESSION-2) 3 subjects have 2 task-training run files.\n",
      "----\n",
      "\n",
      "(SESSION-1) SUBJECTS WITH 4 RUNS ['sub-001' 'sub-002' 'sub-003' 'sub-004' 'sub-005' 'sub-006' 'sub-007'\n",
      " 'sub-008' 'sub-009' 'sub-010' 'sub-011' 'sub-012' 'sub-013' 'sub-014'\n",
      " 'sub-015' 'sub-016' 'sub-017' 'sub-018' 'sub-019' 'sub-020' 'sub-021'\n",
      " 'sub-022' 'sub-023' 'sub-024' 'sub-025' 'sub-026' 'sub-027' 'sub-028'\n",
      " 'sub-030' 'sub-031' 'sub-032' 'sub-033' 'sub-034' 'sub-035' 'sub-036'\n",
      " 'sub-037' 'sub-038' 'sub-039' 'sub-040' 'sub-041' 'sub-042' 'sub-043'\n",
      " 'sub-044' 'sub-045' 'sub-046' 'sub-050' 'sub-051' 'sub-052' 'sub-053'\n",
      " 'sub-054' 'sub-055' 'sub-056' 'sub-057' 'sub-058' 'sub-059' 'sub-061'\n",
      " 'sub-062' 'sub-063' 'sub-064' 'sub-065' 'sub-066' 'sub-067' 'sub-068'\n",
      " 'sub-070' 'sub-071' 'sub-072' 'sub-074' 'sub-075' 'sub-077' 'sub-078'\n",
      " 'sub-079' 'sub-080' 'sub-082' 'sub-083' 'sub-084' 'sub-085' 'sub-086'\n",
      " 'sub-087' 'sub-088' 'sub-089' 'sub-090' 'sub-091' 'sub-092' 'sub-093'\n",
      " 'sub-095' 'sub-096' 'sub-097' 'sub-098' 'sub-099' 'sub-100' 'sub-102'\n",
      " 'sub-103' 'sub-104' 'sub-107' 'sub-108' 'sub-109' 'sub-111' 'sub-112'\n",
      " 'sub-114' 'sub-115' 'sub-116' 'sub-117' 'sub-118' 'sub-119' 'sub-120'\n",
      " 'sub-121' 'sub-123' 'sub-124' 'sub-127' 'sub-128' 'sub-129' 'sub-130'\n",
      " 'sub-131' 'sub-132' 'sub-133' 'sub-134' 'sub-135' 'sub-136' 'sub-137'\n",
      " 'sub-138' 'sub-140' 'sub-141' 'sub-142' 'sub-143' 'sub-144' 'sub-145'\n",
      " 'sub-148' 'sub-149' 'sub-150' 'sub-151' 'sub-152' 'sub-153' 'sub-154'\n",
      " 'sub-156' 'sub-157' 'sub-159' 'sub-160' 'sub-162' 'sub-163' 'sub-164'\n",
      " 'sub-166' 'sub-167' 'sub-168' 'sub-169' 'sub-170']: \n",
      "\n",
      "\n",
      "(SESSION-2) SUBJECTS WITH 4 RUNS ['sub-001' 'sub-002' 'sub-004' 'sub-005' 'sub-006' 'sub-007' 'sub-008'\n",
      " 'sub-009' 'sub-010' 'sub-014' 'sub-015' 'sub-017' 'sub-019' 'sub-020'\n",
      " 'sub-021' 'sub-022' 'sub-023' 'sub-024' 'sub-025' 'sub-027' 'sub-028'\n",
      " 'sub-030' 'sub-031' 'sub-032' 'sub-033' 'sub-034' 'sub-035' 'sub-036'\n",
      " 'sub-037' 'sub-038' 'sub-039' 'sub-040' 'sub-041' 'sub-042' 'sub-043'\n",
      " 'sub-044' 'sub-045' 'sub-046' 'sub-048' 'sub-050' 'sub-051' 'sub-052'\n",
      " 'sub-053' 'sub-054' 'sub-055' 'sub-057' 'sub-059' 'sub-061' 'sub-062'\n",
      " 'sub-063' 'sub-065' 'sub-066' 'sub-067' 'sub-068' 'sub-070' 'sub-071'\n",
      " 'sub-072' 'sub-073' 'sub-074' 'sub-075' 'sub-077' 'sub-078' 'sub-079'\n",
      " 'sub-080' 'sub-082' 'sub-083' 'sub-084' 'sub-085' 'sub-086' 'sub-087'\n",
      " 'sub-088' 'sub-089' 'sub-090' 'sub-092' 'sub-093' 'sub-094' 'sub-095'\n",
      " 'sub-096' 'sub-097' 'sub-098' 'sub-099' 'sub-100' 'sub-102' 'sub-103'\n",
      " 'sub-104' 'sub-107' 'sub-108' 'sub-109' 'sub-111' 'sub-112' 'sub-114'\n",
      " 'sub-115' 'sub-116' 'sub-117' 'sub-118' 'sub-119' 'sub-120' 'sub-121'\n",
      " 'sub-123' 'sub-124' 'sub-127' 'sub-128' 'sub-129' 'sub-130' 'sub-131'\n",
      " 'sub-132' 'sub-133' 'sub-134' 'sub-136' 'sub-137' 'sub-140' 'sub-141'\n",
      " 'sub-142' 'sub-143' 'sub-144' 'sub-145' 'sub-146' 'sub-148' 'sub-149'\n",
      " 'sub-151' 'sub-152' 'sub-153' 'sub-154' 'sub-156' 'sub-157' 'sub-159'\n",
      " 'sub-160' 'sub-161' 'sub-162' 'sub-163' 'sub-164' 'sub-166' 'sub-168'\n",
      " 'sub-169' 'sub-170']:\n",
      "\n",
      "\n",
      "(SESSION-1) SUBJECTS WITH 3 RUNS ['sub-048' 'sub-073' 'sub-076' 'sub-146' 'sub-147']: \n",
      "\n",
      "\n",
      "(SESSION-2) SUBJECTS WITH 3 RUNS ['sub-058']:\n",
      "\n",
      "\n",
      "(SESSION-1) SUBJECTS WITH 2 RUNS ['sub-060']: \n",
      "\n",
      "\n",
      "(SESSION-2) SUBJECTS WITH 2 RUNS ['sub-011' 'sub-013' 'sub-016']:\n",
      "\n",
      "---- \n",
      "\n"
     ]
    }
   ],
   "source": [
    "BBXObj.bids_report() # bids report"
   ]
  },
  {
   "cell_type": "markdown",
   "metadata": {},
   "source": [
    "---"
   ]
  },
  {
   "cell_type": "code",
   "execution_count": null,
   "metadata": {},
   "outputs": [],
   "source": []
  }
 ],
 "metadata": {
  "kernelspec": {
   "display_name": "Python 3",
   "language": "python",
   "name": "python3"
  },
  "language_info": {
   "codemirror_mode": {
    "name": "ipython",
    "version": 3
   },
   "file_extension": ".py",
   "mimetype": "text/x-python",
   "name": "python",
   "nbconvert_exporter": "python",
   "pygments_lexer": "ipython3",
   "version": "3.9.6"
  }
 },
 "nbformat": 4,
 "nbformat_minor": 4
}
