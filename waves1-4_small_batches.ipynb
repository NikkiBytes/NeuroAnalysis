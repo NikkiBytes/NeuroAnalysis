{
 "cells": [
  {
   "cell_type": "markdown",
   "metadata": {},
   "source": [
    "# Decoding Milkshake vs. H2O \n",
    "## All available data from all waves\n",
    "#### Tiny batches\n",
    "\n",
    "On RENCI find the (.nii) images here:  \n",
    "```\n",
    "cd /projects/niblab/bids_projects/Experiments/ChocoData/derivatives/code/decoding/milkshake_vs_h2O/images/all\n",
    "```\n"
   ]
  },
  {
   "cell_type": "markdown",
   "metadata": {},
   "source": [
    "#### Batch: 1\n",
    "#### Nested CV score: 0.8018\n",
    "<br>\n",
    "![IMG](images/all_waves_b1_SVM_nimask.png)"
   ]
  },
  {
   "cell_type": "markdown",
   "metadata": {},
   "source": [
    "#### Batch: 2\n",
    "#### Nested CV score: 0.8016\n",
    "<br>\n",
    "![IMG](images/all_waves_b2_SVM_nimask.png)"
   ]
  },
  {
   "cell_type": "markdown",
   "metadata": {},
   "source": [
    "#### Batch: 3 \n",
    "#### Nested CV score: 0.8014\n",
    "<br>\n",
    "![IMG](images/all_waves_b3_SVM_nimask.png)"
   ]
  },
  {
   "cell_type": "markdown",
   "metadata": {},
   "source": [
    "#### Batch: 4\n",
    "#### Nested CV score: 0.8017\n",
    "<br>\n",
    "![IMG](images/all_waves_b4_SVM_nimask.png)"
   ]
  },
  {
   "cell_type": "markdown",
   "metadata": {},
   "source": [
    "#### Batch: 5\n",
    "#### Nested CV score: 0.8016\n",
    "<br>\n",
    "![IMG](images/all_waves_b5_SVM_nimask.png)"
   ]
  },
  {
   "cell_type": "markdown",
   "metadata": {},
   "source": [
    "#### Batch: 6\n",
    "#### Nested CV score: 0.8014\n",
    "<br>\n",
    "![IMG](images/all_waves_b6_SVM_nimask.png)"
   ]
  },
  {
   "cell_type": "markdown",
   "metadata": {},
   "source": [
    "#### Batch: 7 \n",
    "#### Nested CV score: 0.8015\n",
    "<br>\n",
    "![IMG](images/all_waves_b7_SVM_nimask.png)"
   ]
  },
  {
   "cell_type": "markdown",
   "metadata": {},
   "source": [
    "#### Batch: 8\n",
    "#### Nested CV score: 0.8016\n",
    "<br>\n",
    "![IMG](images/all_waves_b8_SVM_nimask.png)"
   ]
  },
  {
   "cell_type": "markdown",
   "metadata": {},
   "source": [
    "#### Batch: 9\n",
    "#### Nested CV score: 0.8016\n",
    "<br>\n",
    "![IMG](images/all_waves_b9_SVM_nimask.png)"
   ]
  },
  {
   "cell_type": "markdown",
   "metadata": {},
   "source": [
    "#### Batch: 10\n",
    "#### Nested CV score: 0.8017\n",
    "<br>\n",
    "![IMG](images/all_waves_b10_SVM_nimask.png)"
   ]
  },
  {
   "cell_type": "markdown",
   "metadata": {},
   "source": [
    "#### Batch: 11\n",
    "#### Nested CV score: 0.8014\n",
    "<br>\n",
    "![IMG](images/all_waves_b11_SVM_nimask.png)"
   ]
  },
  {
   "cell_type": "markdown",
   "metadata": {},
   "source": [
    "#### Batch: 12\n",
    "#### Nested CV score: 0.8014\n",
    "<br>\n",
    "![IMG](images/all_waves_b12_SVM_nimask.png)"
   ]
  },
  {
   "cell_type": "markdown",
   "metadata": {},
   "source": [
    "#### Batch: 13\n",
    "#### Nested CV score: 0.8014\n",
    "<br>\n",
    "![IMG](images/all_waves_b13_SVM_nimask.png)"
   ]
  },
  {
   "cell_type": "markdown",
   "metadata": {},
   "source": [
    "#### Batch: 14\n",
    "#### Nested CV score: 0.8014\n",
    "<br>\n",
    "![IMG](images/all_waves_b14_SVM_nimask.png)"
   ]
  },
  {
   "cell_type": "markdown",
   "metadata": {},
   "source": [
    "#### Batch: 15\n",
    "#### Nested CV score: 0.8017\n",
    "<br>\n",
    "![IMG](images/all_waves_b15_SVM_nimask.png)"
   ]
  },
  {
   "cell_type": "markdown",
   "metadata": {},
   "source": [
    "#### Batch: 16\n",
    "#### Nested CV score: 0.8016\n",
    "<br>\n",
    "![IMG](images/all_waves_b16_SVM_nimask.png)"
   ]
  },
  {
   "cell_type": "markdown",
   "metadata": {},
   "source": [
    "#### Batch: 17\n",
    "#### Nested CV score: 0.8014\n",
    "<br>\n",
    "![IMG](images/all_waves_b17_SVM_nimask.png)"
   ]
  },
  {
   "cell_type": "markdown",
   "metadata": {},
   "source": [
    "#### Batch: 18\n",
    "#### Nested CV score: 0.8016\n",
    "<br>\n",
    "![IMG](images/all_waves_b18_SVM_nimask.png)"
   ]
  },
  {
   "cell_type": "markdown",
   "metadata": {},
   "source": [
    "#### Batch: 19\n",
    "#### Nested CV score: 0.8014\n",
    "<br>\n",
    "![IMG](images/all_waves_b19_SVM_nimask.png)"
   ]
  },
  {
   "cell_type": "markdown",
   "metadata": {},
   "source": [
    "#### Code used for batches below "
   ]
  },
  {
   "cell_type": "code",
   "execution_count": null,
   "metadata": {},
   "outputs": [],
   "source": [
    "\n",
    "\n",
    "import os\n",
    "import sys\n",
    "import numpy as np\n",
    "import nilearn\n",
    "import glob\n",
    "import nibabel as nib\n",
    "import pandas as pd \n",
    "from sklearn.model_selection import cross_val_score\n",
    "from nilearn.input_data import NiftiMasker \n",
    "import numpy as np\n",
    "np.seterr(divide='ignore', invalid='ignore')\n",
    "import warnings\n",
    "warnings.filterwarnings(\"ignore\")\n",
    "import matplotlib\n",
    "matplotlib.use('Agg')\n",
    "\n",
    "\n",
    "batchID = sys.argv[1]\n",
    "batchID = str(batchID)\n",
    "\n",
    "#image mask\n",
    "imag_mask='/projects/niblab/bids_projects/Experiments/ChocoData/images/bin_mask.nii.gz'\n",
    "\n",
    "\n",
    "#our behavioral csv file \n",
    "stim = '/projects/niblab/bids_projects/Experiments/ChocoData/behavorial_data/all_waves_b%s.csv'%(batchID)\n",
    "\n",
    "#our dataset concatenated image \n",
    "dataset='/projects/niblab/bids_projects/Experiments/ChocoData/images/all_waves_b%s.nii.gz'%(batchID)\n",
    "#load behavioral data into a pandas df\n",
    "behavioral = pd.read_csv(stim, sep=\"\\t\")\n",
    "\n",
    "\n",
    "\n",
    "#grab conditional labels and set up milkshake\n",
    "\n",
    "behavioral[\"Label\"] = behavioral.replace(['HF_LS_receipt', 'LF_LS_receipt', 'LF_HS_receipt', 'HF_HS_receipt'], 'milkshake')\n",
    "\n",
    "y = behavioral[\"Label\"]\n",
    "print(y.unique())\n",
    "\n",
    "\n",
    "# ['rest' 'h20_pic' 'h20_receipt' 'milkshake_pic' 'milkshake' 'rinse']\n",
    "# \n",
    "\n",
    "# In[ ]:\n",
    "\n",
    "\n",
    "\n",
    "#restrict data to our target analysis \n",
    "condition_mask = behavioral[\"Label\"].isin(['milkshake', \"h20_receipt\"])\n",
    "y = y[condition_mask]\n",
    "#confirm we have the # of condtions needed\n",
    "print(y.unique())\n",
    "\n",
    "\n",
    "\n",
    "# ['h20_receipt' 'milkshake']\n",
    "\n",
    "# In[ ]:\n",
    "\n",
    "\n",
    "masker = NiftiMasker(mask_img=imag_mask, standardize=True, memory=\"nilearn_cache\", memory_level=1)\n",
    "X = masker.fit_transform(dataset)\n",
    "# Apply our condition_mask\n",
    "X = X[condition_mask]\n",
    "\n",
    "\n",
    "\n",
    "# PREDICTION FUNCTION\n",
    "from sklearn.svm import SVC\n",
    "svc = SVC(kernel='linear')\n",
    "\n",
    "# FEATURE SELECTION\n",
    "from sklearn.feature_selection import SelectPercentile, f_classif, SelectKBest\n",
    "feature_selection = SelectKBest(f_classif, k=500)\n",
    "\n",
    "from sklearn.pipeline import Pipeline\n",
    "\n",
    "anova_svc = Pipeline([('anova', feature_selection), ('svc', svc)])\n",
    "anova_svc.fit(X,y)\n",
    "y_pred = anova_svc.predict(X)\n",
    "\n",
    "# NESTED CROSS VALIDATION \n",
    "from sklearn.model_selection import GridSearchCV\n",
    "k_range = [ 15, 50, 150, 500, 1000, 3000, 5000]\n",
    "grid = GridSearchCV(anova_svc, param_grid={'anova__k': k_range}, verbose=1, cv=5, n_jobs=4)\n",
    "nested_cv_scores = cross_val_score(grid, X, y, cv=5)\n",
    "##cv_scores = cross_val_score(anova_svc, X, conditions,)\n",
    "# Print the results\n",
    "print(\"Nested CV score: %.4f\" % np.mean(nested_cv_scores))\n",
    "\n",
    "\n",
    "# In[ ]:\n",
    "\n",
    "\n",
    "# Here is the image \n",
    "coef = svc.coef_\n",
    "# reverse feature selection\n",
    "coef = feature_selection.inverse_transform(coef)\n",
    "# reverse masking\n",
    "weight_img = masker.inverse_transform(coef)\n",
    "\n",
    "\n",
    "# Use the mean image as a background to avoid relying on anatomical data\n",
    "from nilearn import image\n",
    "mean_img = image.mean_img(dataset)\n",
    "mean_img.to_filename('/projects/niblab/bids_projects/Experiments/ChocoData/derivatives/code/decoding/milkshake_vs_h2O/images/all/all_waves_b%s_mean_nimask.nii'%batchID)\n",
    "\n",
    "# Create the figure\n",
    "from nilearn.plotting import plot_stat_map, show\n",
    "display = plot_stat_map(weight_img, mean_img, title='Milkshake vs. h2O')\n",
    "display.savefig('/projects/niblab/bids_projects/Experiments/ChocoData/derivatives/code/decoding/milkshake_vs_h2O/images/all/all_waves_b%s_SVM_nimask.png'%batchID)\n",
    "# Saving the results as a Nifti file may also be important\n",
    "weight_img.to_filename('/projects/niblab/bids_projects/Experiments/ChocoData/derivatives/code/decoding/milkshake_vs_h2O/images/all/all_waves_b%s_SVM_nimask.nii'%batchID)\n",
    "\n"
   ]
  }
 ],
 "metadata": {
  "kernelspec": {
   "display_name": "Python 3",
   "language": "python",
   "name": "python3"
  },
  "language_info": {
   "codemirror_mode": {
    "name": "ipython",
    "version": 3
   },
   "file_extension": ".py",
   "mimetype": "text/x-python",
   "name": "python",
   "nbconvert_exporter": "python",
   "pygments_lexer": "ipython3",
   "version": "3.6.7"
  }
 },
 "nbformat": 4,
 "nbformat_minor": 2
}
