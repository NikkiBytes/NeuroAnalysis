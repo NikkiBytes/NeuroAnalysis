{
 "cells": [
  {
   "cell_type": "code",
   "execution_count": 1,
   "metadata": {
    "colab": {
     "base_uri": "https://localhost:8080/",
     "height": 122
    },
    "colab_type": "code",
    "id": "uM9HY02QmN8f",
    "outputId": "c0379228-1ce4-4566-9571-19e5160f1824"
   },
   "outputs": [
    {
     "name": "stdout",
     "output_type": "stream",
     "text": [
      "Go to this URL in a browser: https://accounts.google.com/o/oauth2/auth?client_id=947318989803-6bn6qk8qdgf4n4g3pfee6491hc0brc4i.apps.googleusercontent.com&redirect_uri=urn%3aietf%3awg%3aoauth%3a2.0%3aoob&response_type=code&scope=email%20https%3a%2f%2fwww.googleapis.com%2fauth%2fdocs.test%20https%3a%2f%2fwww.googleapis.com%2fauth%2fdrive%20https%3a%2f%2fwww.googleapis.com%2fauth%2fdrive.photos.readonly%20https%3a%2f%2fwww.googleapis.com%2fauth%2fpeopleapi.readonly\n",
      "\n",
      "Enter your authorization code:\n",
      "··········\n",
      "Mounted at /content/drive\n"
     ]
    }
   ],
   "source": [
    "from google.colab import drive\n",
    "drive.mount('/content/drive')"
   ]
  },
  {
   "cell_type": "code",
   "execution_count": 3,
   "metadata": {
    "colab": {
     "base_uri": "https://localhost:8080/",
     "height": 71
    },
    "colab_type": "code",
    "id": "C88l2NYFmfJG",
    "outputId": "77a56e67-8c4d-4c01-9990-5d6c49a74970"
   },
   "outputs": [
    {
     "name": "stderr",
     "output_type": "stream",
     "text": [
      "/usr/local/lib/python3.6/dist-packages/statsmodels/tools/_testing.py:19: FutureWarning: pandas.util.testing is deprecated. Use the functions in the public API at pandas.testing instead.\n",
      "  import pandas.util.testing as tm\n"
     ]
    }
   ],
   "source": [
    "from IPython.core import display as ICD\n",
    "import pandas as pd\n",
    "import glob, os\n",
    "import seaborn as sns\n",
    "from sklearn import svm\n",
    "import numpy as np\n",
    "from sklearn.preprocessing import MinMaxScaler\n",
    "from matplotlib import pyplot as plt\n",
    "import warnings\n",
    "warnings.filterwarnings('ignore')"
   ]
  },
  {
   "cell_type": "markdown",
   "metadata": {
    "colab_type": "text",
    "id": "kvrcc5eSmXwH"
   },
   "source": [
    "## Visualize brainwave data"
   ]
  },
  {
   "cell_type": "code",
   "execution_count": null,
   "metadata": {
    "colab": {},
    "colab_type": "code",
    "id": "pTLtmUzJmbNS"
   },
   "outputs": [],
   "source": [
    "multisite_df = pd.read_csv('drive/My Drive/Projects/pilot_mouse_connectivity/cocaine_two_mice/Spectrogram_data/updated_data/multisite_averaged_data.csv')\n",
    "multisite_df.drop(\"Unnamed: 0\", axis=1,inplace=True)\n",
    "multisite_df.fillna(multisite_df.mean(), inplace=True)"
   ]
  },
  {
   "cell_type": "code",
   "execution_count": 10,
   "metadata": {
    "colab": {
     "base_uri": "https://localhost:8080/",
     "height": 258
    },
    "colab_type": "code",
    "id": "4Y3Qi9A2mkqF",
    "outputId": "fe391e93-4c54-4a0c-c1b9-5319456779c5"
   },
   "outputs": [
    {
     "name": "stdout",
     "output_type": "stream",
     "text": [
      "[INFO] getting individual subject info...\n"
     ]
    },
    {
     "data": {
      "text/html": [
       "<div>\n",
       "<style scoped>\n",
       "    .dataframe tbody tr th:only-of-type {\n",
       "        vertical-align: middle;\n",
       "    }\n",
       "\n",
       "    .dataframe tbody tr th {\n",
       "        vertical-align: top;\n",
       "    }\n",
       "\n",
       "    .dataframe thead th {\n",
       "        text-align: right;\n",
       "    }\n",
       "</style>\n",
       "<table border=\"1\" class=\"dataframe\">\n",
       "  <thead>\n",
       "    <tr style=\"text-align: right;\">\n",
       "      <th></th>\n",
       "      <th>PFC gamma</th>\n",
       "      <th>VTA gamma</th>\n",
       "      <th>BLA gamma</th>\n",
       "      <th>NAc gamma</th>\n",
       "      <th>PFC beta</th>\n",
       "      <th>VTA beta</th>\n",
       "      <th>BLA beta</th>\n",
       "      <th>NAc beta</th>\n",
       "      <th>PFC theta</th>\n",
       "      <th>VTA theta</th>\n",
       "      <th>BLA theta</th>\n",
       "      <th>NAc theta</th>\n",
       "      <th>reference wires</th>\n",
       "      <th>mouse id</th>\n",
       "      <th>Time (s)</th>\n",
       "      <th>Speed (cm/s)</th>\n",
       "      <th>cocaine status</th>\n",
       "      <th>recording</th>\n",
       "    </tr>\n",
       "  </thead>\n",
       "  <tbody>\n",
       "    <tr>\n",
       "      <th>1795</th>\n",
       "      <td>-56.865715</td>\n",
       "      <td>-57.942726</td>\n",
       "      <td>-52.129210</td>\n",
       "      <td>-53.307285</td>\n",
       "      <td>-49.976629</td>\n",
       "      <td>-50.508154</td>\n",
       "      <td>-44.014494</td>\n",
       "      <td>-46.660643</td>\n",
       "      <td>-38.009357</td>\n",
       "      <td>-40.977594</td>\n",
       "      <td>-35.588515</td>\n",
       "      <td>-36.545130</td>\n",
       "      <td>-45.135876</td>\n",
       "      <td>1</td>\n",
       "      <td>1795</td>\n",
       "      <td>4.658641</td>\n",
       "      <td>post</td>\n",
       "      <td>1</td>\n",
       "    </tr>\n",
       "    <tr>\n",
       "      <th>1796</th>\n",
       "      <td>-56.473973</td>\n",
       "      <td>-58.849609</td>\n",
       "      <td>-52.928476</td>\n",
       "      <td>-52.319462</td>\n",
       "      <td>-49.798711</td>\n",
       "      <td>-51.120191</td>\n",
       "      <td>-43.926163</td>\n",
       "      <td>-48.284506</td>\n",
       "      <td>-37.293854</td>\n",
       "      <td>-42.177768</td>\n",
       "      <td>-33.858847</td>\n",
       "      <td>-37.812734</td>\n",
       "      <td>-45.216104</td>\n",
       "      <td>1</td>\n",
       "      <td>1796</td>\n",
       "      <td>5.963985</td>\n",
       "      <td>post</td>\n",
       "      <td>1</td>\n",
       "    </tr>\n",
       "    <tr>\n",
       "      <th>1797</th>\n",
       "      <td>-56.605047</td>\n",
       "      <td>-57.997710</td>\n",
       "      <td>-54.303418</td>\n",
       "      <td>-53.893559</td>\n",
       "      <td>-48.505382</td>\n",
       "      <td>-51.477111</td>\n",
       "      <td>-46.106859</td>\n",
       "      <td>-47.793434</td>\n",
       "      <td>-40.364863</td>\n",
       "      <td>-36.448517</td>\n",
       "      <td>-34.211939</td>\n",
       "      <td>-40.414986</td>\n",
       "      <td>-48.380461</td>\n",
       "      <td>1</td>\n",
       "      <td>1797</td>\n",
       "      <td>7.986120</td>\n",
       "      <td>post</td>\n",
       "      <td>1</td>\n",
       "    </tr>\n",
       "    <tr>\n",
       "      <th>1798</th>\n",
       "      <td>-56.040445</td>\n",
       "      <td>-58.415036</td>\n",
       "      <td>-53.152960</td>\n",
       "      <td>-53.526476</td>\n",
       "      <td>-51.928621</td>\n",
       "      <td>-50.732911</td>\n",
       "      <td>-44.187890</td>\n",
       "      <td>-46.059507</td>\n",
       "      <td>-40.522954</td>\n",
       "      <td>-38.516281</td>\n",
       "      <td>-35.948192</td>\n",
       "      <td>-38.818920</td>\n",
       "      <td>-46.030858</td>\n",
       "      <td>1</td>\n",
       "      <td>1798</td>\n",
       "      <td>9.202635</td>\n",
       "      <td>post</td>\n",
       "      <td>1</td>\n",
       "    </tr>\n",
       "    <tr>\n",
       "      <th>1799</th>\n",
       "      <td>-56.522924</td>\n",
       "      <td>-59.501544</td>\n",
       "      <td>-53.045512</td>\n",
       "      <td>-53.967195</td>\n",
       "      <td>-50.221742</td>\n",
       "      <td>-51.942138</td>\n",
       "      <td>-45.947853</td>\n",
       "      <td>-44.495006</td>\n",
       "      <td>-40.765705</td>\n",
       "      <td>-40.219637</td>\n",
       "      <td>-36.467200</td>\n",
       "      <td>-38.934519</td>\n",
       "      <td>-45.924036</td>\n",
       "      <td>1</td>\n",
       "      <td>1799</td>\n",
       "      <td>9.357146</td>\n",
       "      <td>post</td>\n",
       "      <td>1</td>\n",
       "    </tr>\n",
       "  </tbody>\n",
       "</table>\n",
       "</div>"
      ],
      "text/plain": [
       "      PFC gamma  VTA gamma  BLA gamma  ...  Speed (cm/s)  cocaine status  recording\n",
       "1795 -56.865715 -57.942726 -52.129210  ...      4.658641            post          1\n",
       "1796 -56.473973 -58.849609 -52.928476  ...      5.963985            post          1\n",
       "1797 -56.605047 -57.997710 -54.303418  ...      7.986120            post          1\n",
       "1798 -56.040445 -58.415036 -53.152960  ...      9.202635            post          1\n",
       "1799 -56.522924 -59.501544 -53.045512  ...      9.357146            post          1\n",
       "\n",
       "[5 rows x 18 columns]"
      ]
     },
     "metadata": {
      "tags": []
     },
     "output_type": "display_data"
    }
   ],
   "source": [
    "print('[INFO] getting individual subject info...')\n",
    "sub1_df=multisite_df.loc[0:1799, ]\n",
    "ICD.display(sub1_df.tail())"
   ]
  },
  {
   "cell_type": "code",
   "execution_count": 11,
   "metadata": {
    "colab": {
     "base_uri": "https://localhost:8080/",
     "height": 282
    },
    "colab_type": "code",
    "id": "Yv4LAaPfmmZP",
    "outputId": "8124675d-d8ad-4d76-f3ab-5c7fd4136ffd"
   },
   "outputs": [
    {
     "data": {
      "text/plain": [
       "[<matplotlib.lines.Line2D at 0x7f68da5fc3c8>]"
      ]
     },
     "execution_count": 11,
     "metadata": {
      "tags": []
     },
     "output_type": "execute_result"
    },
    {
     "data": {
      "image/png": "[encoded data removed]",
      "text/plain": [
       "<Figure size 432x288 with 1 Axes>"
      ]
     },
     "metadata": {
      "needs_background": "light",
      "tags": []
     },
     "output_type": "display_data"
    }
   ],
   "source": [
    "fig, ax = plt.subplots()\n",
    "ax.plot(sub1_df['Time (s)'], sub1_df['PFC gamma'], c=\"purple\")\n"
   ]
  },
  {
   "cell_type": "markdown",
   "metadata": {
    "colab": {},
    "colab_type": "code",
    "id": "Ssza3SLjmuzl"
   },
   "source": [
    "---"
   ]
  }
 ],
 "metadata": {
  "colab": {
   "collapsed_sections": [],
   "name": "Brainwave Connectivity EDA.ipynb",
   "provenance": []
  },
  "kernelspec": {
   "display_name": "Python 3",
   "language": "python",
   "name": "python3"
  },
  "language_info": {
   "codemirror_mode": {
    "name": "ipython",
    "version": 3
   },
   "file_extension": ".py",
   "mimetype": "text/x-python",
   "name": "python",
   "nbconvert_exporter": "python",
   "pygments_lexer": "ipython3",
   "version": "3.9.6"
  }
 },
 "nbformat": 4,
 "nbformat_minor": 4
}
