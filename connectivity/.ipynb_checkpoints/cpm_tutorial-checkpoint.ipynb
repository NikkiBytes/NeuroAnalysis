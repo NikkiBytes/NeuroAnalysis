{
 "cells": [
  {
   "cell_type": "markdown",
   "metadata": {},
   "source": [
    "# Connectome-Based Predictive Modeling (CPM)"
   ]
  },
  {
   "cell_type": "code",
   "execution_count": 17,
   "metadata": {
    "pycharm": {
     "is_executing": false
    }
   },
   "outputs": [
    {
     "name": "stdout",
     "text": [
      "[INFO] imported packages.\n"
     ],
     "output_type": "stream"
    }
   ],
   "source": [
    "## import packages\n",
    "import os, glob\n",
    "import sys\n",
    "\n",
    "sys.path.append('/Users/nikkibytes/Documents/GitHub/nikkibytes/neuroinformatics/neurobits')\n",
    "\n",
    "from fmri_cpm import fMRIcpm\n",
    "\n",
    "print(\"[INFO] imported packages.\")"
   ]
  },
  {
   "cell_type": "code",
   "execution_count": 18,
   "metadata": {
    "pycharm": {
     "is_executing": false
    }
   },
   "outputs": [
    {
     "name": "stdout",
     "text": [
      "[INFO] made dictionaries.\n"
     ],
     "output_type": "stream"
    }
   ],
   "source": [
    "data_dict={}\n",
    "print(\"[INFO] made dictionaries.\")\n"
   ]
  },
  {
   "cell_type": "code",
   "execution_count": 24,
   "metadata": {
    "pycharm": {
     "is_executing": false
    }
   },
   "outputs": [
    {
     "name": "stdout",
     "text": [
      "[INFO] 72 matrix files found. \n[PATH] /Users/nikkibytes/Documents/local_dev/chocolate_milkshake/data/milkshake_averages\n"
     ],
     "output_type": "stream"
    }
   ],
   "source": [
    "fc_data_path=os.path.join('/Users/nikkibytes/Documents/local_dev/chocolate_milkshake/data/milkshake_averages')\n",
    "fcms_list = glob.glob(os.path.join(fc_data_path, '*avg.txt'))\n",
    "print(\"[INFO] %s matrix files found. \\n[PATH] %s\"%(len(fcms_list), fc_data_path))"
   ]
  },
  {
   "cell_type": "code",
   "execution_count": 27,
   "metadata": {
    "pycharm": {
     "is_executing": false
    }
   },
   "outputs": [
    {
     "name": "stdout",
     "text": [
      "[INFO] data dictionary updated with matrix file paths. \n[EXAMPLE] {'FCM': '/Users/nikkibytes/Documents/local_dev/chocolate_milkshake/data/milkshake_averages/sub-001_ses-1_task-milkshakeC-milkshakeB_avg.txt'}\n"
     ],
     "output_type": "stream"
    }
   ],
   "source": [
    "for file in fcms_list:\n",
    "    subj_id=file.split('/')[-1].split(\"_\")[0]\n",
    "    if subj_id not in data_dict:\n",
    "        data_dict[subj_id]={\n",
    "            \"FCM\": file\n",
    "        }\n",
    "print(\"[INFO] data dictionary updated with matrix file paths. \\n[EXAMPLE] %s\"%data_dict['sub-001'])"
   ]
  },
  {
   "cell_type": "code",
   "execution_count": 28,
   "metadata": {
    "pycharm": {
     "is_executing": false
    }
   },
   "outputs": [
    {
     "data": {
      "text/plain": "dict_keys(['sub-069', 'sub-089', 'sub-144', 'sub-065', 'sub-058', 'sub-040', 'sub-020', 'sub-076', 'sub-147', 'sub-060', 'sub-102', 'sub-097', 'sub-092', 'sub-132', 'sub-079', 'sub-038', 'sub-100', 'sub-011', 'sub-009', 'sub-075', 'sub-093', 'sub-119', 'sub-130', 'sub-066', 'sub-049', 'sub-099', 'sub-085', 'sub-117', 'sub-047', 'sub-037', 'sub-057', 'sub-138', 'sub-064', 'sub-128', 'sub-039', 'sub-027', 'sub-106', 'sub-109', 'sub-015', 'sub-077', 'sub-115', 'sub-110', 'sub-068', 'sub-101', 'sub-131', 'sub-004', 'sub-005', 'sub-041', 'sub-042', 'sub-001', 'sub-046', 'sub-142', 'sub-107', 'sub-146', 'sub-051', 'sub-048', 'sub-126', 'sub-030', 'sub-032', 'sub-028', 'sub-088', 'sub-080', 'sub-022', 'sub-108', 'sub-116', 'sub-029', 'sub-143', 'sub-118', 'sub-056', 'sub-055', 'sub-081', 'sub-098'])"
     },
     "metadata": {},
     "output_type": "execute_result",
     "execution_count": 28
    }
   ],
   "source": [
    "data_dict.keys()\n",
    "#len(data_dict.keys())"
   ]
  },
  {
   "cell_type": "code",
   "execution_count": 7,
   "metadata": {
    "pycharm": {
     "is_executing": false
    }
   },
   "outputs": [
    {
     "traceback": [
      "\u001b[0;31m---------------------------------------------------------------------------\u001b[0m",
      "\u001b[0;31mNameError\u001b[0m                                 Traceback (most recent call last)",
      "\u001b[0;32m<ipython-input-7-0ad63f8fc5c3>\u001b[0m in \u001b[0;36m<module>\u001b[0;34m\u001b[0m\n\u001b[1;32m      1\u001b[0m \u001b[0;31m# setup behavioral data\u001b[0m\u001b[0;34m\u001b[0m\u001b[0;34m\u001b[0m\u001b[0;34m\u001b[0m\u001b[0m\n\u001b[1;32m      2\u001b[0m \u001b[0mbehavioral_file\u001b[0m\u001b[0;34m=\u001b[0m\u001b[0;34m'/projects/niblab/experiments/chocolate_milkshake/data/behavioral/behavioral_wave1.csv'\u001b[0m\u001b[0;34m\u001b[0m\u001b[0;34m\u001b[0m\u001b[0m\n\u001b[0;32m----> 3\u001b[0;31m \u001b[0mcpm_instance\u001b[0m\u001b[0;34m=\u001b[0m\u001b[0mfMRIcpm\u001b[0m\u001b[0;34m(\u001b[0m\u001b[0mbehavioral_file\u001b[0m\u001b[0;34m)\u001b[0m\u001b[0;34m\u001b[0m\u001b[0;34m\u001b[0m\u001b[0m\n\u001b[0m\u001b[1;32m      4\u001b[0m \u001b[0;34m\u001b[0m\u001b[0m\n",
      "\u001b[0;31mNameError\u001b[0m: name 'fMRIcpm' is not defined"
     ],
     "ename": "NameError",
     "evalue": "name 'fMRIcpm' is not defined",
     "output_type": "error"
    }
   ],
   "source": [
    "# setup behavioral data\n",
    "behavioral_file='/Users/nikkibytes/Documents/local_dev/chocolate_milkshake/data/behavioral/W1-W4_Chocolate_data_final.csv'\n",
    "cpm_instance=fMRIcpm(behavioral_file)"
   ]
  },
  {
   "cell_type": "code",
   "execution_count": 8,
   "metadata": {
    "pycharm": {
     "is_executing": false
    }
   },
   "outputs": [
    {
     "traceback": [
      "\u001b[0;31m---------------------------------------------------------------------------\u001b[0m",
      "\u001b[0;31mNameError\u001b[0m                                 Traceback (most recent call last)",
      "\u001b[0;32m<ipython-input-8-3b9650f3c077>\u001b[0m in \u001b[0;36m<module>\u001b[0;34m\u001b[0m\n\u001b[1;32m      1\u001b[0m \u001b[0;31m# step 1: Prepare input data\u001b[0m\u001b[0;34m\u001b[0m\u001b[0;34m\u001b[0m\u001b[0;34m\u001b[0m\u001b[0m\n\u001b[0;32m----> 2\u001b[0;31m behavioral, subject_ids=cpm_instance.behavioral_prep(subj_key=\"ID\",\n\u001b[0m\u001b[1;32m      3\u001b[0m                                                     \u001b[0mconcat_sub\u001b[0m\u001b[0;34m=\u001b[0m\u001b[0;32mTrue\u001b[0m\u001b[0;34m,\u001b[0m\u001b[0;34m\u001b[0m\u001b[0;34m\u001b[0m\u001b[0m\n\u001b[1;32m      4\u001b[0m                                                     set_index=True)\n\u001b[1;32m      5\u001b[0m \u001b[0;31m#def cpm_data_prep():\u001b[0m\u001b[0;34m\u001b[0m\u001b[0;34m\u001b[0m\u001b[0;34m\u001b[0m\u001b[0m\n",
      "\u001b[0;31mNameError\u001b[0m: name 'cpm_instance' is not defined"
     ],
     "ename": "NameError",
     "evalue": "name 'cpm_instance' is not defined",
     "output_type": "error"
    }
   ],
   "source": [
    "# step 1: Prepare input data\n",
    "behavioral, subject_ids=cpm_instance.behavioral_prep(subj_key=\"ID\",\n",
    "                                                    concat_sub=True,\n",
    "                                                    set_index=True)\n",
    "#def cpm_data_prep():\n",
    "    "
   ]
  },
  {
   "cell_type": "code",
   "execution_count": 9,
   "metadata": {
    "pycharm": {
     "is_executing": false
    }
   },
   "outputs": [
    {
     "traceback": [
      "\u001b[0;31m---------------------------------------------------------------------------\u001b[0m",
      "\u001b[0;31mNameError\u001b[0m                                 Traceback (most recent call last)",
      "\u001b[0;32m<ipython-input-9-d69a87e6d787>\u001b[0m in \u001b[0;36m<module>\u001b[0;34m\u001b[0m\n\u001b[0;32m----> 1\u001b[0;31m \u001b[0mbehavioral\u001b[0m\u001b[0;34m.\u001b[0m\u001b[0mkeys\u001b[0m\u001b[0;34m(\u001b[0m\u001b[0;34m)\u001b[0m\u001b[0;34m\u001b[0m\u001b[0;34m\u001b[0m\u001b[0m\n\u001b[0m\u001b[1;32m      2\u001b[0m \u001b[0;34m\u001b[0m\u001b[0m\n",
      "\u001b[0;31mNameError\u001b[0m: name 'behavioral' is not defined"
     ],
     "ename": "NameError",
     "evalue": "name 'behavioral' is not defined",
     "output_type": "error"
    }
   ],
   "source": [
    "behavioral.keys()"
   ]
  },
  {
   "cell_type": "code",
   "execution_count": 9,
   "metadata": {},
   "outputs": [
    {
     "data": {
      "text/html": [
       "<div>\n",
       "<style scoped>\n",
       "    .dataframe tbody tr th:only-of-type {\n",
       "        vertical-align: middle;\n",
       "    }\n",
       "\n",
       "    .dataframe tbody tr th {\n",
       "        vertical-align: top;\n",
       "    }\n",
       "\n",
       "    .dataframe thead th {\n",
       "        text-align: right;\n",
       "    }\n",
       "</style>\n",
       "<table border=\"1\" class=\"dataframe\">\n",
       "  <thead>\n",
       "    <tr style=\"text-align: right;\">\n",
       "      <th></th>\n",
       "      <th>Scan Date</th>\n",
       "      <th>Scan time</th>\n",
       "      <th>Ate (hrs)</th>\n",
       "      <th>Hunger</th>\n",
       "      <th>Snack</th>\n",
       "      <th>Sex (1=m, 2=f)</th>\n",
       "      <th>Protocol #</th>\n",
       "      <th>Paradigm 1</th>\n",
       "      <th>Paradigm 2</th>\n",
       "      <th>Paradigm 3</th>\n",
       "      <th>Paradigm 4</th>\n",
       "      <th>Paradigm 5</th>\n",
       "      <th>Paradigm 6</th>\n",
       "      <th>Paradigm 7</th>\n",
       "      <th>Notes:</th>\n",
       "    </tr>\n",
       "    <tr>\n",
       "      <th>ID</th>\n",
       "      <th></th>\n",
       "      <th></th>\n",
       "      <th></th>\n",
       "      <th></th>\n",
       "      <th></th>\n",
       "      <th></th>\n",
       "      <th></th>\n",
       "      <th></th>\n",
       "      <th></th>\n",
       "      <th></th>\n",
       "      <th></th>\n",
       "      <th></th>\n",
       "      <th></th>\n",
       "      <th></th>\n",
       "      <th></th>\n",
       "    </tr>\n",
       "  </thead>\n",
       "  <tbody>\n",
       "    <tr>\n",
       "      <th>sub-1</th>\n",
       "      <td>8/4/2012</td>\n",
       "      <td>12:03</td>\n",
       "      <td>2.0</td>\n",
       "      <td>6.0</td>\n",
       "      <td>0.0</td>\n",
       "      <td>1.0</td>\n",
       "      <td>3.0</td>\n",
       "      <td>local field map</td>\n",
       "      <td>imagine</td>\n",
       "      <td>milkB</td>\n",
       "      <td>milkC</td>\n",
       "      <td>GNG1</td>\n",
       "      <td>GNG2</td>\n",
       "      <td>rage</td>\n",
       "      <td>NaN</td>\n",
       "    </tr>\n",
       "    <tr>\n",
       "      <th>sub-2</th>\n",
       "      <td>6/29/2012</td>\n",
       "      <td>13:30</td>\n",
       "      <td>4.0</td>\n",
       "      <td>4.0</td>\n",
       "      <td>0.0</td>\n",
       "      <td>1.0</td>\n",
       "      <td>999.0</td>\n",
       "      <td>local field map</td>\n",
       "      <td>milkA</td>\n",
       "      <td>milkB</td>\n",
       "      <td>rage</td>\n",
       "      <td>imagine</td>\n",
       "      <td>GNG1</td>\n",
       "      <td>GNG2</td>\n",
       "      <td>NaN</td>\n",
       "    </tr>\n",
       "    <tr>\n",
       "      <th>sub-3</th>\n",
       "      <td>NaN</td>\n",
       "      <td>NaN</td>\n",
       "      <td>NaN</td>\n",
       "      <td>NaN</td>\n",
       "      <td>NaN</td>\n",
       "      <td>NaN</td>\n",
       "      <td>NaN</td>\n",
       "      <td>NaN</td>\n",
       "      <td>NaN</td>\n",
       "      <td>NaN</td>\n",
       "      <td>NaN</td>\n",
       "      <td>NaN</td>\n",
       "      <td>NaN</td>\n",
       "      <td>NaN</td>\n",
       "      <td>NaN</td>\n",
       "    </tr>\n",
       "    <tr>\n",
       "      <th>sub-4</th>\n",
       "      <td>30-Jul</td>\n",
       "      <td>15:13</td>\n",
       "      <td>999.0</td>\n",
       "      <td>7.0</td>\n",
       "      <td>0.0</td>\n",
       "      <td>2.0</td>\n",
       "      <td>1.0</td>\n",
       "      <td>local field map</td>\n",
       "      <td>milkA</td>\n",
       "      <td>milkB</td>\n",
       "      <td>imagine</td>\n",
       "      <td>GNG1</td>\n",
       "      <td>GNG2</td>\n",
       "      <td>rage</td>\n",
       "      <td>NaN</td>\n",
       "    </tr>\n",
       "    <tr>\n",
       "      <th>sub-5</th>\n",
       "      <td>8/5/2012</td>\n",
       "      <td>10:05</td>\n",
       "      <td>8.0</td>\n",
       "      <td>7.0</td>\n",
       "      <td>0.0</td>\n",
       "      <td>1.0</td>\n",
       "      <td>4.0</td>\n",
       "      <td>local field map</td>\n",
       "      <td>milkC</td>\n",
       "      <td>milkB</td>\n",
       "      <td>imagine</td>\n",
       "      <td>GNG2</td>\n",
       "      <td>GNG1</td>\n",
       "      <td>rage</td>\n",
       "      <td>NaN</td>\n",
       "    </tr>\n",
       "  </tbody>\n",
       "</table>\n",
       "</div>"
      ],
      "text/plain": [
       "       Scan Date Scan time  Ate (hrs)  Hunger  Snack  Sex (1=m, 2=f)  \\\n",
       "ID                                                                     \n",
       "sub-1   8/4/2012     12:03        2.0     6.0    0.0             1.0   \n",
       "sub-2  6/29/2012     13:30        4.0     4.0    0.0             1.0   \n",
       "sub-3        NaN       NaN        NaN     NaN    NaN             NaN   \n",
       "sub-4     30-Jul     15:13      999.0     7.0    0.0             2.0   \n",
       "sub-5   8/5/2012     10:05        8.0     7.0    0.0             1.0   \n",
       "\n",
       "       Protocol #       Paradigm 1 Paradigm 2 Paradigm 3 Paradigm 4  \\\n",
       "ID                                                                    \n",
       "sub-1         3.0  local field map    imagine      milkB      milkC   \n",
       "sub-2       999.0  local field map      milkA      milkB       rage   \n",
       "sub-3         NaN              NaN        NaN        NaN        NaN   \n",
       "sub-4         1.0  local field map      milkA      milkB    imagine   \n",
       "sub-5         4.0  local field map      milkC      milkB    imagine   \n",
       "\n",
       "      Paradigm 5 Paradigm 6 Paradigm 7 Notes:  \n",
       "ID                                             \n",
       "sub-1       GNG1       GNG2       rage    NaN  \n",
       "sub-2    imagine       GNG1       GNG2    NaN  \n",
       "sub-3        NaN        NaN        NaN    NaN  \n",
       "sub-4       GNG1       GNG2       rage    NaN  \n",
       "sub-5       GNG2       GNG1       rage    NaN  "
      ]
     },
     "execution_count": 9,
     "metadata": {},
     "output_type": "execute_result"
    }
   ],
   "source": [
    "behavioral.head()"
   ]
  },
  {
   "cell_type": "code",
   "execution_count": 10,
   "metadata": {},
   "outputs": [
    {
     "name": "stdout",
     "output_type": "stream",
     "text": [
      "['sub-1', 'sub-2', 'sub-3', 'sub-4', 'sub-5', 'sub-6', 'sub-7', 'sub-8', 'sub-9', 'sub-10', 'sub-11', 'sub-12', 'sub-13', 'sub-14', 'sub-15', 'sub-16', 'sub-17', 'sub-18', 'sub-19', 'sub-20', 'sub-21', 'sub-22', 'sub-23', 'sub-24', 'sub-25', 'sub-26', 'sub-27', 'sub-28', 'sub-29', 'sub-30', 'sub-31', 'sub-32', 'sub-33', 'sub-34', 'sub-35', 'sub-36', 'sub-37', 'sub-38', 'sub-39', 'sub-40', 'sub-41', 'sub-42', 'sub-43', 'sub-44', 'sub-45', 'sub-46', 'sub-47', 'sub-48', 'sub-49', 'sub-50', 'sub-51', 'sub-52', 'sub-53', 'sub-54', 'sub-55', 'sub-56', 'sub-57', 'sub-58', 'sub-59', 'sub-60', 'sub-61', 'sub-62', 'sub-63', 'sub-64', 'sub-65', 'sub-66', 'sub-67', 'sub-68', 'sub-69', 'sub-70', 'sub-71', 'sub-72', 'sub-73', 'sub-74', 'sub-75', 'sub-76', 'sub-77', 'sub-78', 'sub-79', 'sub-80', 'sub-81', 'sub-82', 'sub-83', 'sub-84', 'sub-85', 'sub-86', 'sub-87', 'sub-88', 'sub-89', 'sub-90', 'sub-91', 'sub-92', 'sub-93', 'sub-94', 'sub-95', 'sub-96', 'sub-97', 'sub-98', 'sub-99']\n"
     ]
    }
   ],
   "source": [
    "# drop ids that arent in functional list \n",
    "remove_ids=[x for x in behavioral.index.values if x not in subject_ids]\n",
    "print(remove_ids)"
   ]
  },
  {
   "cell_type": "code",
   "execution_count": null,
   "metadata": {},
   "outputs": [],
   "source": []
  }
 ],
 "metadata": {
  "kernelspec": {
   "display_name": "Python 3",
   "language": "python",
   "name": "python3"
  },
  "language_info": {
   "codemirror_mode": {
    "name": "ipython",
    "version": 3
   },
   "file_extension": ".py",
   "mimetype": "text/x-python",
   "name": "python",
   "nbconvert_exporter": "python",
   "pygments_lexer": "ipython3",
   "version": "3.7.8"
  },
  "pycharm": {
   "stem_cell": {
    "cell_type": "raw",
    "source": [],
    "metadata": {
     "collapsed": false
    }
   }
  }
 },
 "nbformat": 4,
 "nbformat_minor": 4
}