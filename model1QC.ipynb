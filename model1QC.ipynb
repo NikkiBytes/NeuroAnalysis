{
 "cells": [
  {
   "cell_type": "markdown",
   "id": "6ea953c0",
   "metadata": {},
   "source": [
    "# Model 1 Analysis"
   ]
  },
  {
   "cell_type": "markdown",
   "id": "bd0ed9e7",
   "metadata": {},
   "source": [
    "Using nilearn to plot brain images post feat1 analysis"
   ]
  },
  {
   "cell_type": "code",
   "execution_count": null,
   "id": "27ad39ec",
   "metadata": {},
   "outputs": [],
   "source": [
    "def display_fsl_feat1(sub,sess,ext):\n",
    "    \n",
    "    feat1_zstats=glob.glob(os.path.join(preproc_path, 'subs_trimmed/%s/%s/fsl_feat1/*%s.feat/stats/zstat6.nii.gz'%(sub, sess, ext)))\n",
    "    run_ct=len(feat1_zstats)\n",
    "    \n",
    "    if run_ct > 2:\n",
    "        nrows=2\n",
    "    else:\n",
    "        nrows=1\n",
    "        \n",
    "    #fig, axes = plt.subplots(nrows=nrows, ncols=len(feat1_zstats), figsize=(12, 8))\n",
    "    p001_unc = norm.isf(0.001)\n",
    "    feat1_zstats.sort()\n",
    "    \n",
    "    for midx, zstat in enumerate(feat1_zstats):\n",
    "        run = zstat.split(\"/\")[-3].split(\"_\")[3]\n",
    "\n",
    "        title_str=\"%s %s\"%(sub, run)\n",
    "        \n",
    "        plotting.plot_glass_brain(zstat, colorbar=True, threshold=p001_unc, cmap='viridis',\n",
    "                          plot_abs=False, display_mode='x', title=title_str)\n",
    "                         # axes=axes[int(midx / 2), int(midx % 2)], )\n",
    "        #fig.suptitle('subjects z_map taste network (unc p<0.001)')\n",
    "        plotting.show()"
   ]
  },
  {
   "cell_type": "code",
   "execution_count": null,
   "id": "ee34d1e8",
   "metadata": {},
   "outputs": [],
   "source": [
    "from nilearn import plotting\n",
    "from scipy.stats import norm\n",
    "sub_id='sub-044'\n",
    "display_fsl_feat1(sub_id,'ses-2','19contrasts')\n",
    "\n",
    "    \n"
   ]
  },
  {
   "cell_type": "markdown",
   "id": "565feffd",
   "metadata": {},
   "source": [
    "---"
   ]
  }
 ],
 "metadata": {
  "kernelspec": {
   "display_name": "Python 3",
   "language": "python",
   "name": "python3"
  },
  "language_info": {
   "codemirror_mode": {
    "name": "ipython",
    "version": 3
   },
   "file_extension": ".py",
   "mimetype": "text/x-python",
   "name": "python",
   "nbconvert_exporter": "python",
   "pygments_lexer": "ipython3",
   "version": "3.8.10"
  }
 },
 "nbformat": 4,
 "nbformat_minor": 5
}
