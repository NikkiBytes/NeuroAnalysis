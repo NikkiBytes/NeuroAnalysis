{
 "cells": [
  {
   "cell_type": "markdown",
   "metadata": {},
   "source": [
    "# Decoding with ANOVA + SVM: Chocolate Data -- milkshake \n",
    "### This is a simple decoding using feature selection followed by an SVM.  \n",
    "Reference: http://nilearn.github.io/auto_examples/02_decoding/plot_haxby_anova_svm.html#sphx-glr-auto-examples-02-decoding-plot-haxby-anova-svm-py"
   ]
  },
  {
   "cell_type": "code",
   "execution_count": 2,
   "metadata": {},
   "outputs": [],
   "source": [
    "#this imports all the commands needed for the script to work#\n",
    "import os\n",
    "import numpy as np\n",
    "import nilearn\n",
    "import glob\n",
    "#import matplotlib\n",
    "import nibabel as nib\n",
    "import pandas as pd \n",
    "from nilearn.input_data import NiftiMasker \n",
    "import numpy as np\n",
    "np.seterr(divide='ignore', invalid='ignore')\n",
    "import warnings\n",
    "warnings.filterwarnings(\"ignore\")\n",
    "import matplotlib\n",
    "matplotlib.use('Agg')"
   ]
  },
  {
   "cell_type": "code",
   "execution_count": null,
   "metadata": {},
   "outputs": [],
   "source": [
    "\n",
    "#image mask\n",
    "imag_mask='/projects/niblab/bids_projects/Experiments/ChocoData/images/power_roimask_4bi.nii.gz'\n",
    "#our behavioral csv file \n",
    "stim = '/projects/niblab/bids_projects/Experiments/ChocoData/behavorial_data/milkshake_all.csv'\n",
    "#our dataset concatenated image \n",
    "dataset='/projects/niblab/bids_projects/Experiments/ChocoData/images/milkshake_all.nii.gz'\n",
    "#load behavioral data into a pandas df\n",
    "behavioral = pd.read_csv(stim, sep=\"\\t\")\n",
    "#grab conditional labels \n",
    "y = behavioral[\"Label\"]\n",
    "\n",
    "#restrict data to our target analysis \n",
    "condition_mask = behavioral[\"Label\"].isin(['LF_LS_receipt', \"h20_receipt\"])\n",
    "y = y[condition_mask]\n",
    "#confirm we have the # of condtions needed\n",
    "print(y.unique())\n"
   ]
  },
  {
   "cell_type": "code",
   "execution_count": null,
   "metadata": {},
   "outputs": [],
   "source": [
    "masker = NiftiMasker(mask_img=imag_mask,\n",
    "                     standardize=True, memory=\"nilearn_cache\", memory_level=6)\n",
    "X = masker.fit_transform(dataset)\n",
    "# Apply our condition_mask\n",
    "X = X[condition_mask]\n"
   ]
  },
  {
   "cell_type": "markdown",
   "metadata": {},
   "source": [
    "### Here we are settting up the SVM model, starting with a linear kernel "
   ]
  },
  {
   "cell_type": "code",
   "execution_count": null,
   "metadata": {},
   "outputs": [],
   "source": [
    "from sklearn.svm import SVC\n",
    "svc = SVC(kernel='linear')\n",
    "\n",
    "from sklearn.feature_selection import SelectKBest, f_classif\n",
    "feature_selection = SelectKBest(f_classif, k=500)\n",
    "\n",
    "# We have our classifier (SVC), our feature selection (SelectKBest), and now,\n",
    "# we can plug them together in a *pipeline* that performs the two operations\n",
    "# successively:\n",
    "from sklearn.pipeline import Pipeline\n",
    "anova_svc = Pipeline([('anova', feature_selection), ('svc', svc)])\n"
   ]
  },
  {
   "cell_type": "markdown",
   "metadata": {},
   "source": [
    "### Now we are fitting our model then using nested cross-validation with a CV of 5 and 11 k ranges. "
   ]
  },
  {
   "cell_type": "code",
   "execution_count": null,
   "metadata": {},
   "outputs": [],
   "source": [
    "anova_svc.fit(X,y)\n",
    "y_pred = anova_svc.predict(X)\n",
    "\n",
    "from sklearn.model_selection import cross_val_score\n",
    "\n",
    "\n",
    "k_range = [10, 15, 30, 50, 150, 300, 500, 1000, 1500, 3000, 5000]\n",
    "    \n",
    "# Here we run gridsearch\n",
    "from sklearn.model_selection import GridSearchCV\n",
    "# We are going to tune the parameter 'k' of the step called 'anova' in\n",
    "# the pipeline. Thus we need to address it as 'anova__k'.\n",
    "\n",
    "# Note that GridSearchCV takes an n_jobs argument that can make it go\n",
    "# much faster'\n",
    "grid = GridSearchCV(anova_svc, param_grid={'anova__k': k_range}, verbose=1, n_jobs=1, cv=5)\n",
    "nested_cv_scores = cross_val_score(grid, X, y, cv=5)\n",
    "\n",
    "print(\"Nested CV score: %.4f\" % np.mean(nested_cv_scores))"
   ]
  },
  {
   "cell_type": "markdown",
   "metadata": {},
   "source": [
    "### Finally we get a visualization of the deocding and an image that holds the coefficients "
   ]
  },
  {
   "cell_type": "code",
   "execution_count": null,
   "metadata": {},
   "outputs": [],
   "source": [
    "# Here is the image \n",
    "coef = svc.coef_\n",
    "# reverse feature selection\n",
    "coef = feature_selection.inverse_transform(coef)\n",
    "# reverse masking\n",
    "weight_img = masker.inverse_transform(coef)\n",
    "\n",
    "\n",
    "# Use the mean image as a background to avoid relying on anatomical data\n",
    "from nilearn import image\n",
    "mean_img = image.mean_img(dataset)\n",
    "mean_img.to_filename('/projects/niblab/bids_projects/Experiments/ChocoData/derivatives/images/all_LF_HS_milkshake_mean_nimask.nii')\n",
    "\n",
    "# Create the figure\n",
    "from nilearn.plotting import plot_stat_map, show\n",
    "display = plot_stat_map(weight_img, mean_img, title='SVM weights LF_HS vs h2O')\n",
    "display.savefig('/projects/niblab/bids_projects/Experiments/ChocoData/derivatives/images/all_LF_HS_milkshake_nestCV_nimask.png')\n",
    "# Saving the results as a Nifti file may also be important\n",
    "weight_img.to_filename('/projects/niblab/bids_projects/Experiments/ChocoData/derivatives/images/all_LF_HS_milkshake_nestCV_nimask.nii')\n",
    "\n"
   ]
  }
 ],
 "metadata": {
  "kernelspec": {
   "display_name": "Python 3",
   "language": "python",
   "name": "python3"
  },
  "language_info": {
   "codemirror_mode": {
    "name": "ipython",
    "version": 3
   },
   "file_extension": ".py",
   "mimetype": "text/x-python",
   "name": "python",
   "nbconvert_exporter": "python",
   "pygments_lexer": "ipython3",
   "version": "3.6.7"
  }
 },
 "nbformat": 4,
 "nbformat_minor": 2
}
