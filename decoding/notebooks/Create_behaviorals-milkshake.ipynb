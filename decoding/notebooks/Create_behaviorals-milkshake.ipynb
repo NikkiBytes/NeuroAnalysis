{
 "cells": [
  {
   "cell_type": "markdown",
   "metadata": {},
   "source": [
    "### Concatenate milkshake attribute files:\n",
    "- make list of subjects and their specific label (A, B, C , D)\n",
    "- concatenate `*_attr.txt` for individual subject\n",
    "- concatenate each file created above into behavorial file, save only this file  \n",
    "**Remember to keep order of files**"
   ]
  },
  {
   "cell_type": "code",
   "execution_count": 1,
   "metadata": {},
   "outputs": [],
   "source": [
    "import glob, os "
   ]
  },
  {
   "cell_type": "code",
   "execution_count": null,
   "metadata": {},
   "outputs": [],
   "source": [
    "# Step one -get subjects\n",
    "subjects=sorted(glob.glob(os.path.join('/projects/niblab/data/eric_data/W1/milkshake/level1_grace_edit', \"cs1*\")))\n",
    "subj_dict = {}\n",
    "for dir_path in subjects: \n",
    "    dir_name = dir_path.split('/')[-1]\n",
    "    subj = dir_name.split(\"_\")[0].split(\"s\")[1]\n",
    "    subj_dict[subj] = [] \n",
    "# -add corresponding milkshake label     \n",
    "for d in subjects:\n",
    "    dir_name = d.split(\"/\")[-1] \n",
    "    mlk = dir_name.split(\"_\")[1].split(\".\")[0]\n",
    "    subj = dir_name.split(\"_\")[0].split(\"s\")[1]\n",
    "    subj_dict[subj].append(mlk)\n",
    "temp_out = \"/projects/niblab/bids_projects/Experiments/ChocoData/behavorial_data/temp\"\n",
    "for sub in subj_dict:\n",
    "    file = open(temp_out+\"/tempfile_%s\"%sub, 'a')\n",
    "    for label in subj_dict[sub]:\n",
    "        fileX = '/projects/niblab/data/eric_data/ev_files/milkshake/%s_attr.txt'%label\n",
    "        fileX_contents = open(fileX, 'r')\n",
    "        data = fileX_contents.read()\n",
    "        fileX_contents.close()\n",
    "        file.write(data)\n",
    "    file.close()\n",
    "        \n",
    "fileout = open(\"/projects/niblab/bids_projects/Experiments/ChocoData/behavorial_data/sub-001.txt\", \"a\")\n",
    "fileout.write(\"Label sess\\n\")\n",
    "tempfiles=sorted(glob.glob(\"/projects/niblab/bids_projects/Experiments/ChocoData/behavorial_data/temp/tempfile_*\"))\n",
    "\n",
    "\n",
    "for f in tempfiles:\n",
    "    print(\"adding file %s\"%f)\n",
    "    f_contents = open(f, \"r\")\n",
    "    data=f_contents.read()\n",
    "    f_contents.close()\n",
    "    fileout.write(data)\n",
    "    \n",
    "fileout.close()\n",
    "\n",
    "# WHEN READY - remove temp files\n",
    "#os.remove(tempfiles)\n",
    "\n"
   ]
  },
  {
   "cell_type": "code",
   "execution_count": null,
   "metadata": {},
   "outputs": [],
   "source": [
    "# MAKE CSV FILE WITH PANDAS\n",
    "import pandas as pd\n",
    "df=pd.read_csv(\"/projects/niblab/bids_projects/Experiments/ChocoData/behavorial_data/w1_milkshake_100.txt\", sep=' ')\n",
    "\n",
    "replace_ct=.2*df.size\n",
    "#df.tail(int(replace_ct))\n",
    "df['sess'].tail(int(replace_ct)).replace(0,1, inplace=True)\n",
    "\n",
    "df.to_csv(\"/projects/niblab/bids_projects/Experiments/ChocoData/behavorial_data/w1_milkshake_100.csv\", sep='\\t', index=False)\n"
   ]
  },
  {
   "cell_type": "code",
   "execution_count": null,
   "metadata": {},
   "outputs": [],
   "source": [
    "# Step one -get subjects\n",
    "subjects=sorted(glob.glob(os.path.join('/projects/niblab/data/eric_data/W1/milkshake/level1_grace_edit', \"cs1*\")))\n",
    "subj_dict = {}\n",
    "for dir_path in subjects: \n",
    "    dir_name = dir_path.split('/')[-1]\n",
    "    subj = dir_name.split(\"_\")[0].split(\"s\")[1]\n",
    "    subj_dict[subj] = [] \n",
    "# -add corresponding milkshake label     \n",
    "for d in subjects:\n",
    "    dir_name = d.split(\"/\")[-1] \n",
    "    mlk = dir_name.split(\"_\")[1].split(\".\")[0]\n",
    "    subj = dir_name.split(\"_\")[0].split(\"s\")[1]\n",
    "    subj_dict[subj].append(mlk)\n",
    "temp_out = \"/projects/niblab/bids_projects/Experiments/ChocoData/behavorial_data/temp\"\n",
    "for sub in subj_dict:\n",
    "    file = open(temp_out+\"/tempfile_%s\"%sub, 'a')\n",
    "    for label in subj_dict[sub]:\n",
    "        fileX = '/projects/niblab/data/eric_data/ev_files/milkshake/%s_attr.txt'%label\n",
    "        fileX_contents = open(fileX, 'r')\n",
    "        data = fileX_contents.read()\n",
    "        fileX_contents.close()\n",
    "        file.write(data)\n",
    "    file.close()\n",
    "        \n",
    "fileout = open(\"/projects/niblab/bids_projects/Experiments/ChocoData/behavorial_data/sub-001.txt\", \"a\")\n",
    "fileout.write(\"Label sess\\n\")\n",
    "tempfiles=sorted(glob.glob(\"/projects/niblab/bids_projects/Experiments/ChocoData/behavorial_data/temp/tempfile_*\"))\n",
    "\n",
    "\n",
    "for f in tempfiles:\n",
    "    print(\"adding file %s\"%f)\n",
    "    f_contents = open(f, \"r\")\n",
    "    data=f_contents.read()\n",
    "    f_contents.close()\n",
    "    fileout.write(data)\n",
    "    \n",
    "fileout.close()\n",
    "\n",
    "# WHEN READY - remove temp files\n",
    "#os.remove(tempfiles)\n",
    "\n"
   ]
  },
  {
   "cell_type": "code",
   "execution_count": null,
   "metadata": {},
   "outputs": [],
   "source": [
    "# MAKE CSV FILE WITH PANDAS\n",
    "import pandas as pd\n",
    "df=pd.read_csv(\"/projects/niblab/bids_projects/Experiments/ChocoData/behavorial_data/4w_smallset.txt\", sep=' ')\n",
    "\n",
    "replace_ct=.2*df.size\n",
    "#df.tail(int(replace_ct))\n",
    "df['sess'].tail(int(replace_ct)).replace(0,1, inplace=True)\n",
    "\n",
    "df.to_csv(\"/projects/niblab/bids_projects/Experiments/ChocoData/behavorial_data/4w_smallset.csv\", sep='\\t', index=False)\n"
   ]
  }
 ],
 "metadata": {
  "kernelspec": {
   "display_name": "Python 3",
   "language": "python",
   "name": "python3"
  },
  "language_info": {
   "codemirror_mode": {
    "name": "ipython",
    "version": 3
   },
   "file_extension": ".py",
   "mimetype": "text/x-python",
   "name": "python",
   "nbconvert_exporter": "python",
   "pygments_lexer": "ipython3",
   "version": "3.6.7"
  }
 },
 "nbformat": 4,
 "nbformat_minor": 2
}
