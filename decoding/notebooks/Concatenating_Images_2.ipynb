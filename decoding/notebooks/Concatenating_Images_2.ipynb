{
 "cells": [
  {
   "cell_type": "code",
   "execution_count": null,
   "metadata": {},
   "outputs": [],
   "source": [
    "import glob, os\n",
    "import numpy as np\n",
    "import nibabel as nib"
   ]
  },
  {
   "cell_type": "code",
   "execution_count": null,
   "metadata": {},
   "outputs": [],
   "source": [
    "FILENAME=\"w1_milkshake_all.nii.gz\"\n",
    "\n",
    "basepath='/projects/niblab/data/eric_data/W1/milkshake'\n",
    "outpath = \"/projects/niblab/bids_projects/Experiments/ChocoData/images\"\n",
    "all_func = glob.glob(os.path.join(basepath,'level1_grace_edit','cs1*.feat','filtered_func_data.nii.gz'))\n",
    "all_func = sorted(all_func)\n",
    "\n",
    "#load in all the files from the glob above, then convert them from nifti1 to nifti2\\n\",\n",
    "ni2_funcs = (nib.Nifti2Image.from_image(nib.load(func)) for func in all_func)\n",
    "#concat, this is with nibabel, but should work with nilearn too\n",
    "ni2_concat = nib.concat_images(ni2_funcs, check_affines=False, axis=3)\n",
    "#set the output file name\n",
    "outfile=os.path.join(outpath,FILENAME)\n",
    "#write the file\n",
    "ni2_concat.to_filename(outfile)"
   ]
  },
  {
   "cell_type": "code",
   "execution_count": null,
   "metadata": {},
   "outputs": [],
   "source": [
    "FILENAME=\"w2_milkshake_all.nii.gz\"\n",
    "\n",
    "DERIV_DIR = '/projects/niblab/bids_projects/Experiments/ChocoData/derivatives'\n",
    "outpath = \"/projects/niblab/bids_projects/Experiments/ChocoData/images\"\n",
    "SESS=\"ses-2\"\n",
    "all_func = sorted(glob.glob(os.path.join(DERIV_DIR, \"sub-*\", SESS, \"func/Analysis/feat1/task*/filtered_func_data.nii.gz\")))\n",
    "\n",
    "#load in all the files from the glob above, then convert them from nifti1 to nifti2\\n\",\n",
    "ni2_funcs = (nib.Nifti2Image.from_image(nib.load(func)) for func in all_func)\n",
    "#concat, this is with nibabel, but should work with nilearn too\n",
    "ni2_concat = nib.concat_images(ni2_funcs, check_affines=False, axis=3)\n",
    "#set the output file name\n",
    "outfile=os.path.join(outpath,FILENAME)\n",
    "#write the file\n",
    "ni2_concat.to_filename(outfile)"
   ]
  },
  {
   "cell_type": "code",
   "execution_count": null,
   "metadata": {},
   "outputs": [],
   "source": [
    "FILENAME=\"w1_milkshake_all.nii.gz\"\n",
    "\n",
    "DERIV_DIR = '/projects/niblab/bids_projects/Experiments/ChocoData/derivatives'\n",
    "outpath = \"/projects/niblab/bids_projects/Experiments/ChocoData/images\"\n",
    "SESS=\"ses-1\"\n",
    "all_func = sorted(glob.glob(os.path.join(DERIV_DIR, \"sub-*\", SESS, \"func/Analysis/feat1/task*/filtered_func_data.nii.gz\")))\n",
    "\n",
    "#load in all the files from the glob above, then convert them from nifti1 to nifti2\\n\",\n",
    "ni2_funcs = (nib.Nifti2Image.from_image(nib.load(func)) for func in all_func)\n",
    "#concat, this is with nibabel, but should work with nilearn too\n",
    "ni2_concat = nib.concat_images(ni2_funcs, check_affines=False, axis=3)\n",
    "#set the output file name\n",
    "outfile=os.path.join(outpath,FILENAME)\n",
    "#write the file\n",
    "ni2_concat.to_filename(outfile)"
   ]
  },
  {
   "cell_type": "code",
   "execution_count": null,
   "metadata": {},
   "outputs": [],
   "source": [
    "FILENAME=\"w4_milkshake_all.nii.gz\"\n",
    "\n",
    "DERIV_DIR = '/projects/niblab/bids_projects/Experiments/ChocoData/derivatives'\n",
    "outpath = \"/projects/niblab/bids_projects/Experiments/ChocoData/images\"\n",
    "SESS=\"ses-4\"\n",
    "all_func = sorted(glob.glob(os.path.join(DERIV_DIR, \"sub-*\", SESS, \"func/Analysis/feat1/task*/filtered_func_data.nii.gz\")))\n",
    "\n",
    "#load in all the files from the glob above, then convert them from nifti1 to nifti2\\n\",\n",
    "ni2_funcs = (nib.Nifti2Image.from_image(nib.load(func)) for func in all_func)\n",
    "#concat, this is with nibabel, but should work with nilearn too\n",
    "ni2_concat = nib.concat_images(ni2_funcs, check_affines=False, axis=3)\n",
    "#set the output file name\n",
    "outfile=os.path.join(outpath,FILENAME)\n",
    "#write the file\n",
    "ni2_concat.to_filename(outfile)"
   ]
  },
  {
   "cell_type": "code",
   "execution_count": null,
   "metadata": {},
   "outputs": [],
   "source": [
    "FILENAME=\"w3_milkshake_all.nii.gz\"\n",
    "\n",
    "DERIV_DIR = '/projects/niblab/bids_projects/Experiments/ChocoData/derivatives'\n",
    "outpath = \"/projects/niblab/bids_projects/Experiments/ChocoData/images\"\n",
    "SESS=\"ses-3\"\n",
    "all_func = sorted(glob.glob(os.path.join(DERIV_DIR, \"sub-*\", SESS, \"func/Analysis/feat1/task*/filtered_func_data.nii.gz\")))\n",
    "\n",
    "#load in all the files from the glob above, then convert them from nifti1 to nifti2\\n\",\n",
    "ni2_funcs = (nib.Nifti2Image.from_image(nib.load(func)) for func in all_func)\n",
    "#concat, this is with nibabel, but should work with nilearn too\n",
    "ni2_concat = nib.concat_images(ni2_funcs, check_affines=False, axis=3)\n",
    "#set the output file name\n",
    "outfile=os.path.join(outpath,FILENAME)\n",
    "#write the file\n",
    "ni2_concat.to_filename(outfile)"
   ]
  },
  {
   "cell_type": "code",
   "execution_count": null,
   "metadata": {},
   "outputs": [],
   "source": [
    "FILENAME=\"milkshake_all.nii.gz\"\n",
    "\n",
    "DERIV_DIR = '/projects/niblab/bids_projects/Experiments/ChocoData/derivatives'\n",
    "outpath = \"/projects/niblab/bids_projects/Experiments/ChocoData/images\"\n",
    "all_func = sorted(glob.glob(os.path.join(DERIV_DIR, \"sub-*\", \"ses-*\", \"func/Analysis/feat1/task*/filtered_func_data.nii.gz\")))\n",
    "\n",
    "#load in all the files from the glob above, then convert them from nifti1 to nifti2\\n\",\n",
    "ni2_funcs = (nib.Nifti2Image.from_image(nib.load(func)) for func in all_func)\n",
    "#concat, this is with nibabel, but should work with nilearn too\n",
    "ni2_concat = nib.concat_imagesclear\n",
    "(ni2_funcs, check_affines=False, axis=3)\n",
    "#set the output file name\n",
    "outfile=os.path.join(outpath,FILENAME)\n",
    "#write the file\n",
    "ni2_concat.to_filename(outfile)"
   ]
  },
  {
   "cell_type": "code",
   "execution_count": null,
   "metadata": {},
   "outputs": [],
   "source": [
    "FILENAME=\"milkshake_all.nii.gz\"\n",
    "DERIV_DIR = '/projects/niblab/bids_projects/Experiments/ChocoData/derivatives'\n",
    "outpath = \"/projects/niblab/bids_projects/Experiments/ChocoData/images\"\n",
    "all_func = sorted(glob.glob(os.path.join(outpath, \"*milkshake_all.nii.gz\")))\n",
    "\n",
    "#concat, this is with nibabel, but should work with nilearn too\n",
    "ni2_funcs = (nib.Nifti2Image.from_image(nib.load(func)) for func in all_func)\n",
    "#concat, this is with nibabel, but should work with nilearn too\n",
    "ni2_concat = nib.concat_images(ni2_funcs, check_affines=False, axis=3)\n",
    "#set the output file name\n",
    "outfile=os.path.join(outpath,FILENAME)\n",
    "#write the file\n",
    "ni2_concat.to_filename(outfile)\n"
   ]
  },
  {
   "cell_type": "code",
   "execution_count": null,
   "metadata": {},
   "outputs": [],
   "source": [
    "FILENAME=\"all_milkshake_test.nii.gz\"\n",
    "\n",
    "DERIV_DIR = '/projects/niblab/bids_projects/Experiments/ChocoData/derivatives'\n",
    "outpath = \"/projects/niblab/bids_projects/Experiments/ChocoData/images\"\n",
    "SESS=\"ses-3\"\n",
    "all_func = sorted(glob.glob(os.path.join(DERIV_DIR, \"sub-00*\", 'ses-*', \"func/Analysis/feat1/task*/filtered_func_data.nii.gz\")))\n",
    "\n",
    "#load in all the files from the glob above, then convert them from nifti1 to nifti2\\n\",\n",
    "ni2_funcs = (nib.Nifti2Image.from_image(nib.load(func)) for func in all_func)\n",
    "#concat, this is with nibabel, but should work with nilearn too\n",
    "ni2_concat = nib.concat_images(ni2_funcs, check_affines=False, axis=3)\n",
    "#set the output file name\n",
    "outfile=os.path.join(outpath,FILENAME)\n",
    "#write the file\n",
    "ni2_concat.to_filename(outfile)"
   ]
  }
 ],
 "metadata": {
  "kernelspec": {
   "display_name": "Python 3",
   "language": "python",
   "name": "python3"
  },
  "language_info": {
   "codemirror_mode": {
    "name": "ipython",
    "version": 3
   },
   "file_extension": ".py",
   "mimetype": "text/x-python",
   "name": "python",
   "nbconvert_exporter": "python",
   "pygments_lexer": "ipython3",
   "version": "3.6.7"
  }
 },
 "nbformat": 4,
 "nbformat_minor": 2
}
