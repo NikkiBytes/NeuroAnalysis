{
 "cells": [
  {
   "cell_type": "markdown",
   "metadata": {},
   "source": [
    "# Chocolate Milkshake Data -- small subset"
   ]
  },
  {
   "cell_type": "code",
   "execution_count": null,
   "metadata": {},
   "outputs": [],
   "source": [
    "#this imports all the commands needed for the script to work#\n",
    "import os\n",
    "import numpy as np\n",
    "import nilearn\n",
    "import glob\n",
    "#import matplotlib\n",
    "import nibabel as nib\n",
    "import pandas as pd \n",
    "from nilearn.input_data import NiftiMasker \n",
    "import numpy as np\n",
    "np.seterr(divide='ignore', invalid='ignore')\n",
    "import warnings\n",
    "warnings.filterwarnings(\"ignore\")\n",
    "import matplotlib\n",
    "matplotlib.use('Agg')"
   ]
  },
  {
   "cell_type": "code",
   "execution_count": null,
   "metadata": {},
   "outputs": [],
   "source": [
    "#image mask\n",
    "imag_mask='/projects/niblab/bids_projects/Experiments/ChocoData/images/power_roimask_4bi.nii.gz'\n",
    "#our behavioral csv file \n",
    "stim = '/projects/niblab/bids_projects/Experiments/ChocoData/behavorial_data/w1_milkshake_48.csv'\n",
    "#our dataset concatenated image \n",
    "dataset='/projects/niblab/bids_projects/Experiments/ChocoData/images/w1_milkshake_48.nii.gz'\n",
    "#load behavioral data into a pandas df\n",
    "behavioral = pd.read_csv(stim, sep=\"\\t\")\n",
    "#grab conditional labels \n",
    "conditions = behavioral[\"Label\"]\n",
    "\n",
    "#confirm we have the # of condtions needed\n",
    "print(conditions.unique())\n",
    "\n"
   ]
  },
  {
   "cell_type": "markdown",
   "metadata": {},
   "source": [
    "In [5]: print(conditions.unique())  \n",
    "['rest' 'milkshake_pic' 'LF_HS_receipt' 'rinse' 'HF_HS_receipt'  \n",
    " 'LF_LS_receipt' 'h20_pic' 'h20_receipt' 'HF_LS_receipt']  "
   ]
  },
  {
   "cell_type": "markdown",
   "metadata": {},
   "source": [
    "### LF_HS_receipt vs. h20_receipt"
   ]
  },
  {
   "cell_type": "code",
   "execution_count": null,
   "metadata": {},
   "outputs": [],
   "source": [
    "#restrict data to our target analysis \n",
    "condition_mask = behavioral[\"Label\"].isin(['LF_HS_receipt', \"h20_receipt\"])\n",
    "conditions = conditions[condition_mask]\n",
    "\n",
    "#confirm we have the # of condtions needed\n",
    "print(conditions.unique())\n",
    "\n",
    "# Record these as an array of sessions, with fields\n",
    "session = behavioral[condition_mask].to_records(index=False)\n",
    "print(session.dtype.names)"
   ]
  },
  {
   "cell_type": "code",
   "execution_count": null,
   "metadata": {},
   "outputs": [],
   "source": [
    "# For decoding, standardizing is often very important\n",
    "# note that we are also smoothing the data\n",
    "masker = NiftiMasker(mask_img=imag_mask,\n",
    "                     standardize=True, memory=\"nilearn_cache\", memory_level=1)\n",
    "X = masker.fit_transform(dataset)\n",
    "# Apply our condition_mask\n",
    "X = X[condition_mask]"
   ]
  },
  {
   "cell_type": "code",
   "execution_count": null,
   "metadata": {},
   "outputs": [],
   "source": [
    "from sklearn.svm import SVC\n",
    "svc = SVC(kernel='linear')\n",
    "\n",
    "from sklearn.feature_selection import SelectKBest, f_classif\n",
    "feature_selection = SelectKBest(f_classif, k=500)\n",
    "\n",
    "# We have our classifier (SVC), our feature selection (SelectKBest), and now,\n",
    "# we can plug them together in a *pipeline* that performs the two operations\n",
    "# successively:\n",
    "from sklearn.pipeline import Pipeline\n",
    "anova_svc = Pipeline([('anova', feature_selection), ('svc', svc)])"
   ]
  },
  {
   "cell_type": "code",
   "execution_count": null,
   "metadata": {},
   "outputs": [],
   "source": [
    "anova_svc.fit(X, conditions)\n",
    "y_pred = anova_svc.predict(X)"
   ]
  },
  {
   "cell_type": "code",
   "execution_count": null,
   "metadata": {},
   "outputs": [],
   "source": [
    "from sklearn.model_selection import cross_val_score\n",
    "\n",
    "k_range = [10, 15, 30, 50, 150, 300, 500, 1000, 1500, 3000, 5000]\n",
    "\n",
    "from sklearn.model_selection import GridSearchCV\n",
    "# We are going to tune the parameter 'k' of the step called 'anova' in\n",
    "# the pipeline. Thus we need to address it as 'anova__k'.\n",
    "\n",
    "# Note that GridSearchCV takes an n_jobs argument that can make it go\n",
    "# much faster\n",
    "grid = GridSearchCV(anova_svc, param_grid={'anova__k': k_range}, verbose=1, n_jobs=4, cv=3)\n",
    "nested_cv_scores = cross_val_score(grid, X, conditions, cv=3)\n",
    "\n",
    "print(\"Nested CV score: %.4f\" % np.mean(nested_cv_scores))"
   ]
  },
  {
   "cell_type": "code",
   "execution_count": null,
   "metadata": {},
   "outputs": [],
   "source": [
    "coef = svc.coef_\n",
    "# reverse feature selection\n",
    "coef = feature_selection.inverse_transform(coef)\n",
    "# reverse masking\n",
    "weight_img = masker.inverse_transform(coef)\n",
    "\n",
    "\n",
    "# Use the mean image as a background to avoid relying on anatomical data\n",
    "from nilearn import image\n",
    "mean_img = image.mean_img(dataset)\n",
    "\n",
    "\"\"\" display.savefig('pretty_brain.png')\"\"\"\n",
    "# Create the figure\n",
    "from nilearn.plotting import plot_stat_map, show\n",
    "display = plot_stat_map(weight_img, mean_img, title='SVM weights')\n",
    "display.savefig('svm_milkshake_48_HF_LS_h20.png')\n",
    "# Saving the results as a Nifti file may also be important\n",
    "weight_img.to_filename('/projects/niblab/bids_projects/Experiments/ChocoData/milkshake_svm_48_HF_LS_h20.nii')"
   ]
  },
  {
   "cell_type": "markdown",
   "metadata": {},
   "source": [
    "Fitting 3 folds for each of 11 candidates, totalling 33 fits  \n",
    "[Parallel(n_jobs=4)]: Using backend SequentialBackend with 1 concurrent workers.  \n",
    "[Parallel(n_jobs=4)]: Done  33 out of  33 | elapsed: 30.2min finished  \n",
    "Fitting 3 folds for each of 11 candidates, totalling 33 fits  \n",
    "[Parallel(n_jobs=4)]: Using backend SequentialBackend with 1 concurrent workers.    \n",
    "[Parallel(n_jobs=4)]: Done  33 out of  33 | elapsed: 29.8min finished  \n",
    "Fitting 3 folds for each of 11 candidates, totalling 33 fits  \n",
    "[Parallel(n_jobs=4)]: Using backend SequentialBackend with 1 concurrent workers.  \n",
    "[Parallel(n_jobs=4)]: Done  33 out of  33 | elapsed: 30.1min finished  \n",
    "Nested CV score: 0.5035  "
   ]
  },
  {
   "cell_type": "markdown",
   "metadata": {},
   "source": [
    "### LF_LS_receipt vs. h20_receipt"
   ]
  },
  {
   "cell_type": "code",
   "execution_count": null,
   "metadata": {},
   "outputs": [],
   "source": [
    "#image mask\n",
    "imag_mask='/projects/niblab/bids_projects/Experiments/ChocoData/images/power_roimask_4bi.nii.gz'\n",
    "#our behavioral csv file \n",
    "stim = '/projects/niblab/bids_projects/Experiments/ChocoData/behavorial_data/w1_milkshake_100.csv'\n",
    "#our dataset concatenated image \n",
    "dataset='/projects/niblab/bids_projects/Experiments/ChocoData/images/w1_milkshake_100.nii.gz'\n",
    "#load behavioral data into a pandas df\n",
    "behavioral = pd.read_csv(stim, sep=\"\\t\")\n",
    "#grab conditional labels \n",
    "conditions = behavioral[\"Label\"]\n",
    "#restrict data to our target analysis \n",
    "condition_mask = behavioral[\"Label\"].isin(['LF_LS_receipt', \"h20_receipt\"])\n",
    "conditions = conditions[condition_mask]\n",
    "#confirm we have the # of condtions needed\n",
    "print(conditions.unique())\n",
    "\n",
    "# Record these as an array of sessions, with fields\n",
    "# for condition (face or house) and run\n",
    "session = behavioral[condition_mask].to_records(index=False)\n",
    "print(session.dtype.names)"
   ]
  },
  {
   "cell_type": "code",
   "execution_count": null,
   "metadata": {},
   "outputs": [],
   "source": [
    "# For decoding, standardizing is often very important\n",
    "# note that we are also smoothing the data\n",
    "masker = NiftiMasker(mask_img=imag_mask,\n",
    "                     standardize=True, memory=\"nilearn_cache\", memory_level=1)\n",
    "X = masker.fit_transform(dataset)\n",
    "# Apply our condition_mask\n",
    "X = X[condition_mask]"
   ]
  },
  {
   "cell_type": "code",
   "execution_count": null,
   "metadata": {},
   "outputs": [],
   "source": [
    "from sklearn.svm import SVC\n",
    "svc = SVC(kernel='linear')\n",
    "\n",
    "from sklearn.feature_selection import SelectKBest, f_classif\n",
    "feature_selection = SelectKBest(f_classif, k=500)\n",
    "\n",
    "# We have our classifier (SVC), our feature selection (SelectKBest), and now,\n",
    "# we can plug them together in a *pipeline* that performs the two operations\n",
    "# successively:\n",
    "from sklearn.pipeline import Pipeline\n",
    "anova_svc = Pipeline([('anova', feature_selection), ('svc', svc)])"
   ]
  },
  {
   "cell_type": "code",
   "execution_count": null,
   "metadata": {},
   "outputs": [],
   "source": [
    "anova_svc.fit(X, conditions)\n",
    "y_pred = anova_svc.predict(X)"
   ]
  },
  {
   "cell_type": "code",
   "execution_count": null,
   "metadata": {},
   "outputs": [],
   "source": [
    "from sklearn.model_selection import cross_val_score\n",
    "\n",
    "k_range = [10, 15, 30, 50, 150, 300, 500, 1000, 1500, 3000, 5000]\n",
    "\n",
    "from sklearn.model_selection import GridSearchCV\n",
    "# We are going to tune the parameter 'k' of the step called 'anova' in\n",
    "# the pipeline. Thus we need to address it as 'anova__k'.\n",
    "\n",
    "# Note that GridSearchCV takes an n_jobs argument that can make it go\n",
    "# much faster\n",
    "grid = GridSearchCV(anova_svc, param_grid={'anova__k': k_range}, verbose=1, n_jobs=4, cv=3)\n",
    "nested_cv_scores = cross_val_score(grid, X, conditions, cv=3)\n",
    "\n",
    "print(\"Nested CV score: %.4f\" % np.mean(nested_cv_scores))"
   ]
  },
  {
   "cell_type": "markdown",
   "metadata": {},
   "source": [
    "Fitting 3 folds for each of 11 candidates, totalling 33 fits\n",
    "[Parallel(n_jobs=4)]: Using backend SequentialBackend with 1 concurrent workers.\n",
    "\n",
    "[Parallel(n_jobs=4)]: Done  33 out of  33 | elapsed: 29.6min finished\n",
    "Fitting 3 folds for each of 11 candidates, totalling 33 fits\n",
    "[Parallel(n_jobs=4)]: Using backend SequentialBackend with 1 concurrent workers.\n",
    "\n",
    "\n",
    "\n",
    "[Parallel(n_jobs=4)]: Done  33 out of  33 | elapsed: 29.5min finished\n",
    "Fitting 3 folds for each of 11 candidates, totalling 33 fits\n",
    "[Parallel(n_jobs=4)]: Using backend SequentialBackend with 1 concurrent workers.\n",
    "\n",
    "\n",
    "[Parallel(n_jobs=4)]: Done  33 out of  33 | elapsed: 29.7min finished\n",
    "Nested CV score: 0.4985\n",
    "\n"
   ]
  },
  {
   "cell_type": "code",
   "execution_count": null,
   "metadata": {},
   "outputs": [],
   "source": [
    "behavioral = pd.read_csv(stim, sep=\"\\t\")\n",
    "#grab conditional labels \n",
    "conditions = behavioral[\"Label\"]\n",
    "\n",
    "#confirm we have the # of condtions needed\n",
    "print(conditions.unique())\n"
   ]
  },
  {
   "cell_type": "markdown",
   "metadata": {},
   "source": [
    "### HF_LS vs. h20_receipt "
   ]
  },
  {
   "cell_type": "code",
   "execution_count": null,
   "metadata": {},
   "outputs": [],
   "source": [
    "behavioral = pd.read_csv(stim, sep=\"\\t\")\n",
    "#grab conditional labels \n",
    "conditions = behavioral[\"Label\"]\n",
    "\n",
    "#confirm we have the # of condtions needed\n",
    "print(conditions.unique())\n",
    "\n",
    "#restrict data to our target analysis \n",
    "condition_mask = behavioral[\"Label\"].isin(['HF_LS_receipt', \"h20_receipt\"])\n",
    "conditions = conditions[condition_mask]\n",
    "\n",
    "#confirm we have the # of condtions needed\n",
    "print(conditions.unique())\n",
    "\n",
    "# Record these as an array of sessions, with fields\n",
    "session = behavioral[condition_mask].to_records(index=False)\n",
    "print(session.dtype.names)\n",
    "\n",
    "# For decoding, standardizing is often very important\n",
    "# note that we are also smoothing the data\n",
    "masker = NiftiMasker(mask_img=imag_mask,\n",
    "                     standardize=True, memory=\"nilearn_cache\", memory_level=1)\n",
    "X = masker.fit_transform(dataset)\n",
    "# Apply our condition_mask\n",
    "X = X[condition_mask]\n"
   ]
  },
  {
   "cell_type": "code",
   "execution_count": null,
   "metadata": {},
   "outputs": [],
   "source": [
    "behavioral = pd.read_csv(stim, sep=\"\\t\")\n",
    "#grab conditional labels \n",
    "conditions = behavioral[\"Label\"]\n",
    "\n",
    "#confirm we have the # of condtions needed\n",
    "print(conditions.unique())\n",
    "\n",
    "#restrict data to our target analysis \n",
    "condition_mask = behavioral[\"Label\"].isin([''', \"h20_receipt\"])\n",
    "conditions = conditions[condition_mask]\n",
    "\n",
    "#confirm we have the # of condtions needed\n",
    "print(conditions.unique())\n",
    "\n",
    "# Record these as an array of sessions, with fields\n",
    "session = behavioral[condition_mask].to_records(index=False)\n",
    "print(session.dtype.names)\n",
    "\n",
    "# For decoding, standardizing is often very important\n",
    "# note that we are also smoothing the data\n",
    "masker = NiftiMasker(mask_img=imag_mask,\n",
    "                     standardize=True, memory=\"nilearn_cache\", memory_level=1)\n",
    "X = masker.fit_transform(dataset)\n",
    "# Apply our condition_mask\n",
    "X = X[condition_mask]\n"
   ]
  }
 ],
 "metadata": {
  "kernelspec": {
   "display_name": "Python 3",
   "language": "python",
   "name": "python3"
  },
  "language_info": {
   "codemirror_mode": {
    "name": "ipython",
    "version": 3
   },
   "file_extension": ".py",
   "mimetype": "text/x-python",
   "name": "python",
   "nbconvert_exporter": "python",
   "pygments_lexer": "ipython3",
   "version": "3.6.7"
  }
 },
 "nbformat": 4,
 "nbformat_minor": 2
}
