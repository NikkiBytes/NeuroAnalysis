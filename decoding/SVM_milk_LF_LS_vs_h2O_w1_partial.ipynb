{
 "cells": [
  {
   "cell_type": "markdown",
   "metadata": {},
   "source": [
    "# Decoding with ANOVA + SVM: Chocolate Data -- milkshake (small subset)\n",
    "### This is a simple decoding using feature selection followed by an SVM.  \n",
    "Reference: http://nilearn.github.io/auto_examples/02_decoding/plot_haxby_anova_svm.html#sphx-glr-auto-examples-02-decoding-plot-haxby-anova-svm-py"
   ]
  },
  {
   "cell_type": "code",
   "execution_count": 3,
   "metadata": {},
   "outputs": [],
   "source": [
    "#this imports all the commands needed for the script to work#\n",
    "import os\n",
    "import numpy as np\n",
    "import nilearn\n",
    "import glob\n",
    "#import matplotlib\n",
    "import nibabel as nib\n",
    "import pandas as pd \n",
    "from nilearn.input_data import NiftiMasker \n",
    "import numpy as np\n",
    "np.seterr(divide='ignore', invalid='ignore')\n",
    "import warnings\n",
    "warnings.filterwarnings(\"ignore\")\n",
    "import matplotlib\n",
    "matplotlib.use('Agg')"
   ]
  },
  {
   "cell_type": "markdown",
   "metadata": {},
   "source": [
    "## Load our dataset (concatenated image), image mask (power roi 4b) and our behavioral data\n",
    "\n",
    "### We select our target paradigm, here we are doing h2O vs LF_LS"
   ]
  },
  {
   "cell_type": "code",
   "execution_count": null,
   "metadata": {},
   "outputs": [],
   "source": [
    "#image mask\n",
    "imag_mask='/projects/niblab/bids_projects/Experiments/ChocoData/images/power_roimask_4bi.nii.gz'\n",
    "#our behavioral csv file \n",
    "stim = '/projects/niblab/bids_projects/Experiments/ChocoData/behavorial_data/w1_milkshake_48.csv'\n",
    "#our dataset concatenated image \n",
    "dataset='/projects/niblab/bids_projects/Experiments/ChocoData/images/w1_milkshake_48.nii.gz'\n",
    "#load behavioral data into a pandas df\n",
    "behavioral = pd.read_csv(stim, sep=\"\\t\")\n",
    "#grab conditional labels \n",
    "y = behavioral[\"Label\"]\n",
    "\n"
   ]
  },
  {
   "cell_type": "code",
   "execution_count": null,
   "metadata": {},
   "outputs": [],
   "source": [
    "#restrict data to our target analysis \n",
    "condition_mask = behavioral[\"Label\"].isin(['LF_LS_receipt', \"h20_receipt\"])\n",
    "y = y[condition_mask]\n",
    "#confirm we have the # of condtions needed\n",
    "print(y.unique())"
   ]
  },
  {
   "cell_type": "markdown",
   "metadata": {},
   "source": [
    "['h20_receipt' 'LF_HS_receipt']"
   ]
  },
  {
   "cell_type": "code",
   "execution_count": null,
   "metadata": {},
   "outputs": [],
   "source": [
    "\n",
    "# Record these as an array of sessions, with fields\n",
    "session = behavioral[condition_mask].to_records(index=False)\n",
    "print(session.dtype.names)"
   ]
  },
  {
   "cell_type": "markdown",
   "metadata": {},
   "source": [
    "('Label', 'sess')"
   ]
  },
  {
   "cell_type": "code",
   "execution_count": null,
   "metadata": {},
   "outputs": [],
   "source": [
    "# for decoding, standardizing the data is often very important  \n",
    "# if data hasn't been smoothed, you can do that here too  \n",
    "masker = NiftiMasker(mask_img=imag_mask, standardize=True, memory=\"nilearn_cache\", memory_level=1)\n",
    "X = masker.fit_transform(dataset)\n",
    "#Apply our condition mask\n",
    "X=X[condition_mask]\n",
    "session=session[condition_mask]"
   ]
  },
  {
   "cell_type": "markdown",
   "metadata": {},
   "source": [
    "### Here we are settting up the SVM model, starting with a linear kernel "
   ]
  },
  {
   "cell_type": "code",
   "execution_count": null,
   "metadata": {},
   "outputs": [],
   "source": [
    "from sklearn.svm import SVC\n",
    "svc = SVC(kernel='linear')\n",
    "\n",
    "\n",
    "# Define the dimension reduction to be used.\n",
    "# Here we use a classical univariate feature selection based on F-test,\n",
    "# namely Anova. We set the number of features to be selected to 500\n",
    "from sklearn.feature_selection import SelectKBest, f_classif\n",
    "feature_selection = SelectKBest(f_classif, k=500)\n",
    "\n",
    "# We have our classifier (SVC), our feature selection (SelectKBest), and now,\n",
    "# we can plug them together in a *pipeline* that performs the two operations\n",
    "# successively:\n",
    "from sklearn.pipeline import Pipeline\n",
    "anova_svc = Pipeline([('anova', feature_selection), ('svc', svc)])"
   ]
  },
  {
   "cell_type": "markdown",
   "metadata": {},
   "source": [
    "### Here we are going to compute the prediction scores using cross-validation"
   ]
  },
  {
   "cell_type": "code",
   "execution_count": null,
   "metadata": {},
   "outputs": [],
   "source": [
    "anova_svc.fit(X, conditions)\n",
    "y_pred = anova_svc.predict(X)\n",
    "\n",
    "from sklearn.model_selection import cross_val_score\n",
    "\n",
    "k_range = [10, 15, 30, 50, 150, 300, 500, 1000, 1500, 3000, 5000]\n",
    "cv_scores = []\n",
    "scores_validation = []\n",
    "\n",
    "for k in k_range:\n",
    "    feature_selection.k = k\n",
    "    cv_scores.append(np.mean(\n",
    "        cross_val_score(anova_svc, X[session < 1], conditions[session < 1], cv=3)))\n",
    "    print(\"CV score: %.4f\" % cv_scores[-1])\n",
    "\n",
    "    anova_svc.fit(X[session < 1], conditions[session < 1])\n",
    "    y_pred = anova_svc.predict(X[session == 1])\n",
    "    scores_validation.append(np.mean(y_pred == conditions[session == 1]))\n",
    "    print(\"score validation: %.4f\" % scores_validation[-1])"
   ]
  },
  {
   "cell_type": "markdown",
   "metadata": {},
   "source": [
    "### Now we are using nested cross-validation "
   ]
  },
  {
   "cell_type": "code",
   "execution_count": null,
   "metadata": {},
   "outputs": [],
   "source": [
    "from sklearn.model_selection import cross_val_score\n",
    "\n",
    "k_range = [10, 50, 150, 300, 500, 1000,3000]\n",
    "from sklearn.model_selection import GridSearchCV\n",
    "# We are going to tune the parameter 'k' of the step called 'anova' in\n",
    "# the pipeline. Thus we need to address it as 'anova__k'.\n",
    "\n",
    "# Note that GridSearchCV takes an n_jobs argument that can make it go\n",
    "# much faster\n",
    "grid = GridSearchCV(anova_svc, param_grid={'anova__k': k_range}, verbose=1,\n",
    "                    cv=3, n_jobs=4)\n",
    "nested_cv_scores = cross_val_score(grid, X, y, cv=3)\n",
    "\n",
    "print(\"Nested CV score: %.4f\" % np.mean(nested_cv_scores))"
   ]
  },
  {
   "cell_type": "markdown",
   "metadata": {},
   "source": [
    "Fitting 3 folds for each of 7 candidates, totalling 21 fits  \n",
    "[Parallel(n_jobs=4)]: Using backend SequentialBackend with 1 concurrent workers.  \n",
    "[Parallel(n_jobs=4)]: Done  21 out of  21 | elapsed: 13.5min finished  \n",
    "Fitting 3 folds for each of 7 candidates, totalling 21 fits  \n",
    "[Parallel(n_jobs=4)]: Using backend SequentialBackend with 1 concurrent workers.  \n",
    "[Parallel(n_jobs=4)]: Done  21 out of  21 | elapsed: 13.3min finished  \n",
    "Fitting 3 folds for each of 7 candidates, totalling 21 fits  \n",
    "[Parallel(n_jobs=4)]: Using backend SequentialBackend with 1 concurrent workers.  \n",
    "[Parallel(n_jobs=4)]: Done  21 out of  21 | elapsed: 13.4min finished  \n",
    "Nested CV score: 0.5025"
   ]
  },
  {
   "cell_type": "markdown",
   "metadata": {},
   "source": [
    "### Visualize and save our results"
   ]
  },
  {
   "cell_type": "code",
   "execution_count": null,
   "metadata": {},
   "outputs": [],
   "source": [
    "coef = svc.coef_\n",
    "# reverse feature selection\n",
    "coef = feature_selection.inverse_transform(coef)\n",
    "# reverse masking\n",
    "weight_img = masker.inverse_transform(coef)\n",
    "\n",
    "\n",
    "# Use the mean image as a background to avoid relying on anatomical data\n",
    "from nilearn import image\n",
    "mean_img = image.mean_img(func_filename)\n",
    "\n",
    "# Create the figure\n",
    "from nilearn.plotting import plot_stat_map, show\n",
    "plot_stat_map(weight_img, mean_img, title='SVM weights')\n",
    "\n",
    "# Saving the results as a Nifti file may also be important\n",
    "weight_img.to_filename('milkshake_svm_nested_48.nii')"
   ]
  }
 ],
 "metadata": {
  "kernelspec": {
   "display_name": "Python 3",
   "language": "python",
   "name": "python3"
  },
  "language_info": {
   "codemirror_mode": {
    "name": "ipython",
    "version": 3
   },
   "file_extension": ".py",
   "mimetype": "text/x-python",
   "name": "python",
   "nbconvert_exporter": "python",
   "pygments_lexer": "ipython3",
   "version": "3.6.7"
  }
 },
 "nbformat": 4,
 "nbformat_minor": 2
}
