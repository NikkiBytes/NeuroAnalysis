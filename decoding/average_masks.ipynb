{
 "cells": [
  {
   "cell_type": "markdown",
   "metadata": {},
   "source": [
    "# Gather Masks and average!\n"
   ]
  },
  {
   "cell_type": "code",
   "execution_count": null,
   "metadata": {},
   "outputs": [],
   "source": [
    "import glob, os \n",
    "import shutil \n",
    "\n",
    "\n",
    "INPUT = '/projects/niblab/bids_projects/Experiments/ChocoData/derivatives'\n",
    "os.chdir(INPUT)\n",
    "wave = glob.glob('sub-*/ses-4/func/Analysis/feat1/task-*/mask.nii.gz')\n",
    "\n",
    "\n",
    "zip_directory = '/projects/niblab/bids_projects/Experiments/ChocoData/zip_files' \n",
    "\n",
    "for file in wave:\n",
    "    print(\"Copying file........\", file)\n",
    "    sub_id = file.split(\"/\")[0]\n",
    "    milk_id = file.split(\"/\")[5].split(\".\")[0].split(\"-\")[1]\n",
    "    file_name = \"%s_%s_mask.nii.gz\"%(sub_id, milk_id)\n",
    "    file_name =zip_directory + \"/wave4/\" + file_name\n",
    "    shutil.copyfile(file, file_name)"
   ]
  }
 ],
 "metadata": {
  "kernelspec": {
   "display_name": "Python 3",
   "language": "python",
   "name": "python3"
  },
  "language_info": {
   "codemirror_mode": {
    "name": "ipython",
    "version": 3
   },
   "file_extension": ".py",
   "mimetype": "text/x-python",
   "name": "python",
   "nbconvert_exporter": "python",
   "pygments_lexer": "ipython3",
   "version": "3.6.7"
  }
 },
 "nbformat": 4,
 "nbformat_minor": 2
}
