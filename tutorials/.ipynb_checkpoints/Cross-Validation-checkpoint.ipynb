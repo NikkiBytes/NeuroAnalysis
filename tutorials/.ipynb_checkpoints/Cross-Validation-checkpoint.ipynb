{
 "cells": [
  {
   "cell_type": "markdown",
   "metadata": {},
   "source": [
    "# Setting a parameter by cross-validation  \n",
    "http://nilearn.github.io/auto_examples/02_decoding/plot_haxby_grid_search.html#sphx-glr-auto-examples-02-decoding-plot-haxby-grid-search-py\n",
    "\n",
    "The approach we will use here is \"nested cross-validation.\" It consists in doing cross-validation loops to set the model parameters inside the CV loop used to judge the prediction performance: the parameters are set separately on each fold, never using the data used to measure performance.  \n",
    "\n"
   ]
  },
  {
   "cell_type": "code",
   "execution_count": 2,
   "metadata": {},
   "outputs": [],
   "source": [
    "import os\n",
    "import numpy as np\n",
    "import nilearn\n",
    "import glob\n",
    "#import matplotlib\n",
    "import nibabel as nib\n",
    "import pandas as pd \n",
    "from nilearn.input_data import NiftiMasker "
   ]
  },
  {
   "cell_type": "code",
   "execution_count": null,
   "metadata": {},
   "outputs": [],
   "source": [
    "# load the data \n",
    "#image mask\n",
    "imag_mask=os.path.join('/projects/niblab/nilearn_projects/power_roimask_4bi.nii.gz')\n",
    "#our behavioral csv file \n",
    "stim = os.path.join('/projects','niblab','scripts','nilean_stuff','label_all_sub.csv')\n",
    "#our dataset concatenated image \n",
    "dataset='/projects/niblab/bids_projects/Experiments/ChocoData/derivatives/group_ana/w1_imagine_all.nii.gz'\n",
    "\n",
    "#load behavioral data into a pandas df\n",
    "labels = pd.read_csv(stim, sep=\",\")\n",
    "y=labels[\"label\"]\n",
    "session = labels[\"sub\"]\n",
    "\n",
    "condition_mask = y.isin(['unapp', 'app', 'H2O'])\n",
    "y = y[condition_mask]"
   ]
  },
  {
   "cell_type": "code",
   "execution_count": null,
   "metadata": {},
   "outputs": [],
   "source": [
    "# For decoding, standardizing is often very important\n",
    "nifti_masker = NiftiMasker(mask_img=imag_mask, sessions=session,\n",
    "                           standardize=True,\n",
    "                           memory=\"nilearn_cache\", memory_level=1)\n",
    "X = nifti_masker.fit_transform(dataset)\n",
    "# Restrict to non rest data\n",
    "X = X[condition_mask]\n",
    "session = session[condition_mask]"
   ]
  },
  {
   "cell_type": "code",
   "execution_count": null,
   "metadata": {},
   "outputs": [],
   "source": [
    "from sklearn.svm import SVC\n",
    "svc = SVC(kernel='rbf', C=10, gamma=1.0)\n",
    "\n",
    "\n",
    "# Define the dimension reduction to be used.\n",
    "# Here we use a classical univariate feature selection based on F-test,\n",
    "# namely Anova. We set the number of features to be selected to 500\n",
    "from sklearn.feature_selection import SelectKBest, f_classif\n",
    "feature_selection = SelectKBest(f_classif, k=500)\n",
    "\n",
    "# We have our classifier (SVC), our feature selection (SelectKBest), and now,\n",
    "# we can plug them together in a *pipeline* that performs the two operations\n",
    "# successively:\n",
    "from sklearn.pipeline import Pipeline\n",
    "anova_svc = Pipeline([('anova', feature_selection), ('svc', svc)])"
   ]
  },
  {
   "cell_type": "code",
   "execution_count": null,
   "metadata": {},
   "outputs": [],
   "source": [
    "anova_svc.fit(X, y)\n",
    "y_pred = anova_svc.predict(X)\n",
    "\n",
    "from sklearn.model_selection import cross_val_score\n",
    "\n",
    "k_range = [10, 15, 30, 50, 150, 300, 500, 1000, 1500, 3000, 5000]\n",
    "cv_scores = []\n",
    "scores_validation = []\n",
    "\n",
    "for k in k_range:\n",
    "    feature_selection.k = k\n",
    "    cv_scores.append(np.mean(\n",
    "        cross_val_score(anova_svc, X[session < 1], y[session < 1], cv=3)))\n",
    "    print(\"CV score: %.4f\" % cv_scores[-1])\n",
    "\n",
    "    anova_svc.fit(X[session < 1], y[session < 1])\n",
    "    y_pred = anova_svc.predict(X[session == 1])\n",
    "    scores_validation.append(np.mean(y_pred == y[session == 1]))\n",
    "    print(\"score validation: %.4f\" % scores_validation[-1])"
   ]
  }
 ],
 "metadata": {
  "kernelspec": {
   "display_name": "Python 3",
   "language": "python",
   "name": "python3"
  },
  "language_info": {
   "codemirror_mode": {
    "name": "ipython",
    "version": 3
   },
   "file_extension": ".py",
   "mimetype": "text/x-python",
   "name": "python",
   "nbconvert_exporter": "python",
   "pygments_lexer": "ipython3",
   "version": "3.6.7"
  }
 },
 "nbformat": 4,
 "nbformat_minor": 2
}
