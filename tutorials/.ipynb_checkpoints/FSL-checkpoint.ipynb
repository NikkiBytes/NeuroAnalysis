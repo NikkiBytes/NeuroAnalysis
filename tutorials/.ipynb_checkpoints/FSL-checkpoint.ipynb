{
 "cells": [
  {
   "cell_type": "markdown",
   "metadata": {},
   "source": [
    "https://users.fmrib.ox.ac.uk/~paulmc/fsleyes/userdoc/latest/display_space.html\n",
    "    "
   ]
  },
  {
   "cell_type": "markdown",
   "metadata": {},
   "source": [
    "### FSL \n",
    "- can show time series in \"movie mode\": volumes at a voxel coordinate are displayed consecutively at a steady rate\n",
    "- \"When this is put together with the knowledge of TRS and voxel reolution, one beings to form a mental association between the sound of the magnet's gradient coils and taking images of the brain.  \n",
    "<b>- understand how a general linear model (GLM) is associated with fMRI data. <i>GLM is at the heart of fMRI data analysis</i></b>  \n",
    "### Y = Xb + e   \n",
    "FSLeyes: image view with FSL. Usual viewing functions of overlaying statistical maps on top of anatomical images, also includes the <b>\"FEAT mode\"</b>, referring to FSL's modeling program, which opens two additional windows:  \n",
    "* one listing the cluster coordinates for each contrast,   \n",
    "* and one showing how the model is fit to the data.\n",
    "* can also overlay the HRF for each parameter estimate individually or overkay all of them simultaneously and by comparing this to the full model fit, it becomes clear how individual HRFs for each condition are added together, scaled and then fit to the data.\n",
    "Reference Notes: https://www.andysbrainblog.com/andysbrainblog/2017/8/29/introduction-to-fsleyes-playlist-and-tutorials"
   ]
  },
  {
   "cell_type": "code",
   "execution_count": null,
   "metadata": {},
   "outputs": [],
   "source": []
  }
 ],
 "metadata": {
  "kernelspec": {
   "display_name": "Python 3",
   "language": "python",
   "name": "python3"
  },
  "language_info": {
   "codemirror_mode": {
    "name": "ipython",
    "version": 3
   },
   "file_extension": ".py",
   "mimetype": "text/x-python",
   "name": "python",
   "nbconvert_exporter": "python",
   "pygments_lexer": "ipython3",
   "version": "3.9.6"
  }
 },
 "nbformat": 4,
 "nbformat_minor": 4
}
