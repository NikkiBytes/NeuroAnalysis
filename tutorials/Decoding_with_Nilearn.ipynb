{
 "cells": [
  {
   "cell_type": "markdown",
   "id": "23e38534-c5c7-486d-8d9e-692d2b883aaf",
   "metadata": {},
   "source": [
    "# Decoding fMRI Scans with Nilearn  \n",
    "Decoding fMRI task scans with an Support Vector Machine (SVM) classifier and cross-validation (CV)."
   ]
  },
  {
   "cell_type": "markdown",
   "id": "3b6f17b1-02b6-439f-b153-0ef0708304eb",
   "metadata": {},
   "source": [
    "# Data Setup  \n",
    "Decoding an fMRI scan requires a set of inputs: \n",
    "* image mask (`.nii`),\n",
    "* behavioral stimulus file (`.csv`),\n",
    "* fMRI nifti image (`.nii`)   \n",
    "  \n",
    "  \n",
    "To setup the files for this please see the corresponding script: [SCRIPT]()\n",
    "\n",
    "*It is assumed the data is setup correctly with corresponding dimensions.*    "
   ]
  },
  {
   "cell_type": "code",
   "execution_count": null,
   "id": "737fab50-81cc-4ce5-bfa2-144e79366f19",
   "metadata": {},
   "outputs": [],
   "source": [
    "# Set Input Data \n",
    "#image mask\n",
    "imag_mask='/projects/niblab/bids_projects/Experiments/ChocoData/images/bin_mask.nii.gz'\n",
    "#our behavioral csv file\n",
    "stim = '/projects/niblab/bids_projects/Experiments/ChocoData/behavorial_data/milkshake_all.csv'\n",
    "#our dataset concatenated image\n",
    "dataset='/projects/niblab/bids_projects/Experiments/ChocoData/images/milkshake_all.nii.gz '\n",
    "#load behavioral data into a pandas df\n",
    "behavioral = pd.read_csv(stim, sep=\"\\t\")\n"
   ]
  },
  {
   "cell_type": "code",
   "execution_count": null,
   "id": "06dc9f5a-6a54-43c3-a8f5-cc933811f04b",
   "metadata": {},
   "outputs": [],
   "source": []
  },
  {
   "cell_type": "code",
   "execution_count": null,
   "id": "f04c5bf2-3f45-4cf0-9d31-f48a6a116e35",
   "metadata": {},
   "outputs": [],
   "source": [
    "#grab conditional labels and set up milkshake\n",
    "behavioral[\"Label\"] = behavioral.replace(['HF_LS_receipt', 'LF_HS_receipt', 'HF_HS_receipt'], 'milkshake')\n",
    "y = behavioral[\"Label\"]\n",
    "print(y.unique())"
   ]
  },
  {
   "cell_type": "markdown",
   "id": "9e66e045-1ac1-4c75-b579-fd6145715186",
   "metadata": {},
   "source": [
    "In our behavioral stimulus file we have multiple task conditions. Not all of the data will be of interest, therefore we can restrict the data to the fMRI signals we want.   "
   ]
  },
  {
   "cell_type": "code",
   "execution_count": null,
   "id": "a0fde0b3-156b-45df-83e4-e6792e3d436d",
   "metadata": {},
   "outputs": [],
   "source": [
    "#restrict data to our target analysis\n",
    "condition_mask = behavioral[\"Label\"].isin(['milkshake', \"h20_receipt\"])\n",
    "y = y[condition_mask]\n",
    "#confirm we have the # of condtions needed\n",
    "print(y.unique())\n"
   ]
  },
  {
   "cell_type": "code",
   "execution_count": null,
   "id": "41edfdb6-387c-4a84-b6ed-5774cb2c6cf6",
   "metadata": {},
   "outputs": [],
   "source": []
  },
  {
   "cell_type": "code",
   "execution_count": null,
   "id": "003e60cc-4b0e-4991-94e9-af79e6b6ecf3",
   "metadata": {},
   "outputs": [],
   "source": []
  }
 ],
 "metadata": {
  "kernelspec": {
   "display_name": "Python 3",
   "language": "python",
   "name": "python3"
  },
  "language_info": {
   "codemirror_mode": {
    "name": "ipython",
    "version": 3
   },
   "file_extension": ".py",
   "mimetype": "text/x-python",
   "name": "python",
   "nbconvert_exporter": "python",
   "pygments_lexer": "ipython3",
   "version": "3.9.6"
  }
 },
 "nbformat": 4,
 "nbformat_minor": 5
}
