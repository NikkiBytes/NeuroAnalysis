{
 "cells": [
  {
   "cell_type": "markdown",
   "metadata": {},
   "source": [
    "# Sucrose Infusions  \n"
   ]
  },
  {
   "cell_type": "markdown",
   "metadata": {},
   "source": [
    "Target Regions:  \n",
    "* Delta  \n",
    "  - BLA Water vs. Sucrose 5%  \n",
    "  - BLA Water vs. Sucrose 15%  \n",
    "  - NAcc : Water vs. Sucrose 5%\n",
    "* Beta  \n",
    "* Low Gamma"
   ]
  },
  {
   "cell_type": "markdown",
   "metadata": {},
   "source": [
    "TOC:\n",
    "1. Setup Data\n",
    "    - Input Features X   \n",
    "       * one-hot encoding on MouseID  \n",
    "    - Target Variable y\n",
    "       * label encoding on Reward  \n",
    "\n",
    "2. Setup Model  \n",
    "    {Linear} SVM w/ nested Cross Validation  \n",
    "    \n",
    "    \n",
    "       \n",
    "\n",
    "--- \n",
    "       \n",
    "       \n",
    "  "
   ]
  },
  {
   "cell_type": "markdown",
   "metadata": {},
   "source": [
    "for Delta: BLA: W vs. 5% & W vs. 15%; NAcc: W vs. 5% & W vs. 15%;  \n",
    " or Beta: PFC: W vs. 5% & W vs. 15%; NAcc: W vs. 5% & W vs. 15%; vHip: W vs. 5% & W vs. 15%;  \n",
    "for low gamma: NAcc: W vs. 5% & W vs. 15%; vHip: W vs. 5% & W vs. 15%;  "
   ]
  },
  {
   "cell_type": "code",
   "execution_count": 2,
   "metadata": {},
   "outputs": [],
   "source": [
    "\"\"\"\n",
    "# Import packages\n",
    "\"\"\"\n",
    "\n",
    "import pandas as pd\n",
    "import glob, os \n",
    "from matplotlib import pyplot as plt\n",
    "from sklearn.svm import SVC\n",
    "from sklearn.model_selection import GridSearchCV, cross_val_score, KFold\n",
    "import numpy as np\n",
    "import time\n",
    "\n",
    "from sklearn.tree import DecisionTreeClassifier\n",
    "from sklearn import preprocessing\n",
    "from warnings import simplefilter\n",
    "from sklearn.exceptions import ConvergenceWarning\n",
    "simplefilter(\"ignore\", category=ConvergenceWarning)\n",
    "\n",
    "pd.set_option('display.max_columns', None)\n",
    "pd.set_option('display.max_rows', None)\n"
   ]
  },
  {
   "cell_type": "markdown",
   "metadata": {},
   "source": [
    "## Load Data  \n",
    "\n",
    "---"
   ]
  },
  {
   "cell_type": "code",
   "execution_count": 3,
   "metadata": {},
   "outputs": [],
   "source": [
    "##print(os.getcwd())\n",
    "path=\"C:\\\\Users\\\\19802\\\\Documents\\\\nibl\\\\mouse_data\\\\Sucrose_infusions_dataframe_Eric.csv\" # set path to file\n",
    "data=pd.read_csv(path) # read in as dataframe\n"
   ]
  },
  {
   "cell_type": "markdown",
   "metadata": {},
   "source": [
    "View Data  \n"
   ]
  },
  {
   "cell_type": "code",
   "execution_count": 4,
   "metadata": {},
   "outputs": [
    {
     "data": {
      "text/plain": [
       "array(['None', 'Water', 'Sucrose_5', 'Sucrose_15'], dtype=object)"
      ]
     },
     "execution_count": 4,
     "metadata": {},
     "output_type": "execute_result"
    }
   ],
   "source": [
    "data[\"Reward\"].unique()"
   ]
  },
  {
   "cell_type": "code",
   "execution_count": 5,
   "metadata": {},
   "outputs": [
    {
     "data": {
      "text/html": [
       "<div>\n",
       "<style scoped>\n",
       "    .dataframe tbody tr th:only-of-type {\n",
       "        vertical-align: middle;\n",
       "    }\n",
       "\n",
       "    .dataframe tbody tr th {\n",
       "        vertical-align: top;\n",
       "    }\n",
       "\n",
       "    .dataframe thead th {\n",
       "        text-align: right;\n",
       "    }\n",
       "</style>\n",
       "<table border=\"1\" class=\"dataframe\">\n",
       "  <thead>\n",
       "    <tr style=\"text-align: right;\">\n",
       "      <th></th>\n",
       "      <th>Time(s)</th>\n",
       "      <th>PFC_delta</th>\n",
       "      <th>PFC_theta</th>\n",
       "      <th>PFC_alpha</th>\n",
       "      <th>PFC_beta</th>\n",
       "      <th>PFC_low_gamma</th>\n",
       "      <th>PFC_high_gamma</th>\n",
       "      <th>BLA_delta</th>\n",
       "      <th>BLA_theta</th>\n",
       "      <th>BLA_alpha</th>\n",
       "      <th>BLA_beta</th>\n",
       "      <th>BLA_low_gamma</th>\n",
       "      <th>BLA_high_gamma</th>\n",
       "      <th>NAc_delta</th>\n",
       "      <th>NAc_theta</th>\n",
       "      <th>NAc_alpha</th>\n",
       "      <th>NAc_beta</th>\n",
       "      <th>NAc_low_gamma</th>\n",
       "      <th>NAc_high_gamma</th>\n",
       "      <th>vHip_delta</th>\n",
       "      <th>vHip_theta</th>\n",
       "      <th>vHip_alpha</th>\n",
       "      <th>vHip_beta</th>\n",
       "      <th>vHip_low_gamma</th>\n",
       "      <th>vHip_high_gamma</th>\n",
       "      <th>Reward</th>\n",
       "      <th>MouseId</th>\n",
       "    </tr>\n",
       "  </thead>\n",
       "  <tbody>\n",
       "    <tr>\n",
       "      <th>0</th>\n",
       "      <td>0.0</td>\n",
       "      <td>0.000003</td>\n",
       "      <td>0.000003</td>\n",
       "      <td>7.761625e-07</td>\n",
       "      <td>0.000002</td>\n",
       "      <td>0.000002</td>\n",
       "      <td>3.155750e-07</td>\n",
       "      <td>0.000003</td>\n",
       "      <td>0.000005</td>\n",
       "      <td>0.000002</td>\n",
       "      <td>0.000004</td>\n",
       "      <td>0.000012</td>\n",
       "      <td>7.465025e-07</td>\n",
       "      <td>0.000043</td>\n",
       "      <td>0.000022</td>\n",
       "      <td>0.000007</td>\n",
       "      <td>0.000008</td>\n",
       "      <td>0.000010</td>\n",
       "      <td>0.000001</td>\n",
       "      <td>0.000047</td>\n",
       "      <td>0.000040</td>\n",
       "      <td>0.000025</td>\n",
       "      <td>0.000012</td>\n",
       "      <td>0.000010</td>\n",
       "      <td>1.251572e-06</td>\n",
       "      <td>None</td>\n",
       "      <td>E_A1</td>\n",
       "    </tr>\n",
       "    <tr>\n",
       "      <th>1</th>\n",
       "      <td>0.1</td>\n",
       "      <td>0.000003</td>\n",
       "      <td>0.000003</td>\n",
       "      <td>8.544600e-07</td>\n",
       "      <td>0.000002</td>\n",
       "      <td>0.000002</td>\n",
       "      <td>3.000700e-07</td>\n",
       "      <td>0.000003</td>\n",
       "      <td>0.000004</td>\n",
       "      <td>0.000003</td>\n",
       "      <td>0.000005</td>\n",
       "      <td>0.000012</td>\n",
       "      <td>6.375900e-07</td>\n",
       "      <td>0.000050</td>\n",
       "      <td>0.000030</td>\n",
       "      <td>0.000006</td>\n",
       "      <td>0.000005</td>\n",
       "      <td>0.000010</td>\n",
       "      <td>0.000001</td>\n",
       "      <td>0.000048</td>\n",
       "      <td>0.000047</td>\n",
       "      <td>0.000022</td>\n",
       "      <td>0.000011</td>\n",
       "      <td>0.000011</td>\n",
       "      <td>8.988825e-07</td>\n",
       "      <td>None</td>\n",
       "      <td>E_A1</td>\n",
       "    </tr>\n",
       "    <tr>\n",
       "      <th>2</th>\n",
       "      <td>0.2</td>\n",
       "      <td>0.000004</td>\n",
       "      <td>0.000004</td>\n",
       "      <td>8.624575e-07</td>\n",
       "      <td>0.000002</td>\n",
       "      <td>0.000002</td>\n",
       "      <td>2.604275e-07</td>\n",
       "      <td>0.000002</td>\n",
       "      <td>0.000002</td>\n",
       "      <td>0.000002</td>\n",
       "      <td>0.000005</td>\n",
       "      <td>0.000014</td>\n",
       "      <td>6.077150e-07</td>\n",
       "      <td>0.000053</td>\n",
       "      <td>0.000032</td>\n",
       "      <td>0.000006</td>\n",
       "      <td>0.000006</td>\n",
       "      <td>0.000011</td>\n",
       "      <td>0.000001</td>\n",
       "      <td>0.000035</td>\n",
       "      <td>0.000052</td>\n",
       "      <td>0.000018</td>\n",
       "      <td>0.000013</td>\n",
       "      <td>0.000012</td>\n",
       "      <td>1.226840e-06</td>\n",
       "      <td>None</td>\n",
       "      <td>E_A1</td>\n",
       "    </tr>\n",
       "    <tr>\n",
       "      <th>3</th>\n",
       "      <td>0.3</td>\n",
       "      <td>0.000004</td>\n",
       "      <td>0.000004</td>\n",
       "      <td>1.036505e-06</td>\n",
       "      <td>0.000001</td>\n",
       "      <td>0.000002</td>\n",
       "      <td>3.160525e-07</td>\n",
       "      <td>0.000003</td>\n",
       "      <td>0.000001</td>\n",
       "      <td>0.000002</td>\n",
       "      <td>0.000004</td>\n",
       "      <td>0.000013</td>\n",
       "      <td>7.073275e-07</td>\n",
       "      <td>0.000039</td>\n",
       "      <td>0.000021</td>\n",
       "      <td>0.000006</td>\n",
       "      <td>0.000005</td>\n",
       "      <td>0.000012</td>\n",
       "      <td>0.000001</td>\n",
       "      <td>0.000037</td>\n",
       "      <td>0.000054</td>\n",
       "      <td>0.000017</td>\n",
       "      <td>0.000015</td>\n",
       "      <td>0.000011</td>\n",
       "      <td>1.399655e-06</td>\n",
       "      <td>None</td>\n",
       "      <td>E_A1</td>\n",
       "    </tr>\n",
       "    <tr>\n",
       "      <th>4</th>\n",
       "      <td>0.4</td>\n",
       "      <td>0.000004</td>\n",
       "      <td>0.000004</td>\n",
       "      <td>9.465525e-07</td>\n",
       "      <td>0.000001</td>\n",
       "      <td>0.000002</td>\n",
       "      <td>2.424750e-07</td>\n",
       "      <td>0.000002</td>\n",
       "      <td>0.000002</td>\n",
       "      <td>0.000003</td>\n",
       "      <td>0.000004</td>\n",
       "      <td>0.000014</td>\n",
       "      <td>7.688175e-07</td>\n",
       "      <td>0.000037</td>\n",
       "      <td>0.000022</td>\n",
       "      <td>0.000005</td>\n",
       "      <td>0.000004</td>\n",
       "      <td>0.000010</td>\n",
       "      <td>0.000001</td>\n",
       "      <td>0.000032</td>\n",
       "      <td>0.000059</td>\n",
       "      <td>0.000021</td>\n",
       "      <td>0.000017</td>\n",
       "      <td>0.000013</td>\n",
       "      <td>1.546173e-06</td>\n",
       "      <td>None</td>\n",
       "      <td>E_A1</td>\n",
       "    </tr>\n",
       "  </tbody>\n",
       "</table>\n",
       "</div>"
      ],
      "text/plain": [
       "   Time(s)  PFC_delta  PFC_theta     PFC_alpha  PFC_beta  PFC_low_gamma  \\\n",
       "0      0.0   0.000003   0.000003  7.761625e-07  0.000002       0.000002   \n",
       "1      0.1   0.000003   0.000003  8.544600e-07  0.000002       0.000002   \n",
       "2      0.2   0.000004   0.000004  8.624575e-07  0.000002       0.000002   \n",
       "3      0.3   0.000004   0.000004  1.036505e-06  0.000001       0.000002   \n",
       "4      0.4   0.000004   0.000004  9.465525e-07  0.000001       0.000002   \n",
       "\n",
       "   PFC_high_gamma  BLA_delta  BLA_theta  BLA_alpha  BLA_beta  BLA_low_gamma  \\\n",
       "0    3.155750e-07   0.000003   0.000005   0.000002  0.000004       0.000012   \n",
       "1    3.000700e-07   0.000003   0.000004   0.000003  0.000005       0.000012   \n",
       "2    2.604275e-07   0.000002   0.000002   0.000002  0.000005       0.000014   \n",
       "3    3.160525e-07   0.000003   0.000001   0.000002  0.000004       0.000013   \n",
       "4    2.424750e-07   0.000002   0.000002   0.000003  0.000004       0.000014   \n",
       "\n",
       "   BLA_high_gamma  NAc_delta  NAc_theta  NAc_alpha  NAc_beta  NAc_low_gamma  \\\n",
       "0    7.465025e-07   0.000043   0.000022   0.000007  0.000008       0.000010   \n",
       "1    6.375900e-07   0.000050   0.000030   0.000006  0.000005       0.000010   \n",
       "2    6.077150e-07   0.000053   0.000032   0.000006  0.000006       0.000011   \n",
       "3    7.073275e-07   0.000039   0.000021   0.000006  0.000005       0.000012   \n",
       "4    7.688175e-07   0.000037   0.000022   0.000005  0.000004       0.000010   \n",
       "\n",
       "   NAc_high_gamma  vHip_delta  vHip_theta  vHip_alpha  vHip_beta  \\\n",
       "0        0.000001    0.000047    0.000040    0.000025   0.000012   \n",
       "1        0.000001    0.000048    0.000047    0.000022   0.000011   \n",
       "2        0.000001    0.000035    0.000052    0.000018   0.000013   \n",
       "3        0.000001    0.000037    0.000054    0.000017   0.000015   \n",
       "4        0.000001    0.000032    0.000059    0.000021   0.000017   \n",
       "\n",
       "   vHip_low_gamma  vHip_high_gamma Reward MouseId  \n",
       "0        0.000010     1.251572e-06   None    E_A1  \n",
       "1        0.000011     8.988825e-07   None    E_A1  \n",
       "2        0.000012     1.226840e-06   None    E_A1  \n",
       "3        0.000011     1.399655e-06   None    E_A1  \n",
       "4        0.000013     1.546173e-06   None    E_A1  "
      ]
     },
     "metadata": {},
     "output_type": "display_data"
    }
   ],
   "source": [
    "display(data.head())"
   ]
  },
  {
   "cell_type": "code",
   "execution_count": 6,
   "metadata": {},
   "outputs": [
    {
     "name": "stdout",
     "output_type": "stream",
     "text": [
      "['Time(s)' 'PFC_delta' 'PFC_theta' 'PFC_alpha' 'PFC_beta' 'PFC_low_gamma'\n",
      " 'PFC_high_gamma' 'BLA_delta' 'BLA_theta' 'BLA_alpha' 'BLA_beta'\n",
      " 'BLA_low_gamma' 'BLA_high_gamma' 'NAc_delta' 'NAc_theta' 'NAc_alpha'\n",
      " 'NAc_beta' 'NAc_low_gamma' 'NAc_high_gamma' 'vHip_delta' 'vHip_theta'\n",
      " 'vHip_alpha' 'vHip_beta' 'vHip_low_gamma' 'vHip_high_gamma' 'Reward'\n",
      " 'MouseId']\n"
     ]
    }
   ],
   "source": [
    "print(data.columns.values)"
   ]
  },
  {
   "cell_type": "code",
   "execution_count": 7,
   "metadata": {},
   "outputs": [],
   "source": [
    "# General imports\n",
    "import numpy as np\n",
    "import pandas as pd\n",
    "import matplotlib.pyplot as plt\n",
    "\n",
    "# Generating data\n",
    "X = data[['BLA_delta', 'Time(s)' ]]\n",
    "X=X.to_numpy()\n",
    "\n",
    "Y =data['Reward']\n",
    "le = preprocessing.LabelEncoder() # initialize encoder obj\n",
    "Y= le.fit_transform(Y) # fit and transform the 5% data\n",
    "\n"
   ]
  },
  {
   "cell_type": "code",
   "execution_count": 8,
   "metadata": {},
   "outputs": [
    {
     "data": {
      "image/png": "[encoded data removed]",
      "text/plain": [
       "<Figure size 432x288 with 1 Axes>"
      ]
     },
     "metadata": {
      "needs_background": "light"
     },
     "output_type": "display_data"
    },
    {
     "name": "stdout",
     "output_type": "stream",
     "text": [
      "-903.413798818712\n"
     ]
    }
   ],
   "source": [
    "plt.scatter(X[:, 0], Y)\n",
    "plt.show()\n",
    "#plt.scatter(X[:, 1], Y)\n",
    "#plt.show()\n",
    "\n",
    "# Applying linear reg\n",
    "from sklearn.linear_model import LinearRegression\n",
    "regressor = LinearRegression().fit(X, Y)\n",
    "# Checking the accuracy\n",
    "from sklearn.metrics import r2_score\n",
    "print(r2_score(regressor.predict(X), Y))"
   ]
  },
  {
   "cell_type": "code",
   "execution_count": null,
   "metadata": {},
   "outputs": [],
   "source": [
    "clf = SVC()\n",
    "scores = cross_val_score(clf, X, Y, cv=10)"
   ]
  },
  {
   "cell_type": "code",
   "execution_count": 9,
   "metadata": {},
   "outputs": [
    {
     "data": {
      "text/plain": [
       "DecisionTreeClassifier()"
      ]
     },
     "execution_count": 9,
     "metadata": {},
     "output_type": "execute_result"
    }
   ],
   "source": [
    "tree = DecisionTreeClassifier()\n",
    "tree.fit(X, Y)"
   ]
  },
  {
   "cell_type": "code",
   "execution_count": 50,
   "metadata": {},
   "outputs": [
    {
     "data": {
      "text/plain": [
       "15496"
      ]
     },
     "execution_count": 50,
     "metadata": {},
     "output_type": "execute_result"
    }
   ],
   "source": [
    "sum(abs(tree.predict(X) - Y))"
   ]
  },
  {
   "cell_type": "code",
   "execution_count": 10,
   "metadata": {},
   "outputs": [
    {
     "data": {
      "text/plain": [
       "array([0.34204229, 0.65795771])"
      ]
     },
     "execution_count": 10,
     "metadata": {},
     "output_type": "execute_result"
    }
   ],
   "source": [
    "tree.feature_importances_"
   ]
  },
  {
   "cell_type": "code",
   "execution_count": 12,
   "metadata": {},
   "outputs": [
    {
     "data": {
      "text/plain": [
       "684"
      ]
     },
     "execution_count": 12,
     "metadata": {},
     "output_type": "execute_result"
    }
   ],
   "source": [
    "sum(abs(tree.predict(X) - Y))"
   ]
  },
  {
   "cell_type": "code",
   "execution_count": 10,
   "metadata": {},
   "outputs": [
    {
     "data": {
      "text/html": [
       "<div>\n",
       "<style scoped>\n",
       "    .dataframe tbody tr th:only-of-type {\n",
       "        vertical-align: middle;\n",
       "    }\n",
       "\n",
       "    .dataframe tbody tr th {\n",
       "        vertical-align: top;\n",
       "    }\n",
       "\n",
       "    .dataframe thead th {\n",
       "        text-align: right;\n",
       "    }\n",
       "</style>\n",
       "<table border=\"1\" class=\"dataframe\">\n",
       "  <thead>\n",
       "    <tr style=\"text-align: right;\">\n",
       "      <th></th>\n",
       "      <th>Time(s)</th>\n",
       "      <th>PFC_delta</th>\n",
       "      <th>PFC_theta</th>\n",
       "      <th>PFC_alpha</th>\n",
       "      <th>PFC_beta</th>\n",
       "      <th>PFC_low_gamma</th>\n",
       "      <th>PFC_high_gamma</th>\n",
       "      <th>BLA_delta</th>\n",
       "      <th>BLA_theta</th>\n",
       "      <th>BLA_alpha</th>\n",
       "      <th>BLA_beta</th>\n",
       "      <th>BLA_low_gamma</th>\n",
       "      <th>BLA_high_gamma</th>\n",
       "      <th>NAc_delta</th>\n",
       "      <th>NAc_theta</th>\n",
       "      <th>NAc_alpha</th>\n",
       "      <th>NAc_beta</th>\n",
       "      <th>NAc_low_gamma</th>\n",
       "      <th>NAc_high_gamma</th>\n",
       "      <th>vHip_delta</th>\n",
       "      <th>vHip_theta</th>\n",
       "      <th>vHip_alpha</th>\n",
       "      <th>vHip_beta</th>\n",
       "      <th>vHip_low_gamma</th>\n",
       "      <th>vHip_high_gamma</th>\n",
       "      <th>Reward</th>\n",
       "      <th>MouseId</th>\n",
       "    </tr>\n",
       "  </thead>\n",
       "  <tbody>\n",
       "    <tr>\n",
       "      <th>57186</th>\n",
       "      <td>4538.0</td>\n",
       "      <td>0.000003</td>\n",
       "      <td>0.000001</td>\n",
       "      <td>4.236389e-07</td>\n",
       "      <td>9.178223e-07</td>\n",
       "      <td>5.120134e-07</td>\n",
       "      <td>1.272260e-07</td>\n",
       "      <td>0.000004</td>\n",
       "      <td>0.000004</td>\n",
       "      <td>0.000005</td>\n",
       "      <td>0.000002</td>\n",
       "      <td>0.000003</td>\n",
       "      <td>5.272550e-07</td>\n",
       "      <td>0.000017</td>\n",
       "      <td>0.000004</td>\n",
       "      <td>0.000001</td>\n",
       "      <td>0.000003</td>\n",
       "      <td>0.000002</td>\n",
       "      <td>8.146167e-07</td>\n",
       "      <td>0.000021</td>\n",
       "      <td>0.000036</td>\n",
       "      <td>0.000008</td>\n",
       "      <td>0.000004</td>\n",
       "      <td>0.000002</td>\n",
       "      <td>8.090275e-07</td>\n",
       "      <td>None</td>\n",
       "      <td>E_A3</td>\n",
       "    </tr>\n",
       "    <tr>\n",
       "      <th>57187</th>\n",
       "      <td>4538.1</td>\n",
       "      <td>0.000003</td>\n",
       "      <td>0.000001</td>\n",
       "      <td>4.189762e-07</td>\n",
       "      <td>1.026438e-06</td>\n",
       "      <td>4.662107e-07</td>\n",
       "      <td>1.159059e-07</td>\n",
       "      <td>0.000004</td>\n",
       "      <td>0.000004</td>\n",
       "      <td>0.000004</td>\n",
       "      <td>0.000002</td>\n",
       "      <td>0.000002</td>\n",
       "      <td>5.204800e-07</td>\n",
       "      <td>0.000016</td>\n",
       "      <td>0.000007</td>\n",
       "      <td>0.000002</td>\n",
       "      <td>0.000003</td>\n",
       "      <td>0.000002</td>\n",
       "      <td>6.897800e-07</td>\n",
       "      <td>0.000019</td>\n",
       "      <td>0.000034</td>\n",
       "      <td>0.000008</td>\n",
       "      <td>0.000004</td>\n",
       "      <td>0.000002</td>\n",
       "      <td>7.608575e-07</td>\n",
       "      <td>None</td>\n",
       "      <td>E_A3</td>\n",
       "    </tr>\n",
       "    <tr>\n",
       "      <th>57188</th>\n",
       "      <td>4538.2</td>\n",
       "      <td>0.000003</td>\n",
       "      <td>0.000002</td>\n",
       "      <td>4.487163e-07</td>\n",
       "      <td>1.165271e-06</td>\n",
       "      <td>4.521441e-07</td>\n",
       "      <td>1.199543e-07</td>\n",
       "      <td>0.000004</td>\n",
       "      <td>0.000004</td>\n",
       "      <td>0.000004</td>\n",
       "      <td>0.000002</td>\n",
       "      <td>0.000002</td>\n",
       "      <td>5.290200e-07</td>\n",
       "      <td>0.000017</td>\n",
       "      <td>0.000007</td>\n",
       "      <td>0.000002</td>\n",
       "      <td>0.000003</td>\n",
       "      <td>0.000002</td>\n",
       "      <td>7.036933e-07</td>\n",
       "      <td>0.000018</td>\n",
       "      <td>0.000034</td>\n",
       "      <td>0.000008</td>\n",
       "      <td>0.000004</td>\n",
       "      <td>0.000002</td>\n",
       "      <td>7.554750e-07</td>\n",
       "      <td>None</td>\n",
       "      <td>E_A3</td>\n",
       "    </tr>\n",
       "    <tr>\n",
       "      <th>57189</th>\n",
       "      <td>4538.3</td>\n",
       "      <td>0.000003</td>\n",
       "      <td>0.000002</td>\n",
       "      <td>3.847968e-07</td>\n",
       "      <td>1.221628e-06</td>\n",
       "      <td>4.226685e-07</td>\n",
       "      <td>1.411656e-07</td>\n",
       "      <td>0.000003</td>\n",
       "      <td>0.000005</td>\n",
       "      <td>0.000005</td>\n",
       "      <td>0.000003</td>\n",
       "      <td>0.000003</td>\n",
       "      <td>5.450700e-07</td>\n",
       "      <td>0.000013</td>\n",
       "      <td>0.000007</td>\n",
       "      <td>0.000003</td>\n",
       "      <td>0.000004</td>\n",
       "      <td>0.000002</td>\n",
       "      <td>7.214300e-07</td>\n",
       "      <td>0.000018</td>\n",
       "      <td>0.000033</td>\n",
       "      <td>0.000008</td>\n",
       "      <td>0.000005</td>\n",
       "      <td>0.000002</td>\n",
       "      <td>7.141625e-07</td>\n",
       "      <td>None</td>\n",
       "      <td>E_A3</td>\n",
       "    </tr>\n",
       "    <tr>\n",
       "      <th>57190</th>\n",
       "      <td>4538.4</td>\n",
       "      <td>0.000002</td>\n",
       "      <td>0.000001</td>\n",
       "      <td>4.708521e-07</td>\n",
       "      <td>1.163680e-06</td>\n",
       "      <td>4.301541e-07</td>\n",
       "      <td>1.576603e-07</td>\n",
       "      <td>0.000003</td>\n",
       "      <td>0.000003</td>\n",
       "      <td>0.000005</td>\n",
       "      <td>0.000002</td>\n",
       "      <td>0.000003</td>\n",
       "      <td>6.069075e-07</td>\n",
       "      <td>0.000009</td>\n",
       "      <td>0.000005</td>\n",
       "      <td>0.000002</td>\n",
       "      <td>0.000003</td>\n",
       "      <td>0.000002</td>\n",
       "      <td>7.633567e-07</td>\n",
       "      <td>0.000021</td>\n",
       "      <td>0.000025</td>\n",
       "      <td>0.000008</td>\n",
       "      <td>0.000005</td>\n",
       "      <td>0.000002</td>\n",
       "      <td>7.340625e-07</td>\n",
       "      <td>None</td>\n",
       "      <td>E_A3</td>\n",
       "    </tr>\n",
       "  </tbody>\n",
       "</table>\n",
       "</div>"
      ],
      "text/plain": [
       "       Time(s)  PFC_delta  PFC_theta     PFC_alpha      PFC_beta  \\\n",
       "57186   4538.0   0.000003   0.000001  4.236389e-07  9.178223e-07   \n",
       "57187   4538.1   0.000003   0.000001  4.189762e-07  1.026438e-06   \n",
       "57188   4538.2   0.000003   0.000002  4.487163e-07  1.165271e-06   \n",
       "57189   4538.3   0.000003   0.000002  3.847968e-07  1.221628e-06   \n",
       "57190   4538.4   0.000002   0.000001  4.708521e-07  1.163680e-06   \n",
       "\n",
       "       PFC_low_gamma  PFC_high_gamma  BLA_delta  BLA_theta  BLA_alpha  \\\n",
       "57186   5.120134e-07    1.272260e-07   0.000004   0.000004   0.000005   \n",
       "57187   4.662107e-07    1.159059e-07   0.000004   0.000004   0.000004   \n",
       "57188   4.521441e-07    1.199543e-07   0.000004   0.000004   0.000004   \n",
       "57189   4.226685e-07    1.411656e-07   0.000003   0.000005   0.000005   \n",
       "57190   4.301541e-07    1.576603e-07   0.000003   0.000003   0.000005   \n",
       "\n",
       "       BLA_beta  BLA_low_gamma  BLA_high_gamma  NAc_delta  NAc_theta  \\\n",
       "57186  0.000002       0.000003    5.272550e-07   0.000017   0.000004   \n",
       "57187  0.000002       0.000002    5.204800e-07   0.000016   0.000007   \n",
       "57188  0.000002       0.000002    5.290200e-07   0.000017   0.000007   \n",
       "57189  0.000003       0.000003    5.450700e-07   0.000013   0.000007   \n",
       "57190  0.000002       0.000003    6.069075e-07   0.000009   0.000005   \n",
       "\n",
       "       NAc_alpha  NAc_beta  NAc_low_gamma  NAc_high_gamma  vHip_delta  \\\n",
       "57186   0.000001  0.000003       0.000002    8.146167e-07    0.000021   \n",
       "57187   0.000002  0.000003       0.000002    6.897800e-07    0.000019   \n",
       "57188   0.000002  0.000003       0.000002    7.036933e-07    0.000018   \n",
       "57189   0.000003  0.000004       0.000002    7.214300e-07    0.000018   \n",
       "57190   0.000002  0.000003       0.000002    7.633567e-07    0.000021   \n",
       "\n",
       "       vHip_theta  vHip_alpha  vHip_beta  vHip_low_gamma  vHip_high_gamma  \\\n",
       "57186    0.000036    0.000008   0.000004        0.000002     8.090275e-07   \n",
       "57187    0.000034    0.000008   0.000004        0.000002     7.608575e-07   \n",
       "57188    0.000034    0.000008   0.000004        0.000002     7.554750e-07   \n",
       "57189    0.000033    0.000008   0.000005        0.000002     7.141625e-07   \n",
       "57190    0.000025    0.000008   0.000005        0.000002     7.340625e-07   \n",
       "\n",
       "      Reward MouseId  \n",
       "57186   None    E_A3  \n",
       "57187   None    E_A3  \n",
       "57188   None    E_A3  \n",
       "57189   None    E_A3  \n",
       "57190   None    E_A3  "
      ]
     },
     "execution_count": 10,
     "metadata": {},
     "output_type": "execute_result"
    }
   ],
   "source": [
    "# separate for test set \n",
    "data_small=data[data['MouseId'].isin(['E_A1', 'E_A3'])]\n",
    "data_small.tail()"
   ]
  },
  {
   "cell_type": "code",
   "execution_count": 11,
   "metadata": {},
   "outputs": [
    {
     "data": {
      "text/plain": [
       "array(['None', 'Water', 'Sucrose_5', 'Sucrose_15'], dtype=object)"
      ]
     },
     "execution_count": 11,
     "metadata": {},
     "output_type": "execute_result"
    }
   ],
   "source": [
    "data_small['Reward'].unique()"
   ]
  },
  {
   "cell_type": "code",
   "execution_count": 12,
   "metadata": {},
   "outputs": [
    {
     "data": {
      "text/plain": [
       "Time(s)            float64\n",
       "PFC_delta          float64\n",
       "PFC_theta          float64\n",
       "PFC_alpha          float64\n",
       "PFC_beta           float64\n",
       "PFC_low_gamma      float64\n",
       "PFC_high_gamma     float64\n",
       "BLA_delta          float64\n",
       "BLA_theta          float64\n",
       "BLA_alpha          float64\n",
       "BLA_beta           float64\n",
       "BLA_low_gamma      float64\n",
       "BLA_high_gamma     float64\n",
       "NAc_delta          float64\n",
       "NAc_theta          float64\n",
       "NAc_alpha          float64\n",
       "NAc_beta           float64\n",
       "NAc_low_gamma      float64\n",
       "NAc_high_gamma     float64\n",
       "vHip_delta         float64\n",
       "vHip_theta         float64\n",
       "vHip_alpha         float64\n",
       "vHip_beta          float64\n",
       "vHip_low_gamma     float64\n",
       "vHip_high_gamma    float64\n",
       "Reward              object\n",
       "MouseId             object\n",
       "dtype: object"
      ]
     },
     "execution_count": 12,
     "metadata": {},
     "output_type": "execute_result"
    }
   ],
   "source": [
    "data.dtypes"
   ]
  },
  {
   "cell_type": "markdown",
   "metadata": {},
   "source": [
    "### Standardize Data"
   ]
  },
  {
   "cell_type": "code",
   "execution_count": 29,
   "metadata": {},
   "outputs": [
    {
     "data": {
      "text/plain": [
       "array(['E_A1', 'E_A3', 'E_A5', 'E_A7', 'E_A8'], dtype=object)"
      ]
     },
     "execution_count": 29,
     "metadata": {},
     "output_type": "execute_result"
    }
   ],
   "source": [
    "data['MouseId'].unique()"
   ]
  },
  {
   "cell_type": "code",
   "execution_count": 30,
   "metadata": {},
   "outputs": [],
   "source": [
    "data=pd.get_dummies(data, columns=[\"MouseId\"])\n",
    "data_small=pd.get_dummies(data_small, columns=['MouseId'])"
   ]
  },
  {
   "cell_type": "code",
   "execution_count": 31,
   "metadata": {},
   "outputs": [
    {
     "data": {
      "text/html": [
       "<div>\n",
       "<style scoped>\n",
       "    .dataframe tbody tr th:only-of-type {\n",
       "        vertical-align: middle;\n",
       "    }\n",
       "\n",
       "    .dataframe tbody tr th {\n",
       "        vertical-align: top;\n",
       "    }\n",
       "\n",
       "    .dataframe thead th {\n",
       "        text-align: right;\n",
       "    }\n",
       "</style>\n",
       "<table border=\"1\" class=\"dataframe\">\n",
       "  <thead>\n",
       "    <tr style=\"text-align: right;\">\n",
       "      <th></th>\n",
       "      <th>Time(s)</th>\n",
       "      <th>PFC_delta</th>\n",
       "      <th>PFC_theta</th>\n",
       "      <th>PFC_alpha</th>\n",
       "      <th>PFC_beta</th>\n",
       "      <th>PFC_low_gamma</th>\n",
       "      <th>PFC_high_gamma</th>\n",
       "      <th>BLA_delta</th>\n",
       "      <th>BLA_theta</th>\n",
       "      <th>BLA_alpha</th>\n",
       "      <th>BLA_beta</th>\n",
       "      <th>BLA_low_gamma</th>\n",
       "      <th>BLA_high_gamma</th>\n",
       "      <th>NAc_delta</th>\n",
       "      <th>NAc_theta</th>\n",
       "      <th>NAc_alpha</th>\n",
       "      <th>NAc_beta</th>\n",
       "      <th>NAc_low_gamma</th>\n",
       "      <th>NAc_high_gamma</th>\n",
       "      <th>vHip_delta</th>\n",
       "      <th>vHip_theta</th>\n",
       "      <th>vHip_alpha</th>\n",
       "      <th>vHip_beta</th>\n",
       "      <th>vHip_low_gamma</th>\n",
       "      <th>vHip_high_gamma</th>\n",
       "      <th>Reward</th>\n",
       "      <th>MouseId_E_A1</th>\n",
       "      <th>MouseId_E_A3</th>\n",
       "    </tr>\n",
       "  </thead>\n",
       "  <tbody>\n",
       "    <tr>\n",
       "      <th>0</th>\n",
       "      <td>0.0</td>\n",
       "      <td>0.000003</td>\n",
       "      <td>0.000003</td>\n",
       "      <td>7.761625e-07</td>\n",
       "      <td>0.000002</td>\n",
       "      <td>0.000002</td>\n",
       "      <td>3.155750e-07</td>\n",
       "      <td>0.000003</td>\n",
       "      <td>0.000005</td>\n",
       "      <td>0.000002</td>\n",
       "      <td>0.000004</td>\n",
       "      <td>0.000012</td>\n",
       "      <td>7.465025e-07</td>\n",
       "      <td>0.000043</td>\n",
       "      <td>0.000022</td>\n",
       "      <td>0.000007</td>\n",
       "      <td>0.000008</td>\n",
       "      <td>0.000010</td>\n",
       "      <td>0.000001</td>\n",
       "      <td>0.000047</td>\n",
       "      <td>0.000040</td>\n",
       "      <td>0.000025</td>\n",
       "      <td>0.000012</td>\n",
       "      <td>0.000010</td>\n",
       "      <td>1.251572e-06</td>\n",
       "      <td>None</td>\n",
       "      <td>1</td>\n",
       "      <td>0</td>\n",
       "    </tr>\n",
       "    <tr>\n",
       "      <th>1</th>\n",
       "      <td>0.1</td>\n",
       "      <td>0.000003</td>\n",
       "      <td>0.000003</td>\n",
       "      <td>8.544600e-07</td>\n",
       "      <td>0.000002</td>\n",
       "      <td>0.000002</td>\n",
       "      <td>3.000700e-07</td>\n",
       "      <td>0.000003</td>\n",
       "      <td>0.000004</td>\n",
       "      <td>0.000003</td>\n",
       "      <td>0.000005</td>\n",
       "      <td>0.000012</td>\n",
       "      <td>6.375900e-07</td>\n",
       "      <td>0.000050</td>\n",
       "      <td>0.000030</td>\n",
       "      <td>0.000006</td>\n",
       "      <td>0.000005</td>\n",
       "      <td>0.000010</td>\n",
       "      <td>0.000001</td>\n",
       "      <td>0.000048</td>\n",
       "      <td>0.000047</td>\n",
       "      <td>0.000022</td>\n",
       "      <td>0.000011</td>\n",
       "      <td>0.000011</td>\n",
       "      <td>8.988825e-07</td>\n",
       "      <td>None</td>\n",
       "      <td>1</td>\n",
       "      <td>0</td>\n",
       "    </tr>\n",
       "    <tr>\n",
       "      <th>2</th>\n",
       "      <td>0.2</td>\n",
       "      <td>0.000004</td>\n",
       "      <td>0.000004</td>\n",
       "      <td>8.624575e-07</td>\n",
       "      <td>0.000002</td>\n",
       "      <td>0.000002</td>\n",
       "      <td>2.604275e-07</td>\n",
       "      <td>0.000002</td>\n",
       "      <td>0.000002</td>\n",
       "      <td>0.000002</td>\n",
       "      <td>0.000005</td>\n",
       "      <td>0.000014</td>\n",
       "      <td>6.077150e-07</td>\n",
       "      <td>0.000053</td>\n",
       "      <td>0.000032</td>\n",
       "      <td>0.000006</td>\n",
       "      <td>0.000006</td>\n",
       "      <td>0.000011</td>\n",
       "      <td>0.000001</td>\n",
       "      <td>0.000035</td>\n",
       "      <td>0.000052</td>\n",
       "      <td>0.000018</td>\n",
       "      <td>0.000013</td>\n",
       "      <td>0.000012</td>\n",
       "      <td>1.226840e-06</td>\n",
       "      <td>None</td>\n",
       "      <td>1</td>\n",
       "      <td>0</td>\n",
       "    </tr>\n",
       "    <tr>\n",
       "      <th>3</th>\n",
       "      <td>0.3</td>\n",
       "      <td>0.000004</td>\n",
       "      <td>0.000004</td>\n",
       "      <td>1.036505e-06</td>\n",
       "      <td>0.000001</td>\n",
       "      <td>0.000002</td>\n",
       "      <td>3.160525e-07</td>\n",
       "      <td>0.000003</td>\n",
       "      <td>0.000001</td>\n",
       "      <td>0.000002</td>\n",
       "      <td>0.000004</td>\n",
       "      <td>0.000013</td>\n",
       "      <td>7.073275e-07</td>\n",
       "      <td>0.000039</td>\n",
       "      <td>0.000021</td>\n",
       "      <td>0.000006</td>\n",
       "      <td>0.000005</td>\n",
       "      <td>0.000012</td>\n",
       "      <td>0.000001</td>\n",
       "      <td>0.000037</td>\n",
       "      <td>0.000054</td>\n",
       "      <td>0.000017</td>\n",
       "      <td>0.000015</td>\n",
       "      <td>0.000011</td>\n",
       "      <td>1.399655e-06</td>\n",
       "      <td>None</td>\n",
       "      <td>1</td>\n",
       "      <td>0</td>\n",
       "    </tr>\n",
       "    <tr>\n",
       "      <th>4</th>\n",
       "      <td>0.4</td>\n",
       "      <td>0.000004</td>\n",
       "      <td>0.000004</td>\n",
       "      <td>9.465525e-07</td>\n",
       "      <td>0.000001</td>\n",
       "      <td>0.000002</td>\n",
       "      <td>2.424750e-07</td>\n",
       "      <td>0.000002</td>\n",
       "      <td>0.000002</td>\n",
       "      <td>0.000003</td>\n",
       "      <td>0.000004</td>\n",
       "      <td>0.000014</td>\n",
       "      <td>7.688175e-07</td>\n",
       "      <td>0.000037</td>\n",
       "      <td>0.000022</td>\n",
       "      <td>0.000005</td>\n",
       "      <td>0.000004</td>\n",
       "      <td>0.000010</td>\n",
       "      <td>0.000001</td>\n",
       "      <td>0.000032</td>\n",
       "      <td>0.000059</td>\n",
       "      <td>0.000021</td>\n",
       "      <td>0.000017</td>\n",
       "      <td>0.000013</td>\n",
       "      <td>1.546173e-06</td>\n",
       "      <td>None</td>\n",
       "      <td>1</td>\n",
       "      <td>0</td>\n",
       "    </tr>\n",
       "  </tbody>\n",
       "</table>\n",
       "</div>"
      ],
      "text/plain": [
       "   Time(s)  PFC_delta  PFC_theta     PFC_alpha  PFC_beta  PFC_low_gamma  \\\n",
       "0      0.0   0.000003   0.000003  7.761625e-07  0.000002       0.000002   \n",
       "1      0.1   0.000003   0.000003  8.544600e-07  0.000002       0.000002   \n",
       "2      0.2   0.000004   0.000004  8.624575e-07  0.000002       0.000002   \n",
       "3      0.3   0.000004   0.000004  1.036505e-06  0.000001       0.000002   \n",
       "4      0.4   0.000004   0.000004  9.465525e-07  0.000001       0.000002   \n",
       "\n",
       "   PFC_high_gamma  BLA_delta  BLA_theta  BLA_alpha  BLA_beta  BLA_low_gamma  \\\n",
       "0    3.155750e-07   0.000003   0.000005   0.000002  0.000004       0.000012   \n",
       "1    3.000700e-07   0.000003   0.000004   0.000003  0.000005       0.000012   \n",
       "2    2.604275e-07   0.000002   0.000002   0.000002  0.000005       0.000014   \n",
       "3    3.160525e-07   0.000003   0.000001   0.000002  0.000004       0.000013   \n",
       "4    2.424750e-07   0.000002   0.000002   0.000003  0.000004       0.000014   \n",
       "\n",
       "   BLA_high_gamma  NAc_delta  NAc_theta  NAc_alpha  NAc_beta  NAc_low_gamma  \\\n",
       "0    7.465025e-07   0.000043   0.000022   0.000007  0.000008       0.000010   \n",
       "1    6.375900e-07   0.000050   0.000030   0.000006  0.000005       0.000010   \n",
       "2    6.077150e-07   0.000053   0.000032   0.000006  0.000006       0.000011   \n",
       "3    7.073275e-07   0.000039   0.000021   0.000006  0.000005       0.000012   \n",
       "4    7.688175e-07   0.000037   0.000022   0.000005  0.000004       0.000010   \n",
       "\n",
       "   NAc_high_gamma  vHip_delta  vHip_theta  vHip_alpha  vHip_beta  \\\n",
       "0        0.000001    0.000047    0.000040    0.000025   0.000012   \n",
       "1        0.000001    0.000048    0.000047    0.000022   0.000011   \n",
       "2        0.000001    0.000035    0.000052    0.000018   0.000013   \n",
       "3        0.000001    0.000037    0.000054    0.000017   0.000015   \n",
       "4        0.000001    0.000032    0.000059    0.000021   0.000017   \n",
       "\n",
       "   vHip_low_gamma  vHip_high_gamma Reward  MouseId_E_A1  MouseId_E_A3  \n",
       "0        0.000010     1.251572e-06   None             1             0  \n",
       "1        0.000011     8.988825e-07   None             1             0  \n",
       "2        0.000012     1.226840e-06   None             1             0  \n",
       "3        0.000011     1.399655e-06   None             1             0  \n",
       "4        0.000013     1.546173e-06   None             1             0  "
      ]
     },
     "execution_count": 31,
     "metadata": {},
     "output_type": "execute_result"
    }
   ],
   "source": [
    "#data.head()\n",
    "data_small.head()"
   ]
  },
  {
   "cell_type": "markdown",
   "metadata": {},
   "source": [
    "Setup y"
   ]
  },
  {
   "cell_type": "code",
   "execution_count": 32,
   "metadata": {},
   "outputs": [
    {
     "name": "stdout",
     "output_type": "stream",
     "text": [
      "['Water' 'Sucrose_5']\n",
      "('Time(s)', 'PFC_delta', 'PFC_theta', 'PFC_alpha', 'PFC_beta', 'PFC_low_gamma', 'PFC_high_gamma', 'BLA_delta', 'BLA_theta', 'BLA_alpha', 'BLA_beta', 'BLA_low_gamma', 'BLA_high_gamma', 'NAc_delta', 'NAc_theta', 'NAc_alpha', 'NAc_beta', 'NAc_low_gamma', 'NAc_high_gamma', 'vHip_delta', 'vHip_theta', 'vHip_alpha', 'vHip_beta', 'vHip_low_gamma', 'vHip_high_gamma', 'Reward', 'MouseId_E_A1', 'MouseId_E_A3')\n"
     ]
    }
   ],
   "source": [
    "yy=data_small['Reward']\n",
    "\n",
    "cond_mask=data_small[\"Reward\"].isin(['Water', \"Sucrose_5\"])\n",
    "\n",
    "y_s5=yy[cond_mask]\n",
    "print(y_s5.unique())\n",
    "\n",
    "\n",
    "session = data_small[cond_mask].to_records(index=False)\n",
    "print(session.dtype.names)"
   ]
  },
  {
   "cell_type": "code",
   "execution_count": 33,
   "metadata": {},
   "outputs": [],
   "source": [
    "#Y=data['Reward']\n",
    "#Y_small=data_small[\"Reward\"]"
   ]
  },
  {
   "cell_type": "markdown",
   "metadata": {},
   "source": [
    "Label Encoding on target variables Y"
   ]
  },
  {
   "cell_type": "code",
   "execution_count": 34,
   "metadata": {},
   "outputs": [],
   "source": [
    "#le = preprocessing.LabelEncoder()\n",
    "#le.fit(Y)\n",
    "#y_enc = le.transform(Y)"
   ]
  },
  {
   "cell_type": "code",
   "execution_count": 35,
   "metadata": {},
   "outputs": [],
   "source": [
    "le = preprocessing.LabelEncoder()\n",
    "le.fit(y_s5)\n",
    "y_s5_enc = le.transform(y_s5)"
   ]
  },
  {
   "cell_type": "code",
   "execution_count": 36,
   "metadata": {},
   "outputs": [
    {
     "name": "stdout",
     "output_type": "stream",
     "text": [
      "(2091,)\n"
     ]
    }
   ],
   "source": [
    "print(y_s5_enc.shape)"
   ]
  },
  {
   "cell_type": "code",
   "execution_count": 37,
   "metadata": {},
   "outputs": [],
   "source": [
    "#delta_bla=data[[\"BLA_delta\", 'Time(s)']] # get target features\n",
    "#db5_X=delta_bla.to_numpy() # convert data to numpy array\n",
    "delta_bla = data_small[cond_mask]\n",
    "delta_bla=delta_bla[[\"BLA_delta\", 'Time(s)', 'MouseId_E_A1', 'MouseId_E_A3']] # get target features\n",
    "scaler = preprocessing.StandardScaler() # initialize scale object\n",
    "# Fit the scaler to the feature data and transform\n",
    "X_db = scaler.fit_transform(delta_bla) # fit and transform \n"
   ]
  },
  {
   "cell_type": "code",
   "execution_count": 38,
   "metadata": {},
   "outputs": [
    {
     "data": {
      "text/plain": [
       "(2091, 4)"
      ]
     },
     "execution_count": 38,
     "metadata": {},
     "output_type": "execute_result"
    }
   ],
   "source": [
    "X_db.shape"
   ]
  },
  {
   "cell_type": "markdown",
   "metadata": {},
   "source": [
    "### Model Design"
   ]
  },
  {
   "cell_type": "code",
   "execution_count": 39,
   "metadata": {},
   "outputs": [],
   "source": [
    "# configure the cross-validation procedure\n",
    "cv_inner = KFold(n_splits=3, shuffle=True, random_state=1)\n"
   ]
  },
  {
   "cell_type": "code",
   "execution_count": 40,
   "metadata": {},
   "outputs": [],
   "source": [
    "from sklearn.svm import SVC\n",
    "# define the model\n",
    "svc = SVC(kernel='linear', max_iter=10000)"
   ]
  },
  {
   "cell_type": "code",
   "execution_count": 41,
   "metadata": {},
   "outputs": [],
   "source": [
    "#Define the hyperparameter grid\n",
    "from sklearn.model_selection import GridSearchCV\n",
    "param_grid = {'C': [ 10, 100, 300]}\n",
    "grid = GridSearchCV(svc,param_grid ,scoring='accuracy', verbose=1, n_jobs=1, cv=cv_inner)\n"
   ]
  },
  {
   "cell_type": "code",
   "execution_count": 45,
   "metadata": {},
   "outputs": [
    {
     "name": "stdout",
     "output_type": "stream",
     "text": [
      "Accuracy: 0.602 (0.117)\n"
     ]
    }
   ],
   "source": [
    "# configure the cross-validation procedure\n",
    "from numpy import mean,std\n",
    "\n",
    "cv_outer = KFold(n_splits=10, shuffle=True, random_state=1)\n",
    "# execute the nested cross-validation\n",
    "scores = cross_val_score(grid, X_db, y_s5_enc, scoring='accuracy', cv=cv_outer, n_jobs=3)\n",
    "# report performance\n",
    "print('Accuracy: %.3f (%.3f)' % (mean(scores), std(scores)))"
   ]
  },
  {
   "cell_type": "markdown",
   "metadata": {},
   "source": [
    "**Initialize a gridsearch object with the support vector classifier and the parameter grid.**"
   ]
  },
  {
   "cell_type": "code",
   "execution_count": null,
   "metadata": {},
   "outputs": [],
   "source": [
    "svm = SVC(kernel=\"linear\", max_iter=10000)\n",
    "\n",
    "# Create a gridsearch object with the support vector classifier and the C value candidates\n",
    "clf = GridSearchCV(estimator=svm, param_grid=C_candidates)\n",
    "\n"
   ]
  },
  {
   "cell_type": "code",
   "execution_count": null,
   "metadata": {},
   "outputs": [],
   "source": [
    "# Fit the cross validated grid search on the data \n",
    "clf.fit(X_db, y_small_enc)\n",
    "\n",
    "# Show# the best value for C\n",
    "clf.best_estimator_.C\n",
    "\n"
   ]
  },
  {
   "cell_type": "markdown",
   "metadata": {},
   "source": [
    "## Delta   \n",
    "---\n"
   ]
  },
  {
   "cell_type": "markdown",
   "metadata": {},
   "source": [
    "  - BLA Water vs. Sucrose 5%  \n",
    "  - BLA Water vs. Sucrose 15%  \n",
    "  - NAcc : Water vs. Sucrose 5%"
   ]
  },
  {
   "cell_type": "markdown",
   "metadata": {},
   "source": [
    "Setup X"
   ]
  },
  {
   "cell_type": "code",
   "execution_count": null,
   "metadata": {},
   "outputs": [],
   "source": [
    "cross_val_score(clf, X_db, y_small_enc)\n"
   ]
  },
  {
   "cell_type": "code",
   "execution_count": null,
   "metadata": {},
   "outputs": [],
   "source": []
  },
  {
   "cell_type": "markdown",
   "metadata": {},
   "source": [
    "**Setup nested CV**"
   ]
  },
  {
   "cell_type": "code",
   "execution_count": null,
   "metadata": {},
   "outputs": [],
   "source": [
    "# Number of rounds\n",
    "rounds = 20\n",
    "\n",
    "\n",
    "                #'gamma': [100, 200, 400]}\n",
    "\n",
    "\n",
    "# We will use a Support Vector Classifier with \"rbf\" kernel\n",
    "\n",
    "# Arrays to store scores\n",
    "#Create arrays to store the scores\n",
    "outer_scores = np.zeros(rounds)\n",
    "nested_scores = np.zeros(rounds)"
   ]
  },
  {
   "cell_type": "code",
   "execution_count": null,
   "metadata": {},
   "outputs": [],
   "source": [
    "# Import train_test_split function\n",
    "from sklearn.model_selection import train_test_split\n",
    "\n",
    "# Split dataset into training set and test set\n",
    "X_train, X_test, y_train, y_test = train_test_split(db5_X, db5_y, shuffle=True,test_size=0.3,random_state=3) # 70% training and 30% test\n"
   ]
  },
  {
   "cell_type": "code",
   "execution_count": null,
   "metadata": {},
   "outputs": [],
   "source": []
  },
  {
   "cell_type": "code",
   "execution_count": null,
   "metadata": {},
   "outputs": [],
   "source": []
  },
  {
   "cell_type": "code",
   "execution_count": null,
   "metadata": {},
   "outputs": [],
   "source": []
  },
  {
   "cell_type": "code",
   "execution_count": null,
   "metadata": {},
   "outputs": [],
   "source": [
    "#Predict the response for test dataset\n",
    "y_pred=SVM.predict(X_test)"
   ]
  },
  {
   "cell_type": "code",
   "execution_count": null,
   "metadata": {},
   "outputs": [],
   "source": [
    "np.unique(y_pred)#Predict the response for test dataset\n"
   ]
  },
  {
   "cell_type": "code",
   "execution_count": null,
   "metadata": {},
   "outputs": [],
   "source": [
    "X_test"
   ]
  },
  {
   "cell_type": "code",
   "execution_count": null,
   "metadata": {},
   "outputs": [],
   "source": [
    "(np.unique(y_test))"
   ]
  },
  {
   "cell_type": "markdown",
   "metadata": {},
   "source": [
    "Evaluate Algorithm"
   ]
  },
  {
   "cell_type": "code",
   "execution_count": null,
   "metadata": {},
   "outputs": [],
   "source": [
    "from sklearn.metrics import classification_report, confusion_matrix\n",
    "print(confusion_matrix(y_test,y_pred))\n",
    "print(classification_report(y_test,y_pred))"
   ]
  },
  {
   "cell_type": "code",
   "execution_count": null,
   "metadata": {},
   "outputs": [],
   "source": [
    "# Loop for each round\n",
    "for i in range(rounds):\n",
    "    # Loop for each trial# Choose cross-validation techniques for the inner and outer loops,\n",
    "    # independently of the dataset.\n",
    "    # E.g \"GroupKFold\", \"LeaveOneOut\", \"LeaveOneGroupOut\", etc.\n",
    "    inner_cv = KFold(n_splits=4, shuffle=True, random_state=i)\n",
    "    outer_cv = KFold(n_splits=4, shuffle=True, random_state=i)\n",
    "\n",
    "    # Non-nested parameter search and scoring\n",
    "    clf = GridSearchCV(estimator=svm, param_grid=param_grid, cv=inner_cv)\n",
    "    clf.fit(db5_X, db5_y)\n",
    "    outer_scores[i] = clf.best_score_\n",
    "\n",
    "    # Nested CV with parameter optimization\n",
    "    nested_score = cross_val_score(clf, X=db5_X, y=db5_y, cv=outer_cv)\n",
    "    nested_scores = nested_score.mean()\n",
    "\n",
    "print(\"--- %s seconds ---\" % (time.time() - start_time))"
   ]
  },
  {
   "cell_type": "code",
   "execution_count": null,
   "metadata": {},
   "outputs": [],
   "source": [
    "\"\"\"\n",
    "# Plotting Functions\n",
    "\"\"\"\n",
    "def make_meshgrid(x, y, h=.02):\n",
    "    \"\"\"Create a mesh of points to plot in\n",
    "\n",
    "    Parameters\n",
    "    ----------\n",
    "    x: data to base x-axis meshgrid on\n",
    "    y: data to base y-axis meshgrid on\n",
    "    h: stepsize for meshgrid, optional\n",
    "\n",
    "    Returns\n",
    "    -------\n",
    "    xx, yy : ndarray\n",
    "    \"\"\"\n",
    "    x_min, x_max = x.min() - 1, x.max() + 1\n",
    "    y_min, y_max = y.min() - 1, y.max() + 1\n",
    "    xx, yy = np.meshgrid(np.arange(x_min, x_max, h),\n",
    "                         np.arange(y_min, y_max, h))\n",
    "    return xx, yy\n",
    "\n",
    "\n",
    "\n",
    "def plot_contours(ax, clf, xx, yy, **params):\n",
    "    \"\"\"Plot the decision boundaries for a classifier.\n",
    "\n",
    "    Parameters\n",
    "    ----------\n",
    "    ax: matplotlib axes object\n",
    "    clf: a classifier\n",
    "    xx: meshgrid ndarray\n",
    "    yy: meshgrid ndarray\n",
    "    params: dictionary of params to pass to contourf, optional\n",
    "    \"\"\"\n",
    "    Z = clf.predict(np.c_[xx.ravel(), yy.ravel()])\n",
    "    Z = Z.reshape(xx.shape)\n",
    "    out = ax.contourf(xx, yy, Z, **params)\n",
    "    return out"
   ]
  },
  {
   "cell_type": "code",
   "execution_count": null,
   "metadata": {},
   "outputs": [],
   "source": [
    "# Set-up 2x2 grid for plotting.\n",
    "fig, sub = plt.subplots(1, 1)\n",
    "plt.subplots_adjust(wspace=0.4, hspace=0.4)\n",
    "#clf=SVC(kernel='linear', C=1)\n",
    "title='SVC with linear kernel'\n",
    "ax=sub#.flatten()"
   ]
  },
  {
   "cell_type": "code",
   "execution_count": null,
   "metadata": {},
   "outputs": [],
   "source": [
    "#clf.fit(db5_X[:1000], db5_y[:1000])"
   ]
  },
  {
   "cell_type": "code",
   "execution_count": null,
   "metadata": {},
   "outputs": [],
   "source": [
    "X0, X1 = db5_X[:, 0], db5_X[:, 1]\n",
    "xx, yy = make_meshgrid(X0, X1)"
   ]
  },
  {
   "cell_type": "code",
   "execution_count": null,
   "metadata": {},
   "outputs": [],
   "source": [
    "plot_contours(ax, clf, xx, yy,\n",
    "              cmap=plt.cm.coolwarm, alpha=0.8)\n",
    "ax.scatter(X0, X1, c=db5_y, cmap=plt.cm.coolwarm, s=20, edgecolors='k')\n",
    "ax.set_xlim(xx.min(), xx.max())\n",
    "ax.set_ylim(yy.min(), yy.max())\n",
    "ax.set_xlabel('Delta BLA ')\n",
    "ax.set_ylabel('Reward')\n",
    "ax.set_xticks(())\n",
    "ax.set_yticks(())\n",
    "ax.set_title(title)"
   ]
  },
  {
   "cell_type": "code",
   "execution_count": null,
   "metadata": {},
   "outputs": [],
   "source": [
    "plt.figure(figsize=(8, 6))\n",
    "\n",
    "# -- methods -- \n",
    "\n",
    "\n",
    "def make_meshgrid(x, y, h=.02):\n",
    "    \"\"\"Create a mesh of points to plot in\n",
    "\n",
    "    Parameters\n",
    "    ----------\n",
    "    x: data to base x-axis meshgrid on\n",
    "    y: data to base y-axis meshgrid on\n",
    "    h: stepsize for meshgrid, optional\n",
    "\n",
    "    Returns\n",
    "    -------\n",
    "    xx, yy : ndarray\n",
    "    \"\"\"\n",
    "    x_min, x_max = x.min() - 1, x.max() + 1\n",
    "    y_min, y_max = y.min() - 1, y.max() + 1\n",
    "    xx, yy = np.meshgrid(np.arange(x_min, x_max, h),\n",
    "                         np.arange(y_min, y_max, h))\n",
    "    return xx, yy\n",
    "\n",
    "\n",
    "def plot_contours(ax, clf, xx, yy, **params):\n",
    "    \"\"\"Plot the decision boundaries for a classifier.\n",
    "\n",
    "    Parameters\n",
    "    ----------\n",
    "    ax: matplotlib axes object\n",
    "    clf: a classifier\n",
    "    xx: meshgrid ndarray\n",
    "    yy: meshgrid ndarray\n",
    "    params: dictionary of params to pass to contourf, optional\n",
    "    \"\"\"\n",
    "    Z = clf.predict(np.c_[xx.ravel(), yy.ravel()])\n",
    "    Z = Z.reshape(xx.shape)\n",
    "    out = ax.contourf(xx, yy, Z, **params)\n",
    "    return out\n",
    "\n"
   ]
  },
  {
   "cell_type": "code",
   "execution_count": null,
   "metadata": {},
   "outputs": [],
   "source": [
    "# we create an instance of SVM and fit out data. We do not scale our\n",
    "# data since we want to plot the support vectors\n",
    "X=s5_db_data\n",
    "y=y_s5\n",
    "C = 1.0  # SVM regularization parameter\n",
    "models = (SVC(kernel='linear', C=C, max_iter=10000),\n",
    "          LinearSVC(C=C, max_iter=10000),\n",
    "          SVC(kernel='rbf', gamma=0.7, C=C, max_iter=10000),\n",
    "          SVC(kernel='poly', degree=2, gamma='auto', C=C, max_iter=10000))\n",
    "models = (clf.fit(s5_db_data,y_s5 ) for clf in models)\n",
    "\n",
    "\n",
    "# title for the plots\n",
    "titles = ('SVC with linear kernel',\n",
    "          'LinearSVC (linear kernel)',\n",
    "          'SVC with RBF kernel',\n",
    "          'SVC with polynomial (degree 3) kernel')\n",
    "\n",
    "# Set-up 2x2 grid for plotting.\n",
    "fig, sub = plt.subplots(1, 1)\n",
    "plt.subplots_adjust(wspace=0.4, hspace=0.4)\n",
    "\n",
    "X0, X1 = X.iloc[:, 0], X.iloc[:, 1]\n",
    "xx, yy = make_meshgrid(X0, X1)\n",
    "\n",
    "for clf, title, ax in zip(models, titles, sub.flatten()):\n",
    "    plot_contours(ax, clf, xx, yy,\n",
    "                  cmap=plt.cm.coolwarm, alpha=0.8)\n",
    "    ax.scatter(X0, X1, c=y, cmap=plt.cm.coolwarm, s=20, edgecolors='k')\n",
    "    ax.set_xlim(xx.min(), xx.max())\n",
    "    ax.set_ylim(yy.min(), yy.max())\n",
    "    ax.set_xlabel('Sepal length')\n",
    "    ax.set_ylabel('Sepal width')\n",
    "    ax.set_xticks(())\n",
    "    ax.set_yticks(())\n",
    "    ax.set_title(title)\n",
    "\n",
    "plt.show()"
   ]
  },
  {
   "cell_type": "code",
   "execution_count": null,
   "metadata": {},
   "outputs": [],
   "source": [
    "def plot_svc_decision_function(model, ax=None, plot_support=True):\n",
    "    \"\"\"Plot the decision function for a 2D SVC\"\"\"\n",
    "    if ax is None:\n",
    "        ax = plt.gca()\n",
    "    xlim = ax.get_xlim()\n",
    "    ylim = ax.get_ylim()\n",
    "    \n",
    "    # create grid to evaluate model\n",
    "    x = np.linspace(xlim[0], xlim[1], 30)\n",
    "    y = np.linspace(ylim[0], ylim[1], 30)\n",
    "    Y, X = np.meshgrid(y, x)\n",
    "    xy = np.vstack([X.ravel(), Y.ravel()]).T\n",
    "    P = model.decision_function(xy).reshape(X.shape)\n",
    "    \n",
    "    # plot decision boundary and margins\n",
    "    ax.contour(X, Y, P, colors='k',\n",
    "               levels=[-1, 0, 1], alpha=0.5,\n",
    "               linestyles=['--', '-', '--'])\n",
    "    \n",
    "    # plot support vectors\n",
    "    if plot_support:\n",
    "        ax.scatter(model.support_vectors_[:, 0],\n",
    "                   model.support_vectors_[:, 1],\n",
    "                   s=300, linewidth=1, facecolors='none');\n",
    "    ax.set_xlim(xlim)\n",
    "    ax.set_ylim(ylim)\n",
    "    "
   ]
  },
  {
   "cell_type": "markdown",
   "metadata": {},
   "source": [
    "---"
   ]
  },
  {
   "cell_type": "markdown",
   "metadata": {},
   "source": [
    "## Beta \n",
    "*Beta: PFC: W vs. 5% & W vs. 15%; NAcc: W vs. 5% & W vs. 15%; vHip: W vs. 5% & W vs. 15%;  \n"
   ]
  },
  {
   "cell_type": "markdown",
   "metadata": {},
   "source": [
    "---"
   ]
  },
  {
   "cell_type": "markdown",
   "metadata": {},
   "source": [
    "## Low Gamma\n",
    "low gamma: NAcc: W vs. 5% & W vs. 15%; vHip: W vs. 5% & W vs. 15%;  \n"
   ]
  },
  {
   "cell_type": "markdown",
   "metadata": {},
   "source": [
    "---"
   ]
  }
 ],
 "metadata": {
  "kernelspec": {
   "display_name": "Python 3",
   "language": "python",
   "name": "python3"
  },
  "language_info": {
   "codemirror_mode": {
    "name": "ipython",
    "version": 3
   },
   "file_extension": ".py",
   "mimetype": "text/x-python",
   "name": "python",
   "nbconvert_exporter": "python",
   "pygments_lexer": "ipython3",
   "version": "3.8.5"
  }
 },
 "nbformat": 4,
 "nbformat_minor": 4
}
