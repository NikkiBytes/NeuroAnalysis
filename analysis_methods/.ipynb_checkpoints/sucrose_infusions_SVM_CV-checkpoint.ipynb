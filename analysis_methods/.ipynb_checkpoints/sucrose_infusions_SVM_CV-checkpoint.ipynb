{
 "cells": [
  {
   "cell_type": "markdown",
   "metadata": {},
   "source": [
    "# Nested Cross-Validation on Sucrose Infusions"
   ]
  },
  {
   "cell_type": "markdown",
   "metadata": {},
   "source": [
    "5 subjects : ['E_A1' 'E_A3' 'E_A5' 'E_A7' 'E_A8']   \n",
    "\n",
    "Reward/Condition Values: ['None' 'Water' 'Sucrose_5' 'Sucrose_15']  \n",
    "\n",
    "Regions:   \n",
    "['PFC_delta' 'PFC_theta' 'PFC_alpha' 'PFC_beta' 'PFC_low_gamma'\n",
    " 'PFC_high_gamma' 'BLA_delta' 'BLA_theta' 'BLA_alpha' 'BLA_beta'\n",
    " 'BLA_low_gamma' 'BLA_high_gamma' 'NAc_delta' 'NAc_theta' 'NAc_alpha'\n",
    " 'NAc_beta' 'NAc_low_gamma' 'NAc_high_gamma' 'vHip_delta' 'vHip_theta'\n",
    " 'vHip_alpha' 'vHip_beta' 'vHip_low_gamma' 'vHip_high_gamma' ]  \n",
    " \n",
    "Features:   \n",
    "        ['Time(s)' 'PFC_delta' 'PFC_theta' 'PFC_alpha' 'PFC_beta' 'PFC_low_gamma'\n",
    " 'PFC_high_gamma' 'BLA_delta' 'BLA_theta' 'BLA_alpha' 'BLA_beta'\n",
    " 'BLA_low_gamma' 'BLA_high_gamma' 'NAc_delta' 'NAc_theta' 'NAc_alpha'\n",
    " 'NAc_beta' 'NAc_low_gamma' 'NAc_high_gamma' 'vHip_delta' 'vHip_theta'\n",
    " 'vHip_alpha' 'vHip_beta' 'vHip_low_gamma' 'vHip_high_gamma' 'Reward'\n",
    " 'MouseId']\n",
    "\n",
    "\n",
    "Timepoints: { min: 0s, max: 5221.2s }"
   ]
  },
  {
   "cell_type": "markdown",
   "metadata": {},
   "source": [
    "## TOC:  \n",
    "* [Load and Prepare Data](#data)  \n",
    "* [Setup Model](#model)\n",
    "* [Run Model on Regions](#execute)\n",
    "* [Results](#results)"
   ]
  },
  {
   "cell_type": "code",
   "execution_count": 47,
   "metadata": {},
   "outputs": [],
   "source": [
    "# Use when running on google colab\n",
    "#from google.colab import drive\n",
    "#drive.mount('/content/drive')"
   ]
  },
  {
   "cell_type": "code",
   "execution_count": 48,
   "metadata": {},
   "outputs": [],
   "source": [
    "# -- import packages --\n",
    "import pandas as pd\n",
    "import numpy as np \n",
    "import time\n",
    "from matplotlib import pyplot as plt\n",
    "from sklearn.svm import SVC, LinearSVC\n",
    "from sklearn import preprocessing\n",
    "from sklearn.metrics import classification_report, accuracy_score, make_scorer\n",
    "from sklearn.model_selection import GridSearchCV, KFold,  cross_val_score\n",
    "from numpy import mean,std\n",
    "from warnings import simplefilter\n",
    "from sklearn.exceptions import ConvergenceWarning\n",
    "simplefilter(\"ignore\", category=ConvergenceWarning)\n",
    "\n",
    "\n",
    "pd.set_option('display.max_columns', None)\n",
    "pd.set_option('display.max_rows', None)"
   ]
  },
  {
   "cell_type": "markdown",
   "metadata": {},
   "source": [
    "## Load and Prepare Data <a class=\"anchor\" id=\"data\"></a>"
   ]
  },
  {
   "cell_type": "code",
   "execution_count": 49,
   "metadata": {},
   "outputs": [],
   "source": [
    "# sucrose infusions csv dataframe, locally set path\n",
    "path=\"C:\\\\Users\\\\19802\\\\Documents\\\\nibl\\\\\\pilot_connectivity\\\\mouse_data\\\\Sucrose_infusions_dataframe_Eric.csv\" \n",
    "data=pd.read_csv(path) # read in as dataframe"
   ]
  },
  {
   "cell_type": "code",
   "execution_count": 50,
   "metadata": {},
   "outputs": [
    {
     "name": "stdout",
     "output_type": "stream",
     "text": [
      "\n",
      "[INFO] data columns: \n",
      "['Time(s)' 'PFC_delta' 'PFC_theta' 'PFC_alpha' 'PFC_beta' 'PFC_low_gamma'\n",
      " 'PFC_high_gamma' 'BLA_delta' 'BLA_theta' 'BLA_alpha' 'BLA_beta'\n",
      " 'BLA_low_gamma' 'BLA_high_gamma' 'NAc_delta' 'NAc_theta' 'NAc_alpha'\n",
      " 'NAc_beta' 'NAc_low_gamma' 'NAc_high_gamma' 'vHip_delta' 'vHip_theta'\n",
      " 'vHip_alpha' 'vHip_beta' 'vHip_low_gamma' 'vHip_high_gamma' 'Reward'\n",
      " 'MouseId'] \n",
      "\n",
      "[INFO] target column 'Reward' values: ['None' 'Water' 'Sucrose_5' 'Sucrose_15']       \n",
      "\n",
      "[INFO] mouse IDs: ['E_A1' 'E_A3' 'E_A5' 'E_A7' 'E_A8'] \n",
      "       \n",
      "\n",
      "[INFO] columns datatypes: \n",
      "Time(s)            float64\n",
      "PFC_delta          float64\n",
      "PFC_theta          float64\n",
      "PFC_alpha          float64\n",
      "PFC_beta           float64\n",
      "PFC_low_gamma      float64\n",
      "PFC_high_gamma     float64\n",
      "BLA_delta          float64\n",
      "BLA_theta          float64\n",
      "BLA_alpha          float64\n",
      "BLA_beta           float64\n",
      "BLA_low_gamma      float64\n",
      "BLA_high_gamma     float64\n",
      "NAc_delta          float64\n",
      "NAc_theta          float64\n",
      "NAc_alpha          float64\n",
      "NAc_beta           float64\n",
      "NAc_low_gamma      float64\n",
      "NAc_high_gamma     float64\n",
      "vHip_delta         float64\n",
      "vHip_theta         float64\n",
      "vHip_alpha         float64\n",
      "vHip_beta          float64\n",
      "vHip_low_gamma     float64\n",
      "vHip_high_gamma    float64\n",
      "Reward              object\n",
      "MouseId             object\n",
      "dtype: object       \n",
      "\n",
      "[INFO] dataframe preview: \n",
      "\n"
     ]
    },
    {
     "data": {
      "text/html": [
       "<div>\n",
       "<style scoped>\n",
       "    .dataframe tbody tr th:only-of-type {\n",
       "        vertical-align: middle;\n",
       "    }\n",
       "\n",
       "    .dataframe tbody tr th {\n",
       "        vertical-align: top;\n",
       "    }\n",
       "\n",
       "    .dataframe thead th {\n",
       "        text-align: right;\n",
       "    }\n",
       "</style>\n",
       "<table border=\"1\" class=\"dataframe\">\n",
       "  <thead>\n",
       "    <tr style=\"text-align: right;\">\n",
       "      <th></th>\n",
       "      <th>Time(s)</th>\n",
       "      <th>PFC_delta</th>\n",
       "      <th>PFC_theta</th>\n",
       "      <th>PFC_alpha</th>\n",
       "      <th>PFC_beta</th>\n",
       "      <th>PFC_low_gamma</th>\n",
       "      <th>PFC_high_gamma</th>\n",
       "      <th>BLA_delta</th>\n",
       "      <th>BLA_theta</th>\n",
       "      <th>BLA_alpha</th>\n",
       "      <th>BLA_beta</th>\n",
       "      <th>BLA_low_gamma</th>\n",
       "      <th>BLA_high_gamma</th>\n",
       "      <th>NAc_delta</th>\n",
       "      <th>NAc_theta</th>\n",
       "      <th>NAc_alpha</th>\n",
       "      <th>NAc_beta</th>\n",
       "      <th>NAc_low_gamma</th>\n",
       "      <th>NAc_high_gamma</th>\n",
       "      <th>vHip_delta</th>\n",
       "      <th>vHip_theta</th>\n",
       "      <th>vHip_alpha</th>\n",
       "      <th>vHip_beta</th>\n",
       "      <th>vHip_low_gamma</th>\n",
       "      <th>vHip_high_gamma</th>\n",
       "      <th>Reward</th>\n",
       "      <th>MouseId</th>\n",
       "    </tr>\n",
       "  </thead>\n",
       "  <tbody>\n",
       "    <tr>\n",
       "      <th>0</th>\n",
       "      <td>0.0</td>\n",
       "      <td>0.000003</td>\n",
       "      <td>0.000003</td>\n",
       "      <td>7.761625e-07</td>\n",
       "      <td>0.000002</td>\n",
       "      <td>0.000002</td>\n",
       "      <td>3.155750e-07</td>\n",
       "      <td>0.000003</td>\n",
       "      <td>0.000005</td>\n",
       "      <td>0.000002</td>\n",
       "      <td>0.000004</td>\n",
       "      <td>0.000012</td>\n",
       "      <td>7.465025e-07</td>\n",
       "      <td>0.000043</td>\n",
       "      <td>0.000022</td>\n",
       "      <td>0.000007</td>\n",
       "      <td>0.000008</td>\n",
       "      <td>0.000010</td>\n",
       "      <td>0.000001</td>\n",
       "      <td>0.000047</td>\n",
       "      <td>0.000040</td>\n",
       "      <td>0.000025</td>\n",
       "      <td>0.000012</td>\n",
       "      <td>0.000010</td>\n",
       "      <td>1.251572e-06</td>\n",
       "      <td>None</td>\n",
       "      <td>E_A1</td>\n",
       "    </tr>\n",
       "    <tr>\n",
       "      <th>1</th>\n",
       "      <td>0.1</td>\n",
       "      <td>0.000003</td>\n",
       "      <td>0.000003</td>\n",
       "      <td>8.544600e-07</td>\n",
       "      <td>0.000002</td>\n",
       "      <td>0.000002</td>\n",
       "      <td>3.000700e-07</td>\n",
       "      <td>0.000003</td>\n",
       "      <td>0.000004</td>\n",
       "      <td>0.000003</td>\n",
       "      <td>0.000005</td>\n",
       "      <td>0.000012</td>\n",
       "      <td>6.375900e-07</td>\n",
       "      <td>0.000050</td>\n",
       "      <td>0.000030</td>\n",
       "      <td>0.000006</td>\n",
       "      <td>0.000005</td>\n",
       "      <td>0.000010</td>\n",
       "      <td>0.000001</td>\n",
       "      <td>0.000048</td>\n",
       "      <td>0.000047</td>\n",
       "      <td>0.000022</td>\n",
       "      <td>0.000011</td>\n",
       "      <td>0.000011</td>\n",
       "      <td>8.988825e-07</td>\n",
       "      <td>None</td>\n",
       "      <td>E_A1</td>\n",
       "    </tr>\n",
       "    <tr>\n",
       "      <th>2</th>\n",
       "      <td>0.2</td>\n",
       "      <td>0.000004</td>\n",
       "      <td>0.000004</td>\n",
       "      <td>8.624575e-07</td>\n",
       "      <td>0.000002</td>\n",
       "      <td>0.000002</td>\n",
       "      <td>2.604275e-07</td>\n",
       "      <td>0.000002</td>\n",
       "      <td>0.000002</td>\n",
       "      <td>0.000002</td>\n",
       "      <td>0.000005</td>\n",
       "      <td>0.000014</td>\n",
       "      <td>6.077150e-07</td>\n",
       "      <td>0.000053</td>\n",
       "      <td>0.000032</td>\n",
       "      <td>0.000006</td>\n",
       "      <td>0.000006</td>\n",
       "      <td>0.000011</td>\n",
       "      <td>0.000001</td>\n",
       "      <td>0.000035</td>\n",
       "      <td>0.000052</td>\n",
       "      <td>0.000018</td>\n",
       "      <td>0.000013</td>\n",
       "      <td>0.000012</td>\n",
       "      <td>1.226840e-06</td>\n",
       "      <td>None</td>\n",
       "      <td>E_A1</td>\n",
       "    </tr>\n",
       "  </tbody>\n",
       "</table>\n",
       "</div>"
      ],
      "text/plain": [
       "   Time(s)  PFC_delta  PFC_theta     PFC_alpha  PFC_beta  PFC_low_gamma  \\\n",
       "0      0.0   0.000003   0.000003  7.761625e-07  0.000002       0.000002   \n",
       "1      0.1   0.000003   0.000003  8.544600e-07  0.000002       0.000002   \n",
       "2      0.2   0.000004   0.000004  8.624575e-07  0.000002       0.000002   \n",
       "\n",
       "   PFC_high_gamma  BLA_delta  BLA_theta  BLA_alpha  BLA_beta  BLA_low_gamma  \\\n",
       "0    3.155750e-07   0.000003   0.000005   0.000002  0.000004       0.000012   \n",
       "1    3.000700e-07   0.000003   0.000004   0.000003  0.000005       0.000012   \n",
       "2    2.604275e-07   0.000002   0.000002   0.000002  0.000005       0.000014   \n",
       "\n",
       "   BLA_high_gamma  NAc_delta  NAc_theta  NAc_alpha  NAc_beta  NAc_low_gamma  \\\n",
       "0    7.465025e-07   0.000043   0.000022   0.000007  0.000008       0.000010   \n",
       "1    6.375900e-07   0.000050   0.000030   0.000006  0.000005       0.000010   \n",
       "2    6.077150e-07   0.000053   0.000032   0.000006  0.000006       0.000011   \n",
       "\n",
       "   NAc_high_gamma  vHip_delta  vHip_theta  vHip_alpha  vHip_beta  \\\n",
       "0        0.000001    0.000047    0.000040    0.000025   0.000012   \n",
       "1        0.000001    0.000048    0.000047    0.000022   0.000011   \n",
       "2        0.000001    0.000035    0.000052    0.000018   0.000013   \n",
       "\n",
       "   vHip_low_gamma  vHip_high_gamma Reward MouseId  \n",
       "0        0.000010     1.251572e-06   None    E_A1  \n",
       "1        0.000011     8.988825e-07   None    E_A1  \n",
       "2        0.000012     1.226840e-06   None    E_A1  "
      ]
     },
     "metadata": {},
     "output_type": "display_data"
    }
   ],
   "source": [
    "# -- print data info -- \n",
    "print(\"\\n[INFO] data columns: \\n%s \\n\\n[INFO] target column 'Reward' values: %s \\\n",
    "      \\n\\n[INFO] mouse IDs: %s \\n \\\n",
    "      \\n\\n[INFO] columns datatypes: \\n%s \\\n",
    "      \\n\\n[INFO] dataframe preview: \\n\"%(data.columns.values,\n",
    "                                              data[\"Reward\"].unique(), data['MouseId'].unique(), data.dtypes))\n",
    "\n",
    "display(data.head(3))\n"
   ]
  },
  {
   "cell_type": "markdown",
   "metadata": {},
   "source": [
    "#### Dummy Variables on MouseId"
   ]
  },
  {
   "cell_type": "code",
   "execution_count": 51,
   "metadata": {},
   "outputs": [
    {
     "data": {
      "text/plain": [
       "array(['E_A1', 'E_A3', 'E_A5', 'E_A7', 'E_A8'], dtype=object)"
      ]
     },
     "execution_count": 51,
     "metadata": {},
     "output_type": "execute_result"
    }
   ],
   "source": [
    "data['MouseId'].unique() # View unique mouse ID labels in columns"
   ]
  },
  {
   "cell_type": "code",
   "execution_count": 52,
   "metadata": {},
   "outputs": [],
   "source": [
    "data=pd.get_dummies(data, columns=[\"MouseId\"]) # convert to dummy variables"
   ]
  },
  {
   "cell_type": "code",
   "execution_count": 53,
   "metadata": {},
   "outputs": [
    {
     "name": "stdout",
     "output_type": "stream",
     "text": [
      "\n",
      "[INFO] new dummy data: \n",
      "\n",
      "\n"
     ]
    },
    {
     "data": {
      "text/html": [
       "<div>\n",
       "<style scoped>\n",
       "    .dataframe tbody tr th:only-of-type {\n",
       "        vertical-align: middle;\n",
       "    }\n",
       "\n",
       "    .dataframe tbody tr th {\n",
       "        vertical-align: top;\n",
       "    }\n",
       "\n",
       "    .dataframe thead th {\n",
       "        text-align: right;\n",
       "    }\n",
       "</style>\n",
       "<table border=\"1\" class=\"dataframe\">\n",
       "  <thead>\n",
       "    <tr style=\"text-align: right;\">\n",
       "      <th></th>\n",
       "      <th>Time(s)</th>\n",
       "      <th>PFC_delta</th>\n",
       "      <th>PFC_theta</th>\n",
       "      <th>PFC_alpha</th>\n",
       "      <th>PFC_beta</th>\n",
       "      <th>PFC_low_gamma</th>\n",
       "      <th>PFC_high_gamma</th>\n",
       "      <th>BLA_delta</th>\n",
       "      <th>BLA_theta</th>\n",
       "      <th>BLA_alpha</th>\n",
       "      <th>BLA_beta</th>\n",
       "      <th>BLA_low_gamma</th>\n",
       "      <th>BLA_high_gamma</th>\n",
       "      <th>NAc_delta</th>\n",
       "      <th>NAc_theta</th>\n",
       "      <th>NAc_alpha</th>\n",
       "      <th>NAc_beta</th>\n",
       "      <th>NAc_low_gamma</th>\n",
       "      <th>NAc_high_gamma</th>\n",
       "      <th>vHip_delta</th>\n",
       "      <th>vHip_theta</th>\n",
       "      <th>vHip_alpha</th>\n",
       "      <th>vHip_beta</th>\n",
       "      <th>vHip_low_gamma</th>\n",
       "      <th>vHip_high_gamma</th>\n",
       "      <th>Reward</th>\n",
       "      <th>MouseId_E_A1</th>\n",
       "      <th>MouseId_E_A3</th>\n",
       "      <th>MouseId_E_A5</th>\n",
       "      <th>MouseId_E_A7</th>\n",
       "      <th>MouseId_E_A8</th>\n",
       "    </tr>\n",
       "  </thead>\n",
       "  <tbody>\n",
       "    <tr>\n",
       "      <th>0</th>\n",
       "      <td>0.0</td>\n",
       "      <td>0.000003</td>\n",
       "      <td>0.000003</td>\n",
       "      <td>7.761625e-07</td>\n",
       "      <td>0.000002</td>\n",
       "      <td>0.000002</td>\n",
       "      <td>3.155750e-07</td>\n",
       "      <td>0.000003</td>\n",
       "      <td>0.000005</td>\n",
       "      <td>0.000002</td>\n",
       "      <td>0.000004</td>\n",
       "      <td>0.000012</td>\n",
       "      <td>7.465025e-07</td>\n",
       "      <td>0.000043</td>\n",
       "      <td>0.000022</td>\n",
       "      <td>0.000007</td>\n",
       "      <td>0.000008</td>\n",
       "      <td>0.000010</td>\n",
       "      <td>0.000001</td>\n",
       "      <td>0.000047</td>\n",
       "      <td>0.000040</td>\n",
       "      <td>0.000025</td>\n",
       "      <td>0.000012</td>\n",
       "      <td>0.000010</td>\n",
       "      <td>1.251572e-06</td>\n",
       "      <td>None</td>\n",
       "      <td>1</td>\n",
       "      <td>0</td>\n",
       "      <td>0</td>\n",
       "      <td>0</td>\n",
       "      <td>0</td>\n",
       "    </tr>\n",
       "    <tr>\n",
       "      <th>1</th>\n",
       "      <td>0.1</td>\n",
       "      <td>0.000003</td>\n",
       "      <td>0.000003</td>\n",
       "      <td>8.544600e-07</td>\n",
       "      <td>0.000002</td>\n",
       "      <td>0.000002</td>\n",
       "      <td>3.000700e-07</td>\n",
       "      <td>0.000003</td>\n",
       "      <td>0.000004</td>\n",
       "      <td>0.000003</td>\n",
       "      <td>0.000005</td>\n",
       "      <td>0.000012</td>\n",
       "      <td>6.375900e-07</td>\n",
       "      <td>0.000050</td>\n",
       "      <td>0.000030</td>\n",
       "      <td>0.000006</td>\n",
       "      <td>0.000005</td>\n",
       "      <td>0.000010</td>\n",
       "      <td>0.000001</td>\n",
       "      <td>0.000048</td>\n",
       "      <td>0.000047</td>\n",
       "      <td>0.000022</td>\n",
       "      <td>0.000011</td>\n",
       "      <td>0.000011</td>\n",
       "      <td>8.988825e-07</td>\n",
       "      <td>None</td>\n",
       "      <td>1</td>\n",
       "      <td>0</td>\n",
       "      <td>0</td>\n",
       "      <td>0</td>\n",
       "      <td>0</td>\n",
       "    </tr>\n",
       "    <tr>\n",
       "      <th>2</th>\n",
       "      <td>0.2</td>\n",
       "      <td>0.000004</td>\n",
       "      <td>0.000004</td>\n",
       "      <td>8.624575e-07</td>\n",
       "      <td>0.000002</td>\n",
       "      <td>0.000002</td>\n",
       "      <td>2.604275e-07</td>\n",
       "      <td>0.000002</td>\n",
       "      <td>0.000002</td>\n",
       "      <td>0.000002</td>\n",
       "      <td>0.000005</td>\n",
       "      <td>0.000014</td>\n",
       "      <td>6.077150e-07</td>\n",
       "      <td>0.000053</td>\n",
       "      <td>0.000032</td>\n",
       "      <td>0.000006</td>\n",
       "      <td>0.000006</td>\n",
       "      <td>0.000011</td>\n",
       "      <td>0.000001</td>\n",
       "      <td>0.000035</td>\n",
       "      <td>0.000052</td>\n",
       "      <td>0.000018</td>\n",
       "      <td>0.000013</td>\n",
       "      <td>0.000012</td>\n",
       "      <td>1.226840e-06</td>\n",
       "      <td>None</td>\n",
       "      <td>1</td>\n",
       "      <td>0</td>\n",
       "      <td>0</td>\n",
       "      <td>0</td>\n",
       "      <td>0</td>\n",
       "    </tr>\n",
       "  </tbody>\n",
       "</table>\n",
       "</div>"
      ],
      "text/plain": [
       "   Time(s)  PFC_delta  PFC_theta     PFC_alpha  PFC_beta  PFC_low_gamma  \\\n",
       "0      0.0   0.000003   0.000003  7.761625e-07  0.000002       0.000002   \n",
       "1      0.1   0.000003   0.000003  8.544600e-07  0.000002       0.000002   \n",
       "2      0.2   0.000004   0.000004  8.624575e-07  0.000002       0.000002   \n",
       "\n",
       "   PFC_high_gamma  BLA_delta  BLA_theta  BLA_alpha  BLA_beta  BLA_low_gamma  \\\n",
       "0    3.155750e-07   0.000003   0.000005   0.000002  0.000004       0.000012   \n",
       "1    3.000700e-07   0.000003   0.000004   0.000003  0.000005       0.000012   \n",
       "2    2.604275e-07   0.000002   0.000002   0.000002  0.000005       0.000014   \n",
       "\n",
       "   BLA_high_gamma  NAc_delta  NAc_theta  NAc_alpha  NAc_beta  NAc_low_gamma  \\\n",
       "0    7.465025e-07   0.000043   0.000022   0.000007  0.000008       0.000010   \n",
       "1    6.375900e-07   0.000050   0.000030   0.000006  0.000005       0.000010   \n",
       "2    6.077150e-07   0.000053   0.000032   0.000006  0.000006       0.000011   \n",
       "\n",
       "   NAc_high_gamma  vHip_delta  vHip_theta  vHip_alpha  vHip_beta  \\\n",
       "0        0.000001    0.000047    0.000040    0.000025   0.000012   \n",
       "1        0.000001    0.000048    0.000047    0.000022   0.000011   \n",
       "2        0.000001    0.000035    0.000052    0.000018   0.000013   \n",
       "\n",
       "   vHip_low_gamma  vHip_high_gamma Reward  MouseId_E_A1  MouseId_E_A3  \\\n",
       "0        0.000010     1.251572e-06   None             1             0   \n",
       "1        0.000011     8.988825e-07   None             1             0   \n",
       "2        0.000012     1.226840e-06   None             1             0   \n",
       "\n",
       "   MouseId_E_A5  MouseId_E_A7  MouseId_E_A8  \n",
       "0             0             0             0  \n",
       "1             0             0             0  \n",
       "2             0             0             0  "
      ]
     },
     "metadata": {},
     "output_type": "display_data"
    }
   ],
   "source": [
    "print(\"\\n[INFO] new dummy data: \\n\\n\")\n",
    "display(data.head(3))"
   ]
  },
  {
   "cell_type": "code",
   "execution_count": 54,
   "metadata": {},
   "outputs": [
    {
     "data": {
      "text/plain": [
       "array(['Time(s)', 'PFC_delta', 'PFC_theta', 'PFC_alpha', 'PFC_beta',\n",
       "       'PFC_low_gamma', 'PFC_high_gamma', 'BLA_delta', 'BLA_theta',\n",
       "       'BLA_alpha', 'BLA_beta', 'BLA_low_gamma', 'BLA_high_gamma',\n",
       "       'NAc_delta', 'NAc_theta', 'NAc_alpha', 'NAc_beta', 'NAc_low_gamma',\n",
       "       'NAc_high_gamma', 'vHip_delta', 'vHip_theta', 'vHip_alpha',\n",
       "       'vHip_beta', 'vHip_low_gamma', 'vHip_high_gamma', 'Reward',\n",
       "       'MouseId_E_A1', 'MouseId_E_A3', 'MouseId_E_A5', 'MouseId_E_A7',\n",
       "       'MouseId_E_A8'], dtype=object)"
      ]
     },
     "execution_count": 54,
     "metadata": {},
     "output_type": "execute_result"
    }
   ],
   "source": [
    "data.columns.values"
   ]
  },
  {
   "cell_type": "markdown",
   "metadata": {},
   "source": [
    "---"
   ]
  },
  {
   "cell_type": "markdown",
   "metadata": {},
   "source": [
    "### Prepare Reward Condition Masks"
   ]
  },
  {
   "cell_type": "markdown",
   "metadata": {},
   "source": [
    "Setup target variables y, by reward"
   ]
  },
  {
   "cell_type": "code",
   "execution_count": 55,
   "metadata": {},
   "outputs": [
    {
     "data": {
      "text/plain": [
       "array(['None', 'Water', 'Sucrose_5', 'Sucrose_15'], dtype=object)"
      ]
     },
     "execution_count": 55,
     "metadata": {},
     "output_type": "execute_result"
    }
   ],
   "source": [
    "data[\"Reward\"].unique()"
   ]
  },
  {
   "cell_type": "code",
   "execution_count": 56,
   "metadata": {},
   "outputs": [
    {
     "data": {
      "text/plain": [
       "(array(['Water', 'Sucrose_5'], dtype=object),\n",
       " array(['Water', 'Sucrose_15'], dtype=object))"
      ]
     },
     "execution_count": 56,
     "metadata": {},
     "output_type": "execute_result"
    }
   ],
   "source": [
    "# -- Setup the target variables  --\n",
    "\n",
    "Y = data.loc[:, \"Reward\"] # set copy of target variable to Y \n",
    "\n",
    "# make condition masks for Water vs. Sucrose %5 and Water vs. Sucorse vs 15%\n",
    "s5_cond_mask=Y.isin(['Water', \"Sucrose_5\"])\n",
    "s15_cond_mask=Y.isin(['Water', \"Sucrose_15\"])\n",
    "\n",
    "# filter data for target variabes w/ condition masks\n",
    "y_s5=Y[s5_cond_mask]\n",
    "y_s15=Y[s15_cond_mask]\n",
    "\n",
    "# prepare session labels for conditions\n",
    "#session_s5 = data[s5_cond_mask].to_records(index=False)\n",
    "#session_s15 = data[s15_cond_mask].to_records(index=False)\n",
    "\n",
    "# prepare feature dataframe with filtered masks\n",
    "s5_data = data[s5_cond_mask]\n",
    "s15_data = data[s15_cond_mask]\n",
    "\n",
    "\n",
    "y_s5.unique(), y_s15.unique()\n",
    "#session_5.dtype.names, session_15.dtype.names"
   ]
  },
  {
   "cell_type": "markdown",
   "metadata": {},
   "source": [
    "Label Encoding"
   ]
  },
  {
   "cell_type": "code",
   "execution_count": 57,
   "metadata": {},
   "outputs": [
    {
     "data": {
      "text/plain": [
       "((5151,), (5202,))"
      ]
     },
     "execution_count": 57,
     "metadata": {},
     "output_type": "execute_result"
    }
   ],
   "source": [
    "le = preprocessing.LabelEncoder() # initialize encoder obj\n",
    "y_s5_enc = le.fit_transform(y_s5) # fit and transform the 5% data\n",
    "y_s15_enc = le.fit_transform(y_s15) # fit and transform the 15% data\n",
    "\n",
    "y_s5_enc.shape, y_s15_enc.shape "
   ]
  },
  {
   "cell_type": "markdown",
   "metadata": {},
   "source": [
    "### Prepare Input Features X by Regions"
   ]
  },
  {
   "cell_type": "code",
   "execution_count": 58,
   "metadata": {},
   "outputs": [
    {
     "data": {
      "text/plain": [
       "array(['Time(s)', 'PFC_delta', 'PFC_theta', 'PFC_alpha', 'PFC_beta',\n",
       "       'PFC_low_gamma', 'PFC_high_gamma', 'BLA_delta', 'BLA_theta',\n",
       "       'BLA_alpha', 'BLA_beta', 'BLA_low_gamma', 'BLA_high_gamma',\n",
       "       'NAc_delta', 'NAc_theta', 'NAc_alpha', 'NAc_beta', 'NAc_low_gamma',\n",
       "       'NAc_high_gamma', 'vHip_delta', 'vHip_theta', 'vHip_alpha',\n",
       "       'vHip_beta', 'vHip_low_gamma', 'vHip_high_gamma', 'Reward',\n",
       "       'MouseId_E_A1', 'MouseId_E_A3', 'MouseId_E_A5', 'MouseId_E_A7',\n",
       "       'MouseId_E_A8'], dtype=object)"
      ]
     },
     "execution_count": 58,
     "metadata": {},
     "output_type": "execute_result"
    }
   ],
   "source": [
    "data.columns.values"
   ]
  },
  {
   "cell_type": "markdown",
   "metadata": {},
   "source": [
    "Features X input setup"
   ]
  },
  {
   "cell_type": "code",
   "execution_count": 60,
   "metadata": {},
   "outputs": [],
   "source": [
    "# -- setup delta --\n",
    "s5_db_data=s5_data[[\"BLA_delta\",  'MouseId_E_A1', 'MouseId_E_A3', 'MouseId_E_A5', 'MouseId_E_A7', 'MouseId_E_A8']] # get target features\n",
    "s15_db_data=s15_data[[\"BLA_delta\", 'MouseId_E_A1', 'MouseId_E_A3',  'MouseId_E_A5', 'MouseId_E_A7', 'MouseId_E_A8']] # get target features\n",
    "s5_dnac_data=s5_data[[\"NAc_delta\", 'MouseId_E_A1', 'MouseId_E_A3', 'MouseId_E_A5', 'MouseId_E_A7', 'MouseId_E_A8']] # get target features\n",
    "s15_dnac_data=s15_data[[\"NAc_delta\",'MouseId_E_A1', 'MouseId_E_A3',  'MouseId_E_A5', 'MouseId_E_A7', 'MouseId_E_A8']] # get target features\n",
    "\n",
    "# -- setup beta --\n",
    "s5_bpfc_data=s5_data[[\"PFC_beta\",  'MouseId_E_A1', 'MouseId_E_A3', 'MouseId_E_A5', 'MouseId_E_A7', 'MouseId_E_A8']] # get target features\n",
    "s15_bpfc_data=s15_data[[\"PFC_beta\",  'MouseId_E_A1', 'MouseId_E_A3', 'MouseId_E_A5', 'MouseId_E_A7', 'MouseId_E_A8']] # get target features\n",
    "s5_bnac_data=s5_data[[\"NAc_beta\",  'MouseId_E_A1', 'MouseId_E_A3', 'MouseId_E_A5', 'MouseId_E_A7', 'MouseId_E_A8']] # get target features\n",
    "s15_bnac_data=s15_data[[\"NAc_beta\", 'MouseId_E_A1', 'MouseId_E_A3',  'MouseId_E_A5', 'MouseId_E_A7', 'MouseId_E_A8']] # get target features\n",
    "s5_bhip_data=s5_data[[\"vHip_beta\",  'MouseId_E_A1', 'MouseId_E_A3', 'MouseId_E_A5', 'MouseId_E_A7', 'MouseId_E_A8']] # get target features\n",
    "s15_bhip_data=s15_data[[\"vHip_beta\",  'MouseId_E_A1', 'MouseId_E_A3',  'MouseId_E_A5', 'MouseId_E_A7', 'MouseId_E_A8']] # get target features\n",
    "\n",
    "# -- setup low gamma --\n",
    "s5_lgnac_data=s5_data[[\"NAc_low_gamma\",  'MouseId_E_A1', 'MouseId_E_A3', 'MouseId_E_A5', 'MouseId_E_A7', 'MouseId_E_A8']] # get target features\n",
    "s15_lgnac_data=s15_data[[\"NAc_low_gamma\", 'MouseId_E_A1', 'MouseId_E_A3',  'MouseId_E_A5', 'MouseId_E_A7', 'MouseId_E_A8']] # get target features\n",
    "s5_lghip_data=s5_data[[\"vHip_low_gamma\",  'MouseId_E_A1', 'MouseId_E_A3', 'MouseId_E_A5', 'MouseId_E_A7', 'MouseId_E_A8']] # get target features\n",
    "s15_lghip_data=s15_data[[\"vHip_low_gamma\", 'MouseId_E_A1', 'MouseId_E_A3',  'MouseId_E_A5', 'MouseId_E_A7', 'MouseId_E_A8']] # get target features\n",
    "\n",
    "\n",
    "# -- setup theta --\n",
    "s5_tnac_data=s5_data[[\"NAc_theta\",  'MouseId_E_A1', 'MouseId_E_A3', 'MouseId_E_A5', 'MouseId_E_A7', 'MouseId_E_A8']] # get target features\n",
    "s15_tnac_data=s15_data[[\"NAc_theta\", 'MouseId_E_A1', 'MouseId_E_A3',  'MouseId_E_A5', 'MouseId_E_A7', 'MouseId_E_A8']] # get target features\n",
    "s5_thip_data=s5_data[[\"vHip_theta\",  'MouseId_E_A1', 'MouseId_E_A3', 'MouseId_E_A5', 'MouseId_E_A7', 'MouseId_E_A8']] # get target features\n",
    "s15_thip_data=s15_data[[\"vHip_theta\", 'MouseId_E_A1', 'MouseId_E_A3',  'MouseId_E_A5', 'MouseId_E_A7', 'MouseId_E_A8']] # get target features\n"
   ]
  },
  {
   "cell_type": "markdown",
   "metadata": {},
   "source": [
    "**Normalize Data**"
   ]
  },
  {
   "cell_type": "code",
   "execution_count": 61,
   "metadata": {},
   "outputs": [
    {
     "data": {
      "text/plain": [
       "((5151, 6), (5202, 6), (5151, 6), (5202, 6))"
      ]
     },
     "execution_count": 61,
     "metadata": {},
     "output_type": "execute_result"
    }
   ],
   "source": [
    "# -- scale data -- \n",
    "\n",
    "# initialize scaler object\n",
    "scaler = preprocessing.StandardScaler()\n",
    "\n",
    "# delta BLA and NAc setup\n",
    "X_s5_db = scaler.fit_transform(s5_db_data) # fit and transform \n",
    "X_s15_db = scaler.fit_transform(s15_db_data) # fit and transform \n",
    "X_s5_dnac = scaler.fit_transform(s5_dnac_data) # fit and transform \n",
    "X_s15_dnac = scaler.fit_transform(s15_dnac_data) # fit and transform \n",
    "\n",
    "# beta PFC and NAc and vHip\n",
    "X_s5_bpfc = scaler.fit_transform(s5_bpfc_data) # fit and transform \n",
    "X_s15_bpfc = scaler.fit_transform(s15_bpfc_data) # fit and transform \n",
    "X_s5_bnac = scaler.fit_transform(s5_bnac_data) # fit and transform \n",
    "X_s15_bnac = scaler.fit_transform(s15_bnac_data) # fit and transform \n",
    "X_s5_bhip = scaler.fit_transform(s5_bhip_data) # fit and transform \n",
    "X_s15_bhip = scaler.fit_transform(s15_bhip_data) # fit and transform \n",
    "\n",
    "# low gamma NAc and vHip setup\n",
    "X_s5_lgnac = scaler.fit_transform(s5_lgnac_data) # fit and transform \n",
    "X_s15_lgnac = scaler.fit_transform(s15_lgnac_data) # fit and transform \n",
    "X_s5_lghip = scaler.fit_transform(s5_lghip_data) # fit and transform \n",
    "X_s15_lghip = scaler.fit_transform(s15_lghip_data) # fit and transform \n",
    "\n",
    "# -- setup low gamma --\n",
    "X_s5_tnac = scaler.fit_transform(s5_tnac_data) # fit and transform \n",
    "X_s15_tnac = scaler.fit_transform(s15_tnac_data) # fit and transform \n",
    "X_s5_thip = scaler.fit_transform(s5_thip_data) # fit and transform \n",
    "X_s15_thip = scaler.fit_transform(s15_thip_data) # fit and transform \n",
    "\n",
    "\n",
    "X_s5_db.shape, X_s15_db.shape ,X_s5_dnac.shape, X_s15_dnac.shape "
   ]
  },
  {
   "cell_type": "markdown",
   "metadata": {},
   "source": [
    "## Model Setup: SVM w/ KFold Nested CV  <a class=\"anchor\" id=\"model\"></a>"
   ]
  },
  {
   "cell_type": "markdown",
   "metadata": {},
   "source": [
    "Set up cross-validation parameters, and SVM "
   ]
  },
  {
   "cell_type": "code",
   "execution_count": 62,
   "metadata": {},
   "outputs": [
    {
     "data": {
      "text/plain": [
       "(GridSearchCV(cv=KFold(n_splits=10, random_state=1, shuffle=True),\n",
       "              estimator=SVC(kernel='linear', max_iter=10000), n_jobs=3,\n",
       "              param_grid={'C': array([1.e-03, 1.e-02, 1.e-01, 1.e+00, 1.e+01, 1.e+02])},\n",
       "              scoring='accuracy', verbose=1),\n",
       " GridSearchCV(cv=KFold(n_splits=10, random_state=1, shuffle=True),\n",
       "              estimator=SVC(max_iter=10000), n_jobs=3,\n",
       "              param_grid={'C': array([1.e-03, 1.e-02, 1.e-01, 1.e+00, 1.e+01, 1.e+02]),\n",
       "                          'gamma': array([1.e-03, 1.e-02, 1.e-01, 1.e+00, 1.e+01, 1.e+02])},\n",
       "              scoring='accuracy'))"
      ]
     },
     "execution_count": 62,
     "metadata": {},
     "output_type": "execute_result"
    }
   ],
   "source": [
    "\n",
    "# configure the cross-validation procedure\n",
    "cv_inner = KFold(n_splits=10, shuffle=True, random_state=1)\n",
    "cv_outer = KFold(n_splits=5, shuffle=True, random_state=1)\n",
    "\n",
    "# define the classifiers\n",
    "svc_linear = SVC(kernel='linear', max_iter=10000)\n",
    "svc_rbf = SVC(kernel='rbf', max_iter=10000)\n",
    "\n",
    "# define the hyperparameter grid\n",
    "C_range = np.logspace(-3, 2, 6)\n",
    "gamma_range = np.logspace(-3, 2, 6)\n",
    "\n",
    "param_grid_linear = dict(C=C_range)\n",
    "param_grid_rbf = dict(gamma=gamma_range, C=C_range)\n",
    "\n",
    "# set grid object\n",
    "grid_linear = GridSearchCV(svc_linear, param_grid_linear, scoring='accuracy', verbose=1, n_jobs=3, cv=cv_inner)\n",
    "grid_rbf = GridSearchCV(svc_rbf,param_grid_rbf , scoring='accuracy', n_jobs=3, cv=cv_inner)\n",
    "\n",
    "grid_linear, grid_rbf"
   ]
  },
  {
   "cell_type": "markdown",
   "metadata": {},
   "source": [
    "## Run Models <a class=\"anchor\" id=\"execute\"></a>"
   ]
  },
  {
   "cell_type": "code",
   "execution_count": 82,
   "metadata": {},
   "outputs": [
    {
     "name": "stdout",
     "output_type": "stream",
     "text": [
      "[INFO] --- 151.93232202529907 seconds ---\n"
     ]
    }
   ],
   "source": [
    "# execute the nested cross-validation\n",
    "start_time = time.time()\n",
    "scores_s5_tnac_rbf = cross_val_score(grid_rbf, X_s5_tnac, y_s5_enc, scoring='accuracy', cv=cv_outer, n_jobs=3) #rbf kernel\n",
    "print(\"[INFO] --- %s seconds ---\" % (time.time() - start_time))\n"
   ]
  },
  {
   "cell_type": "code",
   "execution_count": 83,
   "metadata": {},
   "outputs": [
    {
     "name": "stdout",
     "output_type": "stream",
     "text": [
      "[INFO] --- 145.74954080581665 seconds ---\n"
     ]
    }
   ],
   "source": [
    "# execute the nested cross-validation\n",
    "start_time = time.time()\n",
    "scores_s15_tnac_rbf = cross_val_score(grid_rbf, X_s15_tnac, y_s15_enc, scoring='accuracy', cv=cv_outer, n_jobs=3) #rbf kernel\n",
    "print(\"[INFO] --- %s seconds ---\" % (time.time() - start_time))\n"
   ]
  },
  {
   "cell_type": "code",
   "execution_count": 84,
   "metadata": {},
   "outputs": [
    {
     "name": "stdout",
     "output_type": "stream",
     "text": [
      "[INFO] --- 14.548660039901733 seconds ---\n"
     ]
    }
   ],
   "source": [
    "# execute the nested cross-validation\n",
    "start_time = time.time()\n",
    "scores_s5_tnac_linear = cross_val_score(grid_linear, X_s5_tnac, y_s5_enc, scoring='accuracy', cv=cv_outer, n_jobs=3) #rbf kernel\n",
    "print(\"[INFO] --- %s seconds ---\" % (time.time() - start_time))\n"
   ]
  },
  {
   "cell_type": "code",
   "execution_count": 85,
   "metadata": {},
   "outputs": [
    {
     "name": "stdout",
     "output_type": "stream",
     "text": [
      "[INFO] --- 14.901972532272339 seconds ---\n"
     ]
    }
   ],
   "source": [
    "# execute the nested cross-validation\n",
    "start_time = time.time()\n",
    "scores_s15_tnac_linear = cross_val_score(grid_linear, X_s15_tnac, y_s15_enc, scoring='accuracy', cv=cv_outer, n_jobs=3) #rbf kernel\n",
    "print(\"[INFO] --- %s seconds ---\" % (time.time() - start_time))\n"
   ]
  },
  {
   "cell_type": "code",
   "execution_count": 86,
   "metadata": {},
   "outputs": [
    {
     "name": "stdout",
     "output_type": "stream",
     "text": [
      "THETA NAc, SVM w/ Linear kernel, Accuracy: 0.520 (0.010)\n",
      "THETA NAc, SVM w/ RBF kernel, Accuracy: 0.556 (0.005)\n"
     ]
    }
   ],
   "source": [
    "print('THETA NAc, SVM w/ Linear kernel, Accuracy: %.3f (%.3f)' %(mean(scores_s5_tnac_linear), std(scores_s5_tnac_linear)))\n",
    "\n",
    "print('THETA NAc, SVM w/ RBF kernel, Accuracy: %.3f (%.3f)' %(mean(scores_s5_tnac_rbf), std(scores_s5_tnac_rbf)))"
   ]
  },
  {
   "cell_type": "code",
   "execution_count": 87,
   "metadata": {},
   "outputs": [
    {
     "name": "stdout",
     "output_type": "stream",
     "text": [
      "LOW GAMMA NAc, SVM w/ Linear kernel, Accuracy: 0.534 (0.009)\n",
      "LOW GAMMA NAc, SVM w/ RBF kernel, Accuracy: 0.556 (0.012)\n"
     ]
    }
   ],
   "source": [
    "print('LOW GAMMA NAc, SVM w/ Linear kernel, Accuracy: %.3f (%.3f)' % (mean(scores_s15_tnac_linear), std(scores_s15_tnac_linear)))\n",
    "\n",
    "print('LOW GAMMA NAc, SVM w/ RBF kernel, Accuracy: %.3f (%.3f)' % (mean(scores_s15_tnac_rbf), std(scores_s15_tnac_rbf)))\n"
   ]
  },
  {
   "cell_type": "markdown",
   "metadata": {},
   "source": [
    "\n",
    ">  Delta BLA: Water vs. Sucrose 5%\n"
   ]
  },
  {
   "cell_type": "code",
   "execution_count": 33,
   "metadata": {},
   "outputs": [
    {
     "name": "stdout",
     "output_type": "stream",
     "text": [
      "[INFO] --- 199.25148963928223 seconds ---\n"
     ]
    }
   ],
   "source": [
    "# execute the nested cross-validation\n",
    "start_time = time.time()\n",
    "scores_s5_db_rbf = cross_val_score(grid_rbf, X_s5_db, y_s5_enc, scoring='accuracy', cv=cv_outer, n_jobs=3) #rbf kernel\n",
    "print(\"[INFO] --- %s seconds ---\" % (time.time() - start_time))\n"
   ]
  },
  {
   "cell_type": "code",
   "execution_count": 34,
   "metadata": {},
   "outputs": [
    {
     "name": "stdout",
     "output_type": "stream",
     "text": [
      "[INFO] --- 20.804875135421753 seconds ---\n"
     ]
    }
   ],
   "source": [
    "# execute the nested cross-validation\n",
    "start_time = time.time()\n",
    "scores_s5_db_linear = cross_val_score(grid_linear, X_s5_db, y_s5_enc, scoring='accuracy', cv=cv_outer, n_jobs=3) #linear kernel\n",
    "print(\"[INFO] --- %s seconds ---\" % (time.time() - start_time))\n"
   ]
  },
  {
   "cell_type": "code",
   "execution_count": 35,
   "metadata": {},
   "outputs": [
    {
     "name": "stdout",
     "output_type": "stream",
     "text": [
      "[INFO] --- 187.13819980621338 seconds ---\n"
     ]
    }
   ],
   "source": [
    "# execute the nested cross-validation\n",
    "start_time = time.time()\n",
    "scores_s15_db_rbf = cross_val_score(grid_rbf, X_s15_db, y_s15_enc, scoring='accuracy', cv=cv_outer, n_jobs=3) #poly kernel\n",
    "print(\"[INFO] --- %s seconds ---\" % (time.time() - start_time))\n"
   ]
  },
  {
   "cell_type": "markdown",
   "metadata": {},
   "source": [
    "> Delta BLA: Water vs. Sucrose 15%"
   ]
  },
  {
   "cell_type": "code",
   "execution_count": null,
   "metadata": {},
   "outputs": [],
   "source": [
    "# execute the nested cross-validation\n",
    "start_time = time.time()\n",
    "scores_s15_db_rbf = cross_val_score(grid_rbf, X_s15_db, y_s15_enc, scoring='accuracy', cv=cv_outer, n_jobs=3)\n",
    "print(\"[INFO] --- %s seconds ---\" % (time.time() - start_time))\n"
   ]
  },
  {
   "cell_type": "code",
   "execution_count": 17,
   "metadata": {},
   "outputs": [
    {
     "name": "stdout",
     "output_type": "stream",
     "text": [
      "--- 122.19924855232239 seconds ---\n"
     ]
    }
   ],
   "source": [
    "# execute the nested cross-validation\n",
    "start_time = time.time()\n",
    "scores_s15_db_linear = cross_val_score(grid_linear, X_s15_db, y_s15_enc, scoring='accuracy', cv=cv_outer, n_jobs=3)\n",
    "print(\"--- %s seconds ---\" % (time.time() - start_time))\n"
   ]
  },
  {
   "cell_type": "code",
   "execution_count": null,
   "metadata": {},
   "outputs": [],
   "source": [
    "# execute the nested cross-validation\n",
    "start_time = time.time()\n",
    "scores_s15_db_poly = cross_val_score(grid_poly, X_s15_db, y_s15_enc, scoring='accuracy', cv=cv_outer, n_jobs=3) #poly kernel\n",
    "print(\"--- %s seconds ---\" % (time.time() - start_time))"
   ]
  },
  {
   "cell_type": "markdown",
   "metadata": {},
   "source": [
    "> Delta NAc: Water vs. Sucrose 5%"
   ]
  },
  {
   "cell_type": "code",
   "execution_count": 18,
   "metadata": {},
   "outputs": [
    {
     "name": "stdout",
     "output_type": "stream",
     "text": [
      "--- 128.1135711669922 seconds ---\n"
     ]
    }
   ],
   "source": [
    "# execute the nested cross-validation\n",
    "start_time = time.time()\n",
    "scores_s5_dnac_linear = cross_val_score(grid_linear, X_s5_dnac, y_s5_enc, scoring='accuracy', cv=cv_outer, n_jobs=3)\n",
    "print(\"--- %s seconds ---\" % (time.time() - start_time))\n"
   ]
  },
  {
   "cell_type": "code",
   "execution_count": null,
   "metadata": {},
   "outputs": [],
   "source": [
    "# execute the nested cross-validation\n",
    "start_time = time.time()\n",
    "scores_s5_dnac_rbf = cross_val_score(grid_rbf, X_s5_dnac, y_s5_enc, scoring='accuracy', cv=cv_outer, n_jobs=3)\n",
    "print(\"[INFO] --- %s seconds ---\" % (time.time() - start_time))\n",
    "\n"
   ]
  },
  {
   "cell_type": "code",
   "execution_count": null,
   "metadata": {},
   "outputs": [],
   "source": [
    "# execute the nested cross-validation\n",
    "start_time = time.time()\n",
    "scores_s5_dnac_poly = cross_val_score(grid_poly, X_s5_dnac, y_s5_enc, scoring='accuracy', cv=cv_outer, n_jobs=3) #poly kernel\n",
    "print(\"--- %s seconds ---\" % (time.time() - start_time))"
   ]
  },
  {
   "cell_type": "markdown",
   "metadata": {},
   "source": [
    " > Delta NAc: Water vs. Sucrose 15%  "
   ]
  },
  {
   "cell_type": "code",
   "execution_count": null,
   "metadata": {},
   "outputs": [],
   "source": [
    "# execute the nested cross-validation\n",
    "start_time = time.time()\n",
    "scores_s15_dnac_rbf = cross_val_score(grid_rbf, X_s15_dnac, y_s15_enc, scoring='accuracy', cv=cv_outer, n_jobs=3)\n",
    "print(\"[INFO] --- %s seconds ---\" % (time.time() - start_time))\n"
   ]
  },
  {
   "cell_type": "code",
   "execution_count": 19,
   "metadata": {},
   "outputs": [
    {
     "name": "stdout",
     "output_type": "stream",
     "text": [
      "--- 116.70708084106445 seconds ---\n"
     ]
    }
   ],
   "source": [
    "# execute the nested cross-validation\n",
    "start_time = time.time()\n",
    "scores_s15_dnac_linear = cross_val_score(grid_linear, X_s15_dnac, y_s15_enc, scoring='accuracy', cv=cv_outer, n_jobs=3)\n",
    "print(\"--- %s seconds ---\" % (time.time() - start_time))\n"
   ]
  },
  {
   "cell_type": "code",
   "execution_count": null,
   "metadata": {},
   "outputs": [],
   "source": [
    "# execute the nested cross-validation\n",
    "start_time = time.time()\n",
    "scores_s15_dnac_poly = cross_val_score(grid_poly, X_s15_dnac, y_s15_enc, scoring='accuracy', cv=cv_outer, n_jobs=3) #poly kernel\n",
    "print(\"--- %s seconds ---\" % (time.time() - start_time))"
   ]
  },
  {
   "cell_type": "markdown",
   "metadata": {},
   "source": [
    "#### Beta"
   ]
  },
  {
   "cell_type": "markdown",
   "metadata": {},
   "source": [
    "> Beta PFC: Water vs Sucrose %5 "
   ]
  },
  {
   "cell_type": "code",
   "execution_count": null,
   "metadata": {},
   "outputs": [],
   "source": [
    "# execute the nested cross-validation\n",
    "start_time = time.time()\n",
    "scores_s5_bpfc_rbf = cross_val_score(grid_rbf, X_s5_bpfc, y_s5_enc, scoring='accuracy', cv=cv_outer, n_jobs=3)\n",
    "print(\"[INFO] --- %s seconds ---\" % (time.time() - start_time))\n"
   ]
  },
  {
   "cell_type": "code",
   "execution_count": 20,
   "metadata": {},
   "outputs": [
    {
     "name": "stdout",
     "output_type": "stream",
     "text": [
      "--- 127.09351086616516 seconds ---\n"
     ]
    }
   ],
   "source": [
    "# execute the nested cross-validation\n",
    "start_time = time.time()\n",
    "scores_s5_bpfc_linear = cross_val_score(grid_linear, X_s5_bpfc, y_s5_enc, scoring='accuracy', cv=cv_outer, n_jobs=3)\n",
    "print(\"--- %s seconds ---\" % (time.time() - start_time))\n"
   ]
  },
  {
   "cell_type": "code",
   "execution_count": null,
   "metadata": {},
   "outputs": [],
   "source": [
    "# execute the nested cross-validation\n",
    "start_time = time.time()\n",
    "scores_s5_bpfc_poly = cross_val_score(grid_poly, X_s5_bpfc, y_s5_enc, scoring='accuracy', cv=cv_outer, n_jobs=3) #poly kernel\n",
    "print(\"--- %s seconds ---\" % (time.time() - start_time))"
   ]
  },
  {
   "cell_type": "markdown",
   "metadata": {},
   "source": [
    "> Beta PFC: Water vs. Sucorse %15"
   ]
  },
  {
   "cell_type": "code",
   "execution_count": 21,
   "metadata": {},
   "outputs": [
    {
     "name": "stdout",
     "output_type": "stream",
     "text": [
      "--- 105.50718975067139 seconds ---\n"
     ]
    }
   ],
   "source": [
    "# execute the nested cross-validation\n",
    "\n",
    "start_time = time.time()\n",
    "scores_s15_bpfc_linear = cross_val_score(grid_linear, X_s15_bpfc, y_s15_enc, scoring='accuracy', cv=cv_outer, n_jobs=3)\n",
    "print(\"--- %s seconds ---\" % (time.time() - start_time))\n"
   ]
  },
  {
   "cell_type": "code",
   "execution_count": null,
   "metadata": {},
   "outputs": [],
   "source": [
    "# execute the nested cross-validation\n",
    "start_time = time.time()\n",
    "scores_s15_bpfc_rbf = cross_val_score(grid_rbf, X_s15_bpfc, y_s15_enc, scoring='accuracy', cv=cv_outer, n_jobs=3)\n",
    "print(\"[INFO] --- %s seconds ---\" % (time.time() - start_time))\n"
   ]
  },
  {
   "cell_type": "code",
   "execution_count": null,
   "metadata": {},
   "outputs": [],
   "source": [
    "# execute the nested cross-validation\n",
    "start_time = time.time()\n",
    "scores_s15_bpfc_poly = cross_val_score(grid_poly, X_s15_bpfc, y_s15_enc, scoring='accuracy', cv=cv_outer, n_jobs=3) #poly kernel\n",
    "print(\"--- %s seconds ---\" % (time.time() - start_time))"
   ]
  },
  {
   "cell_type": "markdown",
   "metadata": {},
   "source": [
    "> Beta NAc: Water vs. Sucrose %5 "
   ]
  },
  {
   "cell_type": "code",
   "execution_count": 22,
   "metadata": {},
   "outputs": [
    {
     "name": "stdout",
     "output_type": "stream",
     "text": [
      "--- 121.56399178504944 seconds ---\n"
     ]
    }
   ],
   "source": [
    "# execute the nested cross-validation\n",
    "start_time = time.time()\n",
    "scores_s5_bnac_linear = cross_val_score(grid_linear, X_s5_bnac, y_s5_enc, scoring='accuracy', cv=cv_outer, n_jobs=3)\n",
    "print(\"--- %s seconds ---\" % (time.time() - start_time))\n"
   ]
  },
  {
   "cell_type": "code",
   "execution_count": null,
   "metadata": {},
   "outputs": [],
   "source": [
    "# execute the nested cross-validation\n",
    "start_time = time.time()\n",
    "scores_s5_bnac_rbf = cross_val_score(grid_rbf, X_s5_bnac, y_s5_enc, scoring='accuracy', cv=cv_outer, n_jobs=3)\n",
    "print(\"[INFO] --- %s seconds ---\" % (time.time() - start_time))\n"
   ]
  },
  {
   "cell_type": "code",
   "execution_count": null,
   "metadata": {},
   "outputs": [],
   "source": [
    "# execute the nested cross-validation\n",
    "start_time = time.time()\n",
    "scores_s5_bnac_poly = cross_val_score(grid_poly, X_s5_bnac, y_s5_enc, scoring='accuracy', cv=cv_outer, n_jobs=3) #poly kernel\n",
    "print(\"--- %s seconds ---\" % (time.time() - start_time))"
   ]
  },
  {
   "cell_type": "markdown",
   "metadata": {},
   "source": [
    "> Beta NAc: Water vs. Sucrose 15%"
   ]
  },
  {
   "cell_type": "code",
   "execution_count": 23,
   "metadata": {},
   "outputs": [
    {
     "name": "stdout",
     "output_type": "stream",
     "text": [
      "--- 101.8986964225769 seconds ---\n"
     ]
    }
   ],
   "source": [
    "# execute the nested cross-validation\n",
    "start_time = time.time()\n",
    "scores_s15_bnac_linear = cross_val_score(grid_linear, X_s15_bnac, y_s15_enc, scoring='accuracy', cv=cv_outer, n_jobs=3)\n",
    "print(\"--- %s seconds ---\" % (time.time() - start_time))\n"
   ]
  },
  {
   "cell_type": "code",
   "execution_count": null,
   "metadata": {},
   "outputs": [],
   "source": [
    "# execute the nested cross-validation\n",
    "start_time = time.time()\n",
    "scores_s15_bnac_rbf = cross_val_score(grid_rbf, X_s15_bnac, y_s15_enc, scoring='accuracy', cv=cv_outer, n_jobs=3)\n",
    "print(\"[INFO] --- %s seconds ---\" % (time.time() - start_time))\n"
   ]
  },
  {
   "cell_type": "code",
   "execution_count": null,
   "metadata": {},
   "outputs": [],
   "source": [
    "# execute the nested cross-validation\n",
    "start_time = time.time()\n",
    "scores_s15_bnac_poly = cross_val_score(grid_poly, X_s15_bnac, y_s15_enc, scoring='accuracy', cv=cv_outer, n_jobs=3) #poly kernel\n",
    "print(\"--- %s seconds ---\" % (time.time() - start_time))"
   ]
  },
  {
   "cell_type": "markdown",
   "metadata": {},
   "source": [
    "> Beta vHip: Water vs. Sucrose 5%"
   ]
  },
  {
   "cell_type": "code",
   "execution_count": 24,
   "metadata": {},
   "outputs": [
    {
     "name": "stdout",
     "output_type": "stream",
     "text": [
      "--- 119.3322274684906 seconds ---\n"
     ]
    }
   ],
   "source": [
    "# execute the nested cross-validation\n",
    "start_time = time.time()\n",
    "scores_s5_bhip_linear = cross_val_score(grid_linear, X_s5_bhip, y_s5_enc, scoring='accuracy', cv=cv_outer, n_jobs=3)\n",
    "print(\"--- %s seconds ---\" % (time.time() - start_time))\n"
   ]
  },
  {
   "cell_type": "code",
   "execution_count": null,
   "metadata": {},
   "outputs": [],
   "source": [
    "# execute the nested cross-validation\n",
    "start_time = time.time()\n",
    "scores_s5_bhip_rbf = cross_val_score(grid_rbf, X_s5_bhip, y_s5_enc, scoring='accuracy', cv=cv_outer, n_jobs=3)\n",
    "print(\"[INFO] --- %s seconds ---\" % (time.time() - start_time))\n"
   ]
  },
  {
   "cell_type": "code",
   "execution_count": null,
   "metadata": {},
   "outputs": [],
   "source": [
    "# execute the nested cross-validation\n",
    "start_time = time.time()\n",
    "scores_s5_bhip_poly = cross_val_score(grid_poly, X_s5_bhip, y_s5_enc, scoring='accuracy', cv=cv_outer, n_jobs=3) #poly kernel\n",
    "print(\"--- %s seconds ---\" % (time.time() - start_time))"
   ]
  },
  {
   "cell_type": "markdown",
   "metadata": {},
   "source": [
    "> Beta vHip: Water vs. Sucrose 15%"
   ]
  },
  {
   "cell_type": "code",
   "execution_count": 25,
   "metadata": {},
   "outputs": [
    {
     "name": "stdout",
     "output_type": "stream",
     "text": [
      "--- 109.04044342041016 seconds ---\n"
     ]
    }
   ],
   "source": [
    "# execute the nested cross-validation\n",
    "start_time = time.time()\n",
    "scores_s15_bhip_linear = cross_val_score(grid_linear, X_s15_bhip, y_s15_enc, scoring='accuracy', cv=cv_outer, n_jobs=3)\n",
    "print(\"--- %s seconds ---\" % (time.time() - start_time))\n"
   ]
  },
  {
   "cell_type": "code",
   "execution_count": null,
   "metadata": {},
   "outputs": [],
   "source": [
    "# execute the nested cross-validation\n",
    "start_time = time.time()\n",
    "scores_s15_bhip_rbf = cross_val_score(grid_rbf, X_s15_bhip, y_s15_enc, scoring='accuracy', cv=cv_outer, n_jobs=3)\n",
    "print(\"[INFO] --- %s seconds ---\" % (time.time() - start_time))\n"
   ]
  },
  {
   "cell_type": "code",
   "execution_count": null,
   "metadata": {},
   "outputs": [],
   "source": [
    "# execute the nested cross-validation\n",
    "start_time = time.time()\n",
    "scores_s15_bhip_poly = cross_val_score(grid_poly, X_s15_bhip, y_s15_enc, scoring='accuracy', cv=cv_outer, n_jobs=3) #poly kernel\n",
    "print(\"--- %s seconds ---\" % (time.time() - start_time))"
   ]
  },
  {
   "cell_type": "markdown",
   "metadata": {},
   "source": [
    "#### Low Gamma"
   ]
  },
  {
   "cell_type": "markdown",
   "metadata": {},
   "source": [
    "> Low Gamma NAc: Water vs. Sucrose 5%"
   ]
  },
  {
   "cell_type": "code",
   "execution_count": 63,
   "metadata": {},
   "outputs": [
    {
     "name": "stdout",
     "output_type": "stream",
     "text": [
      "--- 14.13074803352356 seconds ---\n"
     ]
    }
   ],
   "source": [
    "# execute the nested cross-validation\n",
    "start_time = time.time()\n",
    "scores_s5_lgnac_linear = cross_val_score(grid_linear, X_s5_lgnac, y_s5_enc, scoring='accuracy', cv=cv_outer, n_jobs=3)\n",
    "print(\"--- %s seconds ---\" % (time.time() - start_time))\n"
   ]
  },
  {
   "cell_type": "code",
   "execution_count": 65,
   "metadata": {},
   "outputs": [
    {
     "name": "stdout",
     "output_type": "stream",
     "text": [
      "[INFO] --- 144.84875464439392 seconds ---\n"
     ]
    }
   ],
   "source": [
    "# execute the nested cross-validation\n",
    "start_time = time.time()\n",
    "scores_s5_lgnac_rbf = cross_val_score(grid_rbf, X_s5_lgnac, y_s5_enc, scoring='accuracy', cv=cv_outer, n_jobs=3)\n",
    "print(\"[INFO] --- %s seconds ---\" % (time.time() - start_time))\n"
   ]
  },
  {
   "cell_type": "code",
   "execution_count": 66,
   "metadata": {},
   "outputs": [
    {
     "name": "stdout",
     "output_type": "stream",
     "text": [
      "[INFO] --- 15.25172758102417 seconds ---\n"
     ]
    }
   ],
   "source": [
    "# execute the nested cross-validation\n",
    "start_time = time.time()\n",
    "scores_s15_lgnac_linear = cross_val_score(grid_linear, X_s15_lgnac, y_s15_enc, scoring='accuracy', cv=cv_outer, n_jobs=3)\n",
    "print(\"[INFO] --- %s seconds ---\" % (time.time() - start_time))\n"
   ]
  },
  {
   "cell_type": "code",
   "execution_count": 67,
   "metadata": {},
   "outputs": [
    {
     "name": "stdout",
     "output_type": "stream",
     "text": [
      "[INFO] --- 151.61614227294922 seconds ---\n"
     ]
    }
   ],
   "source": [
    "# execute the nested cross-validation\n",
    "start_time = time.time()\n",
    "scores_s15_lgnac_rbf = cross_val_score(grid_rbf, X_s15_lgnac, y_s15_enc, scoring='accuracy', cv=cv_outer, n_jobs=3)\n",
    "print(\"[INFO] --- %s seconds ---\" % (time.time() - start_time))\n"
   ]
  },
  {
   "cell_type": "code",
   "execution_count": 64,
   "metadata": {},
   "outputs": [
    {
     "name": "stdout",
     "output_type": "stream",
     "text": [
      "[INFO] LOW GAMMA NAc, SVM w/ Linear kernel, Accuracy: 0.508 (0.016)\n"
     ]
    }
   ],
   "source": []
  },
  {
   "cell_type": "code",
   "execution_count": 79,
   "metadata": {},
   "outputs": [
    {
     "name": "stdout",
     "output_type": "stream",
     "text": [
      "LOW GAMMA NAc, SVM w/ Linear kernel, Accuracy: 0.508 (0.016)\n",
      " LOW GAMMA NAc, SVM w/ RBF kernel, Accuracy: 0.554 (0.010)\n"
     ]
    }
   ],
   "source": [
    "print('LOW GAMMA NAc, SVM w/ Linear kernel, Accuracy: %.3f (%.3f)' %(mean(scores_s5_lgnac_linear), std(scores_s5_lgnac_linear)))\n",
    "\n",
    "print(' LOW GAMMA NAc, SVM w/ RBF kernel, Accuracy: %.3f (%.3f)' %(mean(scores_s5_lgnac_rbf), std(scores_s5_lgnac_rbf)))"
   ]
  },
  {
   "cell_type": "code",
   "execution_count": 81,
   "metadata": {},
   "outputs": [
    {
     "name": "stdout",
     "output_type": "stream",
     "text": [
      "LOW GAMMA NAc, SVM w/ Linear kernel, Accuracy: 0.490 (0.010)\n",
      "LOW GAMMA NAc, SVM w/ RBF kernel, Accuracy: 0.542 (0.013)\n"
     ]
    }
   ],
   "source": [
    "print('LOW GAMMA NAc, SVM w/ Linear kernel, Accuracy: %.3f (%.3f)' % (mean(scores_s15_lgnac_linear), std(scores_s15_lgnac_linear)))\n",
    "\n",
    "print('LOW GAMMA NAc, SVM w/ RBF kernel, Accuracy: %.3f (%.3f)' % (mean(scores_s15_lgnac_rbf), std(scores_s15_lgnac_rbf)))\n"
   ]
  },
  {
   "cell_type": "markdown",
   "metadata": {},
   "source": [
    "> Low Gamma NAc: Water vs. Sucrose 15%"
   ]
  },
  {
   "cell_type": "code",
   "execution_count": 27,
   "metadata": {},
   "outputs": [
    {
     "name": "stdout",
     "output_type": "stream",
     "text": [
      "--- 116.78263092041016 seconds ---\n"
     ]
    }
   ],
   "source": [
    "# execute the nested cross-validation\n",
    "start_time = time.time()\n",
    "scores_s15_lgnac_linear = cross_val_score(grid_linear, X_s15_lgnac, y_s15_enc, scoring='accuracy', cv=cv_outer, n_jobs=3)\n",
    "print(\"--- %s seconds ---\" % (time.time() - start_time))\n"
   ]
  },
  {
   "cell_type": "code",
   "execution_count": null,
   "metadata": {},
   "outputs": [],
   "source": [
    "# execute the nested cross-validation\n",
    "start_time = time.time()\n",
    "scores_s15_lgnac_rbf = cross_val_score(grid_rbf, X_s15_lgnac, y_s15_lgnac, scoring='accuracy', cv=cv_outer, n_jobs=3)\n",
    "print(\"[INFO] --- %s seconds ---\" % (time.time() - start_time))\n"
   ]
  },
  {
   "cell_type": "code",
   "execution_count": null,
   "metadata": {},
   "outputs": [],
   "source": [
    "# execute the nested cross-validation\n",
    "start_time = time.time()\n",
    "scores_s15_lgnac_poly = cross_val_score(grid_rbf, X_s15_lgnac, y_s15_lgnac, scoring='accuracy', cv=cv_outer, n_jobs=3)\n",
    "print(\"[INFO] --- %s seconds ---\" % (time.time() - start_time))\n"
   ]
  },
  {
   "cell_type": "markdown",
   "metadata": {},
   "source": [
    "> Low Gamma vHip: Water vs. Sucrose 5%"
   ]
  },
  {
   "cell_type": "code",
   "execution_count": 28,
   "metadata": {},
   "outputs": [
    {
     "name": "stdout",
     "output_type": "stream",
     "text": [
      "--- 117.04686570167542 seconds ---\n"
     ]
    }
   ],
   "source": [
    "# execute the nested cross-validation\n",
    "start_time = time.time()\n",
    "scores_s5_lghip_linear = cross_val_score(grid_linear, X_s5_lghip, y_s5_enc, scoring='accuracy', cv=cv_outer, n_jobs=3)\n",
    "print(\"--- %s seconds ---\" % (time.time() - start_time))\n"
   ]
  },
  {
   "cell_type": "code",
   "execution_count": null,
   "metadata": {},
   "outputs": [],
   "source": [
    "# execute the nested cross-validation\n",
    "start_time = time.time()\n",
    "scores_s5_lghip_rbf = cross_val_score(grid_rbf, X_s5_lghip, y_s5_lghip, scoring='accuracy', cv=cv_outer, n_jobs=3)\n",
    "print(\"[INFO] --- %s seconds ---\" % (time.time() - start_time))\n"
   ]
  },
  {
   "cell_type": "code",
   "execution_count": null,
   "metadata": {},
   "outputs": [],
   "source": [
    "# execute the nested cross-validation\n",
    "start_time = time.time()\n",
    "scores_s5_lghip_poly = cross_val_score(grid_rbf, X_s5_lghip, y_s5_lghip, scoring='accuracy', cv=cv_outer, n_jobs=3)\n",
    "print(\"[INFO] --- %s seconds ---\" % (time.time() - start_time))\n"
   ]
  },
  {
   "cell_type": "markdown",
   "metadata": {},
   "source": [
    "> Low Gamma vHip: Water vs. Sucrose 15%"
   ]
  },
  {
   "cell_type": "code",
   "execution_count": 29,
   "metadata": {},
   "outputs": [
    {
     "name": "stdout",
     "output_type": "stream",
     "text": [
      "--- 103.54954981803894 seconds ---\n"
     ]
    }
   ],
   "source": [
    "# execute the nested cross-validation\n",
    "start_time = time.time()\n",
    "scores_s15_lghip_linear = cross_val_score(grid_linear, X_s15_lghip, y_s15_enc, scoring='accuracy', cv=cv_outer, n_jobs=3)\n",
    "print(\"--- %s seconds ---\" % (time.time() - start_time))\n"
   ]
  },
  {
   "cell_type": "code",
   "execution_count": null,
   "metadata": {},
   "outputs": [],
   "source": [
    "# execute the nested cross-validation\n",
    "start_time = time.time()\n",
    "scores_s15_lghip_rbf = cross_val_score(grid_rbf, X_s15_lghip, y_s15_lghip, scoring='accuracy', cv=cv_outer, n_jobs=3)\n",
    "print(\"[INFO] --- %s seconds ---\" % (time.time() - start_time))\n"
   ]
  },
  {
   "cell_type": "code",
   "execution_count": null,
   "metadata": {},
   "outputs": [],
   "source": [
    "# execute the nested cross-validation\n",
    "start_time = time.time()\n",
    "scores_s15_lghip_poly = cross_val_score(grid_rbf, X_s15_lghip, y_s15_lghip, scoring='accuracy', cv=cv_outer, n_jobs=3)\n",
    "print(\"[INFO] --- %s seconds ---\" % (time.time() - start_time))\n"
   ]
  },
  {
   "cell_type": "markdown",
   "metadata": {},
   "source": [
    "---"
   ]
  },
  {
   "cell_type": "markdown",
   "metadata": {},
   "source": [
    "## Results <a class=\"anchor\" id=\"results\"></a>"
   ]
  },
  {
   "cell_type": "code",
   "execution_count": 37,
   "metadata": {},
   "outputs": [
    {
     "name": "stdout",
     "output_type": "stream",
     "text": [
      "\n",
      "[INFO] Results for, DELTA BLA \n",
      "\n",
      "[INFO] Water vs. Sucrose 5%: \n",
      "[INFO] SVM w/ Linear kernel, Accuracy: 0.578 (0.066)\n",
      "\n",
      "[INFO] Water vs. Sucrose 15%: \n",
      "[INFO] SVM w/ Linear kernel, Accuracy: 0.598 (0.074)\n",
      "\n",
      "\n",
      "[INFO] Results for, DELTA NAc\n",
      "\n",
      "[INFO] Water vs. Sucrose 5%: \n",
      "[INFO] SVM w/ Linear kernel, Accuracy: 0.515 (0.083)\n",
      "\n",
      "[INFO] Water vs. Sucrose 15%: \n",
      "[INFO] SVM w/ Linear kernel, Accuracy: 0.634 (0.018)\n",
      "\n",
      "----\n",
      "\n",
      "\n",
      "[INFO] Results for, BETA PFC\n",
      "\n",
      "[INFO] Water vs. Sucrose 5%: \n",
      "[INFO] SVM w/ Linear kernel, Accuracy: 0.562 (0.075)\n",
      "\n",
      "[INFO] Water vs. Sucrose 15%: \n",
      "[INFO] SVM w/ Linear kernel, Accuracy: 0.629 (0.077)\n",
      "\n",
      "\n",
      "[INFO] Results for, BETA NAc\n",
      "\n",
      "[INFO] Water vs. Sucrose 5%: \n",
      "[INFO] SVM w/ Linear kernel, Accuracy: 0.533 (0.114)\n",
      "\n",
      "[INFO] Water vs. Sucrose 15%: \n",
      "[INFO] SVM w/ Linear kernel, Accuracy: 0.633 (0.016)\n",
      "\n",
      "\n",
      "[INFO] Results for, BETA vHIP \n",
      "\n",
      "[INFO] Water vs. Sucrose 5%: \n",
      "[INFO] SVM w/ Linear kernel, Accuracy: 0.494 (0.057)\n",
      "\n",
      "[INFO] Water vs. Sucrose 15%: \n",
      "[INFO] SVM w/ Linear kernel, Accuracy: 0.634 (0.023)\n",
      "\n",
      "----\n",
      "\n",
      "\n",
      "[INFO] Results for, LOW GAMMA NAc\n",
      "\n",
      "[INFO] Water vs. Sucrose 5%: \n",
      "[INFO] SVM w/ Linear kernel, Accuracy: 0.553 (0.092)\n",
      "\n",
      "[INFO] Water vs. Sucrose 15%: \n",
      "[INFO] SVM w/ Linear kernel, Accuracy: 0.649 (0.023)\n",
      "\n",
      "\n",
      "[INFO] Results for, LOW GAMMA vHIP \n",
      "\n",
      "[INFO] Water vs. Sucrose 5%: \n",
      "[INFO] SVM w/ Linear kernel, Accuracy: 0.501 (0.100)\n",
      "\n",
      "[INFO] Water vs. Sucrose 15%: \n",
      "[INFO] SVM w/ Linear kernel, Accuracy: 0.636 (0.022)\n",
      "\n",
      "----\n"
     ]
    }
   ],
   "source": [
    "# -- report performance  --\n",
    "\n",
    "# delta \n",
    "print(\"\\n[INFO] Results for, DELTA BLA \")\n",
    "print(\"\\n[INFO] Water vs. Sucrose 5%: \")\n",
    "#('[INFO] SVM w/ RBF kernel, Accuracy: %.3f (%.3f)' % (mean(scores_s5_db_rbf), std(scores_s5_db_rbf)))\n",
    "print('[INFO] SVM w/ Linear kernel, Accuracy: %.3f (%.3f)' % (mean(scores_s5_db_linear), std(scores_s5_db_linear)))\n",
    "print(\"\\n[INFO] Water vs. Sucrose 15%: \")\n",
    "#print('[INFO] SVM w/ RBF kernel, Accuracy: %.3f (%.3f)' % (mean(scores_s15_db_rbf), std(scores_s15_db_rbf)))\n",
    "print('[INFO] SVM w/ Linear kernel, Accuracy: %.3f (%.3f)' % (mean(scores_s15_db_linear), std(scores_s15_db_linear)))\n",
    "print(\"\\n\\n[INFO] Results for, DELTA NAc\")\n",
    "print(\"\\n[INFO] Water vs. Sucrose 5%: \")\n",
    "#print('[INFO] SVM w/ RBF kernel, Accuracy: %.3f (%.3f)' % (mean(scores_s5_nac_rbf), std(scores_s5_nac_rbf)))\n",
    "print('[INFO] SVM w/ Linear kernel, Accuracy: %.3f (%.3f)' % (mean(scores_s5_dnac_linear), std(scores_s5_dnac_linear)))\n",
    "print(\"\\n[INFO] Water vs. Sucrose 15%: \")\n",
    "#print('[INFO] SVM w/ RBF kernel, Accuracy: %.3f (%.3f)' % (mean(scores_s15_nac_rbf), std(scores_s15_nac_rbf)))\n",
    "print('[INFO] SVM w/ Linear kernel, Accuracy: %.3f (%.3f)' % (mean(scores_s15_dnac_linear), std(scores_s15_dnac_linear)))\n",
    "print('\\n----')\n",
    "\n",
    "# beta\n",
    "print(\"\\n\\n[INFO] Results for, BETA PFC\")\n",
    "print(\"\\n[INFO] Water vs. Sucrose 5%: \")\n",
    "print('[INFO] SVM w/ Linear kernel, Accuracy: %.3f (%.3f)' % (mean(scores_s5_bpfc_linear), std(scores_s5_bpfc_linear)))\n",
    "print(\"\\n[INFO] Water vs. Sucrose 15%: \")\n",
    "print('[INFO] SVM w/ Linear kernel, Accuracy: %.3f (%.3f)' % (mean(scores_s15_bpfc_linear), std(scores_s15_bpfc_linear)))\n",
    "print(\"\\n\\n[INFO] Results for, BETA NAc\")\n",
    "print(\"\\n[INFO] Water vs. Sucrose 5%: \")\n",
    "print('[INFO] SVM w/ Linear kernel, Accuracy: %.3f (%.3f)' % (mean(scores_s5_bnac_linear), std(scores_s5_bnac_linear)))\n",
    "print(\"\\n[INFO] Water vs. Sucrose 15%: \")\n",
    "print('[INFO] SVM w/ Linear kernel, Accuracy: %.3f (%.3f)' % (mean(scores_s15_bnac_linear), std(scores_s15_bnac_linear)))\n",
    "print(\"\\n\\n[INFO] Results for, BETA vHIP \")\n",
    "print(\"\\n[INFO] Water vs. Sucrose 5%: \")\n",
    "print('[INFO] SVM w/ Linear kernel, Accuracy: %.3f (%.3f)' % (mean(scores_s5_bhip_linear), std(scores_s5_bhip_linear)))\n",
    "print(\"\\n[INFO] Water vs. Sucrose 15%: \")\n",
    "print('[INFO] SVM w/ Linear kernel, Accuracy: %.3f (%.3f)' % (mean(scores_s15_bhip_linear), std(scores_s15_bhip_linear)))\n",
    "print('\\n----')\n",
    "\n",
    "\n",
    "# Low gamma\n",
    "print(\"\\n\\n[INFO] Results for, LOW GAMMA NAc\")\n",
    "print(\"\\n[INFO] Water vs. Sucrose 5%: \")\n",
    "print('[INFO] SVM w/ Linear kernel, Accuracy: %.3f (%.3f)' % (mean(scores_s5_lgnac_linear), std(scores_s5_lgnac_linear)))\n",
    "print(\"\\n[INFO] Water vs. Sucrose 15%: \")\n",
    "print('[INFO] SVM w/ Linear kernel, Accuracy: %.3f (%.3f)' % (mean(scores_s15_lgnac_linear), std(scores_s15_lgnac_linear)))\n",
    "print(\"\\n\\n[INFO] Results for, LOW GAMMA vHIP \")\n",
    "print(\"\\n[INFO] Water vs. Sucrose 5%: \")\n",
    "print('[INFO] SVM w/ Linear kernel, Accuracy: %.3f (%.3f)' % (mean(scores_s5_lghip_linear), std(scores_s5_lghip_linear)))\n",
    "print(\"\\n[INFO] Water vs. Sucrose 15%: \")\n",
    "print('[INFO] SVM w/ Linear kernel, Accuracy: %.3f (%.3f)' % (mean(scores_s15_lghip_linear), std(scores_s15_lghip_linear)))\n",
    "print('\\n----')\n",
    "\n",
    "\n",
    "\n",
    "\n"
   ]
  },
  {
   "cell_type": "markdown",
   "metadata": {},
   "source": [
    "---"
   ]
  },
  {
   "cell_type": "markdown",
   "metadata": {},
   "source": [
    "---"
   ]
  },
  {
   "cell_type": "markdown",
   "metadata": {},
   "source": [
    "## "
   ]
  }
 ],
 "metadata": {
  "kernelspec": {
   "display_name": "Python 3",
   "language": "python",
   "name": "python3"
  },
  "language_info": {
   "codemirror_mode": {
    "name": "ipython",
    "version": 3
   },
   "file_extension": ".py",
   "mimetype": "text/x-python",
   "name": "python",
   "nbconvert_exporter": "python",
   "pygments_lexer": "ipython3",
   "version": "3.9.6"
  }
 },
 "nbformat": 4,
 "nbformat_minor": 4
}
