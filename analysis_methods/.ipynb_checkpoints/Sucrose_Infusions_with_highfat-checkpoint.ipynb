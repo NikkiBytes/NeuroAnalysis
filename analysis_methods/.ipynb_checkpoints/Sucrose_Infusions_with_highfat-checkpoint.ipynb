{
 "cells": [
  {
   "cell_type": "markdown",
   "metadata": {},
   "source": [
    "# Sucrose infusions with high fat data"
   ]
  },
  {
   "cell_type": "code",
   "execution_count": 87,
   "metadata": {},
   "outputs": [],
   "source": [
    "# -- import packages --\n",
    "import pandas as pd\n",
    "import numpy as np \n",
    "import time\n",
    "from sklearn.svm import SVC\n",
    "from sklearn.preprocessing import StandardScaler, LabelEncoder\n",
    "from sklearn.pipeline import Pipeline\n",
    "from sklearn.model_selection import GridSearchCV, KFold,  cross_val_score\n",
    "from sklearn.model_selection import train_test_split\n",
    "from warnings import simplefilter\n",
    "from sklearn.exceptions import ConvergenceWarning\n",
    "simplefilter(\"ignore\", category=ConvergenceWarning)\n",
    "from numpy import mean,std\n",
    "\n"
   ]
  },
  {
   "cell_type": "markdown",
   "metadata": {},
   "source": [
    "## Data Load "
   ]
  },
  {
   "cell_type": "code",
   "execution_count": 88,
   "metadata": {},
   "outputs": [],
   "source": [
    "# sucrose infusions csv dataframe, locally set path\n",
    "path=\"C:\\\\Users\\\\19802\\\\Documents\\\\nibl\\\\pilot_connectivity\\\\mouse_data\\\\Sucrose_infusions_full_df.csv\" \n",
    "data=pd.read_csv(path) # read in as dataframe"
   ]
  },
  {
   "cell_type": "markdown",
   "metadata": {},
   "source": [
    "## Prepare Data  \n"
   ]
  },
  {
   "cell_type": "markdown",
   "metadata": {},
   "source": [
    "**Dummy variables**  \n",
    "We use pandas package `get_dummies()` , passing the dataframe and the columns to convert: \"MouseId\" and \"Treatment\".   \n"
   ]
  },
  {
   "cell_type": "code",
   "execution_count": 89,
   "metadata": {},
   "outputs": [
    {
     "data": {
      "text/plain": [
       "(array(['E_A1', 'E_A3', 'E_A7', 'E_A8'], dtype=object),\n",
       " array(['Post_HFD', 'Post_removal', 'Pre_HFD'], dtype=object))"
      ]
     },
     "execution_count": 89,
     "metadata": {},
     "output_type": "execute_result"
    }
   ],
   "source": [
    "data['MouseId'].unique(), data['Treatment'].unique()"
   ]
  },
  {
   "cell_type": "code",
   "execution_count": 90,
   "metadata": {},
   "outputs": [],
   "source": [
    "data=pd.get_dummies(data, columns=[\"MouseId\"]) # convert to dummy/indicator variables\n",
    "data=pd.get_dummies(data, columns=[\"Treatment\"]) # convert to dummy variables"
   ]
  },
  {
   "cell_type": "code",
   "execution_count": 91,
   "metadata": {},
   "outputs": [
    {
     "data": {
      "text/plain": [
       "(   MouseId_E_A1  MouseId_E_A3  MouseId_E_A7  MouseId_E_A8\n",
       " 0             1             0             0             0\n",
       " 1             1             0             0             0\n",
       " 2             1             0             0             0\n",
       " 3             1             0             0             0\n",
       " 4             1             0             0             0,\n",
       "    Treatment_Post_HFD  Treatment_Post_removal  Treatment_Pre_HFD\n",
       " 0                   1                       0                  0\n",
       " 1                   1                       0                  0\n",
       " 2                   1                       0                  0\n",
       " 3                   1                       0                  0\n",
       " 4                   1                       0                  0)"
      ]
     },
     "execution_count": 91,
     "metadata": {},
     "output_type": "execute_result"
    }
   ],
   "source": [
    "data.filter(like=\"MouseId\", axis=1).head() , data.filter(like=\"Treatment\", axis=1).head() # view the new dummy/indicator variables"
   ]
  },
  {
   "cell_type": "markdown",
   "metadata": {},
   "source": [
    "---"
   ]
  },
  {
   "cell_type": "markdown",
   "metadata": {},
   "source": [
    "## Prepare Y"
   ]
  },
  {
   "cell_type": "code",
   "execution_count": 92,
   "metadata": {},
   "outputs": [
    {
     "data": {
      "text/plain": [
       "(array(['Water', 'Sucrose_5'], dtype=object),\n",
       " array(['Water', 'Sucrose_15'], dtype=object))"
      ]
     },
     "execution_count": 92,
     "metadata": {},
     "output_type": "execute_result"
    }
   ],
   "source": [
    "# -- Setup the target variables  --\n",
    "\n",
    "Y = data.loc[:, \"Reward\"] # set copy of target variable to Y \n",
    "\n",
    "# make condition masks for Water vs. Sucrose %5 and Water vs. Sucorse vs 15%\n",
    "s5_cond_mask=Y.isin(['Water', \"Sucrose_5\"])\n",
    "s15_cond_mask=Y.isin(['Water', \"Sucrose_15\"])\n",
    "\n",
    "# filter data for target variabes w/ condition masks\n",
    "y_s5=Y[s5_cond_mask]\n",
    "y_s15=Y[s15_cond_mask]\n",
    "\n",
    "\n",
    "# prepare feature dataframe with filtered masks\n",
    "s5_data = data[s5_cond_mask]\n",
    "s15_data = data[s15_cond_mask]\n",
    "\n",
    "y_s5.unique(), y_s15.unique()\n"
   ]
  },
  {
   "cell_type": "markdown",
   "metadata": {},
   "source": [
    "**Encode target variables** "
   ]
  },
  {
   "cell_type": "code",
   "execution_count": 93,
   "metadata": {},
   "outputs": [
    {
     "data": {
      "text/plain": [
       "((12291,), (12342,))"
      ]
     },
     "execution_count": 93,
     "metadata": {},
     "output_type": "execute_result"
    }
   ],
   "source": [
    "# -- label encoder on our data -- \n",
    "le = LabelEncoder() # initialize encoder obj\n",
    "y_s5_enc = le.fit_transform(y_s5) # fit and transform the 5% data\n",
    "y_s15_enc = le.fit_transform(y_s15) # fit and transform the 15% data\n",
    "\n",
    "y_s5_enc.shape, y_s15_enc.shape "
   ]
  },
  {
   "cell_type": "markdown",
   "metadata": {},
   "source": [
    "## Model Setup\n",
    "SVM classifier with a linear kernel and RBF kernel, with K-fold cross nested validation."
   ]
  },
  {
   "cell_type": "code",
   "execution_count": 94,
   "metadata": {},
   "outputs": [
    {
     "data": {
      "text/plain": [
       "(GridSearchCV(cv=KFold(n_splits=10, random_state=1, shuffle=True),\n",
       "              estimator=SVC(kernel='linear', max_iter=10000), n_jobs=3,\n",
       "              param_grid={'C': array([1.e-03, 1.e-02, 1.e-01, 1.e+00, 1.e+01, 1.e+02])},\n",
       "              scoring='accuracy'),\n",
       " GridSearchCV(cv=KFold(n_splits=10, random_state=1, shuffle=True),\n",
       "              estimator=SVC(max_iter=10000), n_jobs=2,\n",
       "              param_grid={'C': array([1.e-03, 1.e-02, 1.e-01, 1.e+00, 1.e+01, 1.e+02]),\n",
       "                          'gamma': array([1.e-03, 1.e-02, 1.e-01, 1.e+00, 1.e+01, 1.e+02])},\n",
       "              scoring='accuracy'))"
      ]
     },
     "execution_count": 94,
     "metadata": {},
     "output_type": "execute_result"
    }
   ],
   "source": [
    "\n",
    "# configure the cross-validation procedure\n",
    "cv_inner = KFold(n_splits=10, shuffle=True, random_state=1)\n",
    "cv_outer = KFold(n_splits=5, shuffle=True, random_state=1)\n",
    "\n",
    "# define the classifiers\n",
    "svc_linear = SVC(kernel='linear', max_iter=10000)\n",
    "svc_rbf = SVC(kernel='rbf', max_iter=10000)\n",
    "\n",
    "\n",
    "# define the hyperparameter grid\n",
    "C_range =  np.logspace(-3, 2, 6)\n",
    "gamma_range = np.logspace(-3, 2, 6)\n",
    "\n",
    "param_grid_linear = dict(C=C_range)\n",
    "param_grid_rbf = dict(gamma=gamma_range, C=C_range)\n",
    "\n",
    "# set grid object\n",
    "grid_linear = GridSearchCV(svc_linear, param_grid_linear, scoring='accuracy',  n_jobs=3, cv=cv_inner)\n",
    "grid_rbf = GridSearchCV(svc_rbf,param_grid_rbf , scoring='accuracy', n_jobs=2, cv=cv_inner)\n",
    "\n",
    "grid_linear, grid_rbf"
   ]
  },
  {
   "cell_type": "code",
   "execution_count": 80,
   "metadata": {},
   "outputs": [],
   "source": [
    "# initialize scaler object\n",
    "scaler = StandardScaler()"
   ]
  },
  {
   "cell_type": "markdown",
   "metadata": {},
   "source": [
    "---"
   ]
  },
  {
   "cell_type": "markdown",
   "metadata": {},
   "source": [
    "## Low Gamma"
   ]
  },
  {
   "cell_type": "markdown",
   "metadata": {},
   "source": [
    "### Low Gamma BLA"
   ]
  },
  {
   "cell_type": "code",
   "execution_count": 81,
   "metadata": {},
   "outputs": [],
   "source": [
    "# -- BlA  -- \n",
    "s5_lgbla_data=s5_data[[\"BLA_low_gamma\",  'MouseId_E_A1', 'MouseId_E_A3', 'MouseId_E_A7', 'MouseId_E_A8',\n",
    "                   'Treatment_Post_HFD', 'Treatment_Post_removal','Treatment_Pre_HFD']] #'MouseId','Treatment']] \n",
    "s15_lgbla_data=s15_data[[\"BLA_low_gamma\",'MouseId_E_A1', 'MouseId_E_A3', 'MouseId_E_A7', 'MouseId_E_A8',\n",
    "                   'Treatment_Post_HFD', 'Treatment_Post_removal', 'Treatment_Pre_HFD']] #'MouseId','Treatment']] \n",
    "\n",
    "X_s5_lgbla = scaler.fit_transform(s5_lgbla_data) # fit and transform \n",
    "X_s15_lgbla = scaler.fit_transform(s15_lgbla_data) # fit and transform\n",
    "\n",
    "# Making train set for Nested CV and test set for final model evaluation\n",
    "X_train_s5_lgbla, X_test_s5_lgbla, y_train_s5_lgbla, y_test_s15_lgbla = train_test_split(X_s5_lgbla, y_s5_enc,\n",
    "                                                    train_size=0.8, \n",
    "                                                    test_size=0.2,\n",
    "                                                    random_state=1)\n",
    "                                                                                         \n",
    "                                                    #stratify= y_s15_enc)\n",
    "X_train_s15_lgbla, X_test_s15_lgbla, y_train_s15_lgbla, y_test_s15_lgbla = train_test_split(X_s15_lgbla, y_s15_enc,\n",
    "                                                    train_size=0.8, \n",
    "                                                    test_size=0.2,\n",
    "                                                    random_state=1)"
   ]
  },
  {
   "cell_type": "markdown",
   "metadata": {},
   "source": [
    "---"
   ]
  },
  {
   "cell_type": "markdown",
   "metadata": {},
   "source": [
    "> LINEAR Kernel"
   ]
  },
  {
   "cell_type": "code",
   "execution_count": null,
   "metadata": {},
   "outputs": [],
   "source": [
    "# execute the nested cross-validation\n",
    "start_time = time.time()\n",
    "scores_s5_lgbla_linear = cross_val_score(grid_linear, X_train_s5_lgbla, y_train_s5_lgbla, scoring='accuracy', cv=cv_outer, n_jobs=3) #linear kernel\n",
    "print(\"[INFO] --- %s seconds ---\" % (time.time() - start_time))\n",
    "# execute the nested cross-validation\n",
    "start_time = time.time()\n",
    "scores_s15_lgbla_linear = cross_val_score(grid_linear, X_train_s15_lgbla, y_train_s15_lgbla, scoring='accuracy', cv=cv_outer, n_jobs=3)\n",
    "print(\"[INFO]--- %s seconds ---\" % (time.time() - start_time))\n",
    "\n"
   ]
  },
  {
   "cell_type": "code",
   "execution_count": 49,
   "metadata": {},
   "outputs": [
    {
     "name": "stdout",
     "output_type": "stream",
     "text": [
      "[INFO] LOW GAMMA BLA, SVM w/ Linear kernel, Accuracy: 0.502 (0.014)\n",
      "[INFO] LOW GAMMA BLA, SVM w/ Linear kernel, Accuracy: 0.517 (0.019)\n"
     ]
    }
   ],
   "source": [
    "print('[INFO] LOW GAMMA BLA, SVM w/ Linear kernel, Accuracy: %.3f (%.3f)' % (mean(scores_s5_lgbla_linear), std(scores_s5_lgbla_linear)))\n",
    "print('[INFO] LOW GAMMA BLA, SVM w/ Linear kernel, Accuracy: %.3f (%.3f)' % (mean(scores_s15_lgbla_linear), std(scores_s15_lgbla_linear)))\n"
   ]
  },
  {
   "cell_type": "markdown",
   "metadata": {},
   "source": [
    "> RBF Kernel"
   ]
  },
  {
   "cell_type": "code",
   "execution_count": 14,
   "metadata": {},
   "outputs": [
    {
     "name": "stdout",
     "output_type": "stream",
     "text": [
      "[INFO] --- 1293.4406316280365 seconds ---\n"
     ]
    }
   ],
   "source": [
    "# execute the nested cross-validation\n",
    "start_time = time.time()\n",
    "scores_s15_lgbla_rbf = cross_val_score(grid_rbf, X_s15_lgbla, y_s15_enc,\n",
    "                                       scoring='accuracy', cv=cv_outer, n_jobs=3)\n",
    "print(\"[INFO] --- %s seconds ---\" % (time.time() - start_time))\n",
    "\n"
   ]
  },
  {
   "cell_type": "code",
   "execution_count": 22,
   "metadata": {},
   "outputs": [
    {
     "name": "stdout",
     "output_type": "stream",
     "text": [
      "[INFO] LOW GAMMA BLA, SVM w/ RBF kernel, Accuracy: 0.574 (0.009)\n"
     ]
    }
   ],
   "source": [
    "print('[INFO] LOW GAMMA BLA, SVM w/ RBF kernel, Accuracy: %.3f (%.3f)' % (mean(scores_s15_lgbla_rbf), std(scores_s15_lgbla_rbf)))\n"
   ]
  },
  {
   "cell_type": "markdown",
   "metadata": {},
   "source": [
    "---"
   ]
  },
  {
   "cell_type": "markdown",
   "metadata": {},
   "source": [
    "### Low Gamma PFC"
   ]
  },
  {
   "cell_type": "code",
   "execution_count": 17,
   "metadata": {},
   "outputs": [],
   "source": [
    "# -- PFC  -- \n",
    "s5_lgpfc_data=s5_data[[\"PFC_low_gamma\",  'MouseId_E_A1', 'MouseId_E_A3', 'MouseId_E_A7', 'MouseId_E_A8',\n",
    "                   'Treatment_Post_HFD', 'Treatment_Post_removal','Treatment_Pre_HFD']] #'MouseId','Treatment']] \n",
    "s15_lgpfc_data=s15_data[[\"PFC_low_gamma\",'MouseId_E_A1', 'MouseId_E_A3', 'MouseId_E_A7', 'MouseId_E_A8',\n",
    "                   'Treatment_Post_HFD', 'Treatment_Post_removal', 'Treatment_Pre_HFD']] #'MouseId','Treatment']] \n",
    "\n",
    "X_s5_lgpfc = scaler.fit_transform(s5_lgpfc_data) # fit and transform \n",
    "X_s15_lgpfc = scaler.fit_transform(s15_lgpfc_data) # fit and transform\n",
    "\n",
    "# Making train set for Nested CV and test set for final model evaluation\n",
    "X_train_s5_lgpfc, X_test_s5_lgpfc, y_train_s5_lgpfc, y_test_s15_lgpfc = train_test_split(X_s5_lgpfc, y_s5_enc,\n",
    "                                                    train_size=0.8, \n",
    "                                                    test_size=0.2,\n",
    "                                                    random_state=1, shuffle=True)\n",
    "                                                                                         \n",
    "                                                    #stratify= y_s15_enc)\n",
    "X_train_s15_lgpfc, X_test_s15_lgpfc, y_train_s15_lgpfc, y_test_s15_lgpfc = train_test_split(X_s15_lgpfc, y_s15_enc,\n",
    "                                                    train_size=0.8, \n",
    "                                                    test_size=0.2,\n",
    "                                                    random_state=1,\n",
    "                                                    shuffle=True)"
   ]
  },
  {
   "cell_type": "markdown",
   "metadata": {},
   "source": [
    "> Linear Kernel"
   ]
  },
  {
   "cell_type": "code",
   "execution_count": 50,
   "metadata": {},
   "outputs": [
    {
     "name": "stdout",
     "output_type": "stream",
     "text": [
      "[INFO] --- 331.405663728714 seconds ---\n",
      "[INFO] --- 326.7904350757599 seconds ---\n"
     ]
    }
   ],
   "source": [
    "# execute the nested cross-validation\n",
    "start_time = time.time()\n",
    "scores_s5_lgpfc_linear = cross_val_score(grid_linear, X_train_s5_lgpfc, y_train_s5_lgpfc, scoring='accuracy', cv=cv_outer, n_jobs=3) #linear kernel\n",
    "print(\"[INFO] --- %s seconds ---\" % (time.time() - start_time))\n",
    "# execute the nested cross-validation\n",
    "start_time = time.time()\n",
    "scores_s15_lgpfc_linear = cross_val_score(grid_linear, X_train_s15_lgpfc, y_train_s15_lgpfc, scoring='accuracy', cv=cv_outer, n_jobs=3)\n",
    "print(\"[INFO] --- %s seconds ---\" % (time.time() - start_time))\n",
    "\n"
   ]
  },
  {
   "cell_type": "code",
   "execution_count": 52,
   "metadata": {},
   "outputs": [
    {
     "name": "stdout",
     "output_type": "stream",
     "text": [
      "[INFO] LOW GAMMA PFC, SVM w/ Linear kernel, Accuracy: 0.502 (0.014)\n",
      "[INFO] LOW GAMMA PFC, SVM w/ Linear kernel, Accuracy: 0.517 (0.019)\n"
     ]
    }
   ],
   "source": [
    "print('[INFO] LOW GAMMA PFC, SVM w/ Linear kernel, Accuracy: %.3f (%.3f)' % (mean(scores_s5_lgpfc_linear), std(scores_s5_lgpfc_linear)))\n",
    "print('[INFO] LOW GAMMA PFC, SVM w/ Linear kernel, Accuracy: %.3f (%.3f)' % (mean(scores_s15_lgpfc_linear), std(scores_s15_lgpfc_linear)))\n"
   ]
  },
  {
   "cell_type": "markdown",
   "metadata": {},
   "source": [
    "---"
   ]
  },
  {
   "cell_type": "code",
   "execution_count": 18,
   "metadata": {},
   "outputs": [
    {
     "name": "stdout",
     "output_type": "stream",
     "text": [
      "[INFO] --- 1304.6334519386292 seconds ---\n"
     ]
    }
   ],
   "source": [
    "# execute the nested cross-validation\n",
    "start_time = time.time()\n",
    "scores_s15_lgpfc_rbf = cross_val_score(grid_rbf, X_s15_lgpfc, y_s15_enc,\n",
    "                                       scoring='accuracy', cv=cv_outer, n_jobs=3)\n",
    "print(\"[INFO] --- %s seconds ---\" % (time.time() - start_time))\n",
    "\n"
   ]
  },
  {
   "cell_type": "code",
   "execution_count": 19,
   "metadata": {},
   "outputs": [
    {
     "name": "stdout",
     "output_type": "stream",
     "text": [
      "[INFO] LOW GAMMA PFC, SVM w/ RBF Linear kernel, Accuracy: 0.593 (0.005)\n"
     ]
    }
   ],
   "source": [
    "print('[INFO] LOW GAMMA PFC, SVM w/ RBF Linear kernel, Accuracy: %.3f (%.3f)' % (mean(scores_s15_lgpfc_rbf), std(scores_s15_lgpfc_rbf)))\n"
   ]
  },
  {
   "cell_type": "markdown",
   "metadata": {},
   "source": [
    "---"
   ]
  },
  {
   "cell_type": "markdown",
   "metadata": {},
   "source": [
    "### Low Gamma NAc"
   ]
  },
  {
   "cell_type": "code",
   "execution_count": 82,
   "metadata": {},
   "outputs": [],
   "source": [
    "# -- PFC  -- \n",
    "s5_lgnac_data=s5_data[[\"NAc_low_gamma\",  'MouseId_E_A1', 'MouseId_E_A3', 'MouseId_E_A7', 'MouseId_E_A8',\n",
    "                   'Treatment_Post_HFD', 'Treatment_Post_removal','Treatment_Pre_HFD']] #'MouseId','Treatment']] \n",
    "s15_lgnac_data=s15_data[['NAc_low_gamma','MouseId_E_A1', 'MouseId_E_A3', 'MouseId_E_A7', 'MouseId_E_A8',\n",
    "                   'Treatment_Post_HFD', 'Treatment_Post_removal', 'Treatment_Pre_HFD']] #'MouseId','Treatment']] \n",
    "\n",
    "X_s5_lgnac = scaler.fit_transform(s5_lgnac_data) # fit and transform \n",
    "X_s15_lgnac = scaler.fit_transform(s15_lgnac_data) # fit and transform\n",
    "\n",
    "# Making train set for Nested CV and test set for final model evaluation\n",
    "X_train_s5_lgnac, X_test_s5_lgnac, y_train_s5_lgnac, y_test_s5_lgnac = train_test_split(X_s5_lgnac, y_s5_enc,\n",
    "                                                    train_size=0.8, \n",
    "                                                    test_size=0.2,\n",
    "                                                    random_state=1, shuffle=True)\n",
    "                                                                                         \n",
    "                                                    #stratify= y_s15_enc)\n",
    "X_train_s15_lgnac, X_test_s15_lgnac, y_train_s15_lgnac, y_test_s15_lgnac = train_test_split(X_s15_lgnac, y_s15_enc,\n",
    "                                                    train_size=0.8, \n",
    "                                                    test_size=0.2,\n",
    "                                                    random_state=1,\n",
    "                                                    shuffle=True)"
   ]
  },
  {
   "cell_type": "markdown",
   "metadata": {},
   "source": [
    "---"
   ]
  },
  {
   "cell_type": "code",
   "execution_count": 83,
   "metadata": {},
   "outputs": [
    {
     "name": "stdout",
     "output_type": "stream",
     "text": [
      "[INFO] --- 103.69754838943481 seconds ---\n",
      "[INFO] --- 125.03266525268555 seconds ---\n"
     ]
    }
   ],
   "source": [
    "# execute the nested cross-validation\n",
    "start_time = time.time()\n",
    "scores_s5_lgnac_linear = cross_val_score(grid_linear, X_s5_lgnac, y_s5_enc, scoring='accuracy', cv=cv_outer, n_jobs=3) #linear kernel\n",
    "print(\"[INFO] --- %s seconds ---\" % (time.time() - start_time))\n",
    "# execute the nested cross-validation\n",
    "start_time = time.time()\n",
    "scores_s15_lgnac_linear = cross_val_score(grid_linear, X_s15_lgnac, y_s15_enc, scoring='accuracy', cv=cv_outer, n_jobs=3)\n",
    "print(\"[INFO] --- %s seconds ---\" % (time.time() - start_time))\n",
    "\n"
   ]
  },
  {
   "cell_type": "code",
   "execution_count": 84,
   "metadata": {},
   "outputs": [
    {
     "name": "stdout",
     "output_type": "stream",
     "text": [
      "[INFO] LOW GAMMA NAc, SVM w/ Linear kernel, Accuracy: 0.510 (0.016)\n",
      "[INFO] LOW GAMMA NAc, SVM w/ Linear kernel, Accuracy: 0.503 (0.011)\n"
     ]
    }
   ],
   "source": [
    "print('[INFO] LOW GAMMA NAc, SVM w/ Linear kernel, Accuracy: %.3f (%.3f)' % (mean(scores_s5_lgnac_linear), std(scores_s5_lgnac_linear)))\n",
    "print('[INFO] LOW GAMMA NAc, SVM w/ Linear kernel, Accuracy: %.3f (%.3f)' % (mean(scores_s15_lgnac_linear), std(scores_s15_lgnac_linear)))\n"
   ]
  },
  {
   "cell_type": "markdown",
   "metadata": {},
   "source": [
    "---"
   ]
  },
  {
   "cell_type": "code",
   "execution_count": 85,
   "metadata": {},
   "outputs": [
    {
     "name": "stdout",
     "output_type": "stream",
     "text": [
      "[INFO] --- 1288.2046506404877 seconds ---\n",
      "[INFO] --- 1341.5985696315765 seconds ---\n"
     ]
    }
   ],
   "source": [
    "# execute the nested cross-validation\n",
    "start_time = time.time()\n",
    "scores_s5_lgnac_rbf = cross_val_score(grid_rbf, X_s5_lgnac, y_s5_enc,\n",
    "                                       scoring='accuracy', cv=cv_outer, n_jobs=3)\n",
    "print(\"[INFO] --- %s seconds ---\" % (time.time() - start_time))\n",
    "\n",
    "\n",
    "# execute the nested cross-validation\n",
    "start_time = time.time()\n",
    "scores_s15_lgnac_rbf = cross_val_score(grid_rbf, X_s15_lgnac, y_s15_enc,\n",
    "                                       scoring='accuracy', cv=cv_outer, n_jobs=3)\n",
    "print(\"[INFO] --- %s seconds ---\" % (time.time() - start_time))\n",
    "\n",
    " \n",
    "    "
   ]
  },
  {
   "cell_type": "code",
   "execution_count": 86,
   "metadata": {},
   "outputs": [
    {
     "name": "stdout",
     "output_type": "stream",
     "text": [
      "[INFO] LOW GAMMA NAc, SVM w/ RBF kernel, Accuracy: 0.594 (0.005)\n",
      "[INFO] LOW GAMMA NAc, SVM w/ RBF kernel, Accuracy: 0.566 (0.010)\n"
     ]
    }
   ],
   "source": [
    "print('[INFO] LOW GAMMA NAc, SVM w/ RBF kernel, Accuracy: %.3f (%.3f)' % (mean(scores_s5_lgnac_rbf), std(scores_s5_lgnac_rbf)))\n",
    "\n",
    "print('[INFO] LOW GAMMA NAc, SVM w/ RBF kernel, Accuracy: %.3f (%.3f)' % (mean(scores_s15_lgnac_rbf), std(scores_s15_lgnac_rbf)))\n"
   ]
  },
  {
   "cell_type": "markdown",
   "metadata": {},
   "source": [
    "---"
   ]
  },
  {
   "cell_type": "markdown",
   "metadata": {},
   "source": [
    "### Low Gamma vHip"
   ]
  },
  {
   "cell_type": "code",
   "execution_count": 27,
   "metadata": {},
   "outputs": [],
   "source": [
    "# -- PFC  -- \n",
    "s5_lghip_data=s5_data[['vHip_low_gamma' ,  'MouseId_E_A1', 'MouseId_E_A3', 'MouseId_E_A7', 'MouseId_E_A8',\n",
    "                   'Treatment_Post_HFD', 'Treatment_Post_removal','Treatment_Pre_HFD']] #'MouseId','Treatment']] \n",
    "s15_lghip_data=s15_data[['vHip_low_gamma' ,'MouseId_E_A1', 'MouseId_E_A3', 'MouseId_E_A7', 'MouseId_E_A8',\n",
    "                   'Treatment_Post_HFD', 'Treatment_Post_removal', 'Treatment_Pre_HFD']] #'MouseId','Treatment']] \n",
    "\n",
    "X_s5_lghip = scaler.fit_transform(s5_lghip_data) # fit and transform \n",
    "X_s15_lghip = scaler.fit_transform(s15_lghip_data) # fit and transform\n",
    "\n",
    "# Making train set for Nested CV and test set for final model evaluation\n",
    "X_train_s5_lghip, X_test_s5_lghip, y_train_s5_lghip, y_test_s5_lghip = train_test_split(X_s5_lghip, y_s5_enc,\n",
    "                                                    train_size=0.8, \n",
    "                                                    test_size=0.2,\n",
    "                                                    random_state=1, shuffle=True)\n",
    "                                                                                         \n",
    "                                                    #stratify= y_s15_enc)\n",
    "X_train_s15_lghip, X_test_s15_lghip, y_train_s15_lghip, y_test_s15_lghip = train_test_split(X_s15_lghip, y_s15_enc,\n",
    "                                                    train_size=0.8, \n",
    "                                                    test_size=0.2,\n",
    "                                                    random_state=1,\n",
    "                                                    shuffle=True)"
   ]
  },
  {
   "cell_type": "markdown",
   "metadata": {},
   "source": [
    "---"
   ]
  },
  {
   "cell_type": "code",
   "execution_count": 67,
   "metadata": {},
   "outputs": [
    {
     "name": "stdout",
     "output_type": "stream",
     "text": [
      "[INFO] --- 136.87305545806885 seconds ---\n",
      "[INFO] --- 132.66495084762573 seconds ---\n"
     ]
    }
   ],
   "source": [
    "# execute the nested cross-validation\n",
    "start_time = time.time()\n",
    "scores_s5_lghip_linear = cross_val_score(grid_linear, X_train_s5_lghip, y_train_s5_lghip, scoring='accuracy', cv=cv_outer, n_jobs=3) #linear kernel\n",
    "print(\"[INFO] --- %s seconds ---\" % (time.time() - start_time))\n",
    "# execute the nested cross-validation\n",
    "start_time = time.time()\n",
    "scores_s15_lghip_linear = cross_val_score(grid_linear, X_train_s15_lghip, y_train_s15_lghip, scoring='accuracy', cv=cv_outer, n_jobs=3)\n",
    "print(\"[INFO] --- %s seconds ---\" % (time.time() - start_time))\n",
    "\n"
   ]
  },
  {
   "cell_type": "code",
   "execution_count": 68,
   "metadata": {},
   "outputs": [
    {
     "name": "stdout",
     "output_type": "stream",
     "text": [
      "[INFO] LOW GAMMA vHIP, SVM w/ Linear kernel, Accuracy: 0.499 (0.010)\n",
      "[INFO] LOW GAMMA vHIP, SVM w/ Linear kernel, Accuracy: 0.499 (0.013)\n"
     ]
    }
   ],
   "source": [
    "print('[INFO] LOW GAMMA vHIP, SVM w/ Linear kernel, Accuracy: %.3f (%.3f)' % (mean(scores_s5_lghip_linear), std(scores_s5_lghip_linear)))\n",
    "print('[INFO] LOW GAMMA vHIP, SVM w/ Linear kernel, Accuracy: %.3f (%.3f)' % (mean(scores_s15_lghip_linear), std(scores_s15_lghip_linear)))\n"
   ]
  },
  {
   "cell_type": "code",
   "execution_count": 28,
   "metadata": {},
   "outputs": [
    {
     "name": "stdout",
     "output_type": "stream",
     "text": [
      "[INFO] --- 1297.61492061615 seconds ---\n"
     ]
    }
   ],
   "source": [
    "# execute the nested cross-validation\n",
    "start_time = time.time()\n",
    "scores_s15_lghip_rbf = cross_val_score(grid_rbf, X_s15_lghip, y_s15_enc,\n",
    "                                       scoring='accuracy', cv=cv_outer, n_jobs=3)\n",
    "print(\"[INFO] --- %s seconds ---\" % (time.time() - start_time))\n",
    "\n"
   ]
  },
  {
   "cell_type": "code",
   "execution_count": 29,
   "metadata": {},
   "outputs": [
    {
     "name": "stdout",
     "output_type": "stream",
     "text": [
      "[INFO] LOW GAMMA vHIP, SVM w/ RBF kernel, Accuracy: 0.548 (0.007)\n"
     ]
    }
   ],
   "source": [
    "print('[INFO] LOW GAMMA vHIP, SVM w/ RBF kernel, Accuracy: %.3f (%.3f)' % (mean(scores_s15_lghip_rbf), std(scores_s15_lghip_rbf)))\n"
   ]
  },
  {
   "cell_type": "markdown",
   "metadata": {},
   "source": [
    "---"
   ]
  },
  {
   "cell_type": "markdown",
   "metadata": {},
   "source": [
    "## Results"
   ]
  },
  {
   "cell_type": "code",
   "execution_count": 31,
   "metadata": {},
   "outputs": [
    {
     "name": "stdout",
     "output_type": "stream",
     "text": [
      "[INFO] LOW GAMMA BLA, SVM w/ RBF kernel, Accuracy: 0.574 (0.009)\n",
      "[INFO] LOW GAMMA PFC, SVM w/ RBF  kernel, Accuracy: 0.593 (0.005)\n",
      "[INFO] LOW GAMMA NAc, SVM w/ RBF kernel, Accuracy: 0.566 (0.010)\n",
      "[INFO] LOW GAMMA vHIP, SVM w/ RBF kernel, Accuracy: 0.548 (0.007)\n"
     ]
    }
   ],
   "source": [
    "\n",
    "print('[INFO] LOW GAMMA BLA, SVM w/ RBF kernel, Accuracy: %.3f (%.3f)' % (mean(scores_s15_lgbla_rbf), std(scores_s15_lgbla_rbf)))\n",
    "print('[INFO] LOW GAMMA PFC, SVM w/ RBF  kernel, Accuracy: %.3f (%.3f)' % (mean(scores_s15_lgpfc_rbf), std(scores_s15_lgpfc_rbf)))\n",
    "print('[INFO] LOW GAMMA NAc, SVM w/ RBF kernel, Accuracy: %.3f (%.3f)' % (mean(scores_s15_lgnac_rbf), std(scores_s15_lgnac_rbf)))\n",
    "print('[INFO] LOW GAMMA vHIP, SVM w/ RBF kernel, Accuracy: %.3f (%.3f)' % (mean(scores_s15_lghip_rbf), std(scores_s15_lghip_rbf)))\n"
   ]
  },
  {
   "cell_type": "markdown",
   "metadata": {},
   "source": [
    "---"
   ]
  },
  {
   "cell_type": "markdown",
   "metadata": {},
   "source": [
    "## Theta"
   ]
  },
  {
   "cell_type": "markdown",
   "metadata": {},
   "source": [
    "> BLA"
   ]
  },
  {
   "cell_type": "code",
   "execution_count": 39,
   "metadata": {},
   "outputs": [],
   "source": [
    "# -- BlA  -- \n",
    "s5_tbla_data=s5_data[[\"BLA_theta\",  'MouseId_E_A1', 'MouseId_E_A3', 'MouseId_E_A7', 'MouseId_E_A8',\n",
    "                   'Treatment_Post_HFD', 'Treatment_Post_removal','Treatment_Pre_HFD']] #'MouseId','Treatment']] \n",
    "s15_tbla_data=s15_data[[\"BLA_theta\",'MouseId_E_A1', 'MouseId_E_A3', 'MouseId_E_A7', 'MouseId_E_A8',\n",
    "                   'Treatment_Post_HFD', 'Treatment_Post_removal', 'Treatment_Pre_HFD']] #'MouseId','Treatment']] \n",
    "\n",
    "X_s5_tbla = scaler.fit_transform(s5_tbla_data) # fit and transform \n",
    "X_s15_tbla = scaler.fit_transform(s15_tbla_data) # fit and transform"
   ]
  },
  {
   "cell_type": "code",
   "execution_count": 41,
   "metadata": {},
   "outputs": [
    {
     "name": "stdout",
     "output_type": "stream",
     "text": [
      "[INFO] --- 116.67990565299988 seconds ---\n"
     ]
    }
   ],
   "source": [
    "# execute the nested cross-validation\n",
    "start_time = time.time()\n",
    "scores_s5_tbla_linear = cross_val_score(grid_linear, X_s5_tbla, y_s5_enc, scoring='accuracy', cv=cv_outer, n_jobs=3) #linear kernel\n",
    "print(\"[INFO] --- %s seconds ---\" % (time.time() - start_time))\n",
    "\n"
   ]
  },
  {
   "cell_type": "code",
   "execution_count": 43,
   "metadata": {},
   "outputs": [
    {
     "name": "stdout",
     "output_type": "stream",
     "text": [
      "[INFO] THETA BLA, SVM w/ Linear kernel, Accuracy: 0.525 (0.007)\n"
     ]
    }
   ],
   "source": [
    "print('[INFO] THETA BLA, SVM w/ Linear kernel, Accuracy: %.3f (%.3f)' % (mean(scores_s5_tbla_linear), std(scores_s5_tbla_linear)))\n"
   ]
  },
  {
   "cell_type": "code",
   "execution_count": 42,
   "metadata": {},
   "outputs": [
    {
     "name": "stdout",
     "output_type": "stream",
     "text": [
      "[INFO]--- 114.26261329650879 seconds ---\n"
     ]
    }
   ],
   "source": [
    "# execute the nested cross-validation\n",
    "start_time = time.time()\n",
    "scores_s15_tbla_linear = cross_val_score(grid_linear, X_s15_tbla, y_s15_enc, scoring='accuracy', cv=cv_outer, n_jobs=3)\n",
    "print(\"[INFO]--- %s seconds ---\" % (time.time() - start_time))\n"
   ]
  },
  {
   "cell_type": "code",
   "execution_count": 44,
   "metadata": {},
   "outputs": [
    {
     "name": "stdout",
     "output_type": "stream",
     "text": [
      "[INFO] THETA BLA, SVM w/ Linear kernel, Accuracy: 0.551 (0.012)\n"
     ]
    }
   ],
   "source": [
    "print('[INFO] THETA BLA, SVM w/ Linear kernel, Accuracy: %.3f (%.3f)' % (mean(scores_s15_tbla_linear), std(scores_s15_tbla_linear)))\n"
   ]
  },
  {
   "cell_type": "code",
   "execution_count": 45,
   "metadata": {},
   "outputs": [
    {
     "name": "stdout",
     "output_type": "stream",
     "text": [
      "[INFO] --- 1351.4043354988098 seconds ---\n"
     ]
    }
   ],
   "source": [
    "# execute the nested cross-validation\n",
    "start_time = time.time()\n",
    "scores_s15_tbla_rbf = cross_val_score(grid_rbf, X_s15_tbla, y_s15_enc,\n",
    "                                       scoring='accuracy', cv=cv_outer, n_jobs=3)\n",
    "print(\"[INFO] --- %s seconds ---\" % (time.time() - start_time))\n",
    "\n"
   ]
  },
  {
   "cell_type": "code",
   "execution_count": 46,
   "metadata": {},
   "outputs": [
    {
     "name": "stdout",
     "output_type": "stream",
     "text": [
      "[INFO] LOW GAMMA BLA, SVM w/ RBF kernel, Accuracy: 0.577 (0.008)\n"
     ]
    }
   ],
   "source": [
    "print('[INFO] LOW GAMMA BLA, SVM w/ RBF kernel, Accuracy: %.3f (%.3f)' % (mean(scores_s15_tbla_rbf), std(scores_s15_tbla_rbf)))\n"
   ]
  },
  {
   "cell_type": "markdown",
   "metadata": {},
   "source": [
    "> PFC"
   ]
  },
  {
   "cell_type": "code",
   "execution_count": 48,
   "metadata": {},
   "outputs": [],
   "source": [
    "# -- PFC  -- \n",
    "s5_tpfc_data=s5_data[[\"PFC_theta\",  'MouseId_E_A1', 'MouseId_E_A3', 'MouseId_E_A7', 'MouseId_E_A8',\n",
    "                   'Treatment_Post_HFD', 'Treatment_Post_removal','Treatment_Pre_HFD']] #'MouseId','Treatment']] \n",
    "s15_tpfc_data=s15_data[[\"PFC_theta\",'MouseId_E_A1', 'MouseId_E_A3', 'MouseId_E_A7', 'MouseId_E_A8',\n",
    "                   'Treatment_Post_HFD', 'Treatment_Post_removal', 'Treatment_Pre_HFD']] #'MouseId','Treatment']] \n",
    "\n",
    "X_s5_tpfc = scaler.fit_transform(s5_tpfc_data) # fit and transform \n",
    "X_s15_tpfc = scaler.fit_transform(s15_tpfc_data) # fit and transform\n"
   ]
  },
  {
   "cell_type": "code",
   "execution_count": 49,
   "metadata": {},
   "outputs": [
    {
     "name": "stdout",
     "output_type": "stream",
     "text": [
      "[INFO] --- 114.07128810882568 seconds ---\n"
     ]
    }
   ],
   "source": [
    "# execute the nested cross-validation\n",
    "start_time = time.time()\n",
    "scores_s5_tpfc_linear = cross_val_score(grid_linear, X_s5_tpfc, y_s5_enc, scoring='accuracy', cv=cv_outer, n_jobs=3) #linear kernel\n",
    "print(\"[INFO] --- %s seconds ---\" % (time.time() - start_time))\n",
    "\n"
   ]
  },
  {
   "cell_type": "code",
   "execution_count": 53,
   "metadata": {},
   "outputs": [
    {
     "name": "stdout",
     "output_type": "stream",
     "text": [
      "[INFO] THETA PFC, SVM w/ Linear kernel, Accuracy: 0.501 (0.014)\n"
     ]
    }
   ],
   "source": [
    "print('[INFO] THETA PFC, SVM w/ Linear kernel, Accuracy: %.3f (%.3f)' % (mean(scores_s5_tpfc_linear), std(scores_s5_tpfc_linear)))\n"
   ]
  },
  {
   "cell_type": "code",
   "execution_count": 51,
   "metadata": {},
   "outputs": [
    {
     "name": "stdout",
     "output_type": "stream",
     "text": [
      "[INFO] --- 132.5967309474945 seconds ---\n"
     ]
    }
   ],
   "source": [
    "# execute the nested cross-validation\n",
    "start_time = time.time()\n",
    "scores_s15_tpfc_linear = cross_val_score(grid_linear, X_s15_tpfc, y_s15_enc, scoring='accuracy', cv=cv_outer, n_jobs=3) #linear kernel\n",
    "print(\"[INFO] --- %s seconds ---\" % (time.time() - start_time))\n",
    "\n"
   ]
  },
  {
   "cell_type": "code",
   "execution_count": 54,
   "metadata": {},
   "outputs": [
    {
     "name": "stdout",
     "output_type": "stream",
     "text": [
      "[INFO] THETA PFC, SVM w/ Linear kernel, Accuracy: 0.518 (0.012)\n"
     ]
    }
   ],
   "source": [
    "print('[INFO] THETA PFC, SVM w/ Linear kernel, Accuracy: %.3f (%.3f)' % (mean(scores_s15_tpfc_linear), std(scores_s15_tpfc_linear)))\n"
   ]
  },
  {
   "cell_type": "code",
   "execution_count": 55,
   "metadata": {},
   "outputs": [
    {
     "name": "stdout",
     "output_type": "stream",
     "text": [
      "[INFO] --- 1297.7306368350983 seconds ---\n"
     ]
    }
   ],
   "source": [
    "# execute the nested cross-validation\n",
    "start_time = time.time()\n",
    "scores_s15_tpfc_rbf = cross_val_score(grid_rbf, X_s15_tpfc, y_s15_enc,\n",
    "                                       scoring='accuracy', cv=cv_outer, n_jobs=3)\n",
    "print(\"[INFO] --- %s seconds ---\" % (time.time() - start_time))\n",
    "\n"
   ]
  },
  {
   "cell_type": "code",
   "execution_count": 56,
   "metadata": {},
   "outputs": [
    {
     "name": "stdout",
     "output_type": "stream",
     "text": [
      "[INFO]  THETA PFC, SVM w/ RBF kernel, Accuracy: 0.564 (0.012)\n"
     ]
    }
   ],
   "source": [
    "print('[INFO]  THETA PFC, SVM w/ RBF kernel, Accuracy: %.3f (%.3f)' % (mean(scores_s15_tpfc_rbf), std(scores_s15_tpfc_rbf)))\n"
   ]
  },
  {
   "cell_type": "markdown",
   "metadata": {},
   "source": [
    "> NAc"
   ]
  },
  {
   "cell_type": "code",
   "execution_count": 95,
   "metadata": {},
   "outputs": [],
   "source": [
    "# -- PFC  -- \n",
    "s5_tnac_data=s5_data[[\"NAc_theta\",  'MouseId_E_A1', 'MouseId_E_A3', 'MouseId_E_A7', 'MouseId_E_A8',\n",
    "                   'Treatment_Post_HFD', 'Treatment_Post_removal','Treatment_Pre_HFD']] #'MouseId','Treatment']] \n",
    "s15_tnac_data=s15_data[['NAc_theta','MouseId_E_A1', 'MouseId_E_A3', 'MouseId_E_A7', 'MouseId_E_A8',\n",
    "                   'Treatment_Post_HFD', 'Treatment_Post_removal', 'Treatment_Pre_HFD']] #'MouseId','Treatment']] \n",
    "\n",
    "X_s5_tnac = scaler.fit_transform(s5_tnac_data) # fit and transform \n",
    "X_s15_tnac = scaler.fit_transform(s15_tnac_data) # fit and transform\n",
    "\n"
   ]
  },
  {
   "cell_type": "code",
   "execution_count": 96,
   "metadata": {},
   "outputs": [
    {
     "name": "stdout",
     "output_type": "stream",
     "text": [
      "[INFO] --- 104.51562666893005 seconds ---\n"
     ]
    }
   ],
   "source": [
    "# execute the nested cross-validation\n",
    "start_time = time.time()\n",
    "scores_s5_tnac_linear = cross_val_score(grid_linear, X_s5_tnac, y_s5_enc, scoring='accuracy', cv=cv_outer, n_jobs=3) #linear kernel\n",
    "print(\"[INFO] --- %s seconds ---\" % (time.time() - start_time))\n",
    "\n"
   ]
  },
  {
   "cell_type": "code",
   "execution_count": 61,
   "metadata": {},
   "outputs": [
    {
     "name": "stdout",
     "output_type": "stream",
     "text": [
      "[INFO] THETA NAc, SVM w/ Linear kernel, Accuracy: 0.502 (0.010)\n"
     ]
    }
   ],
   "source": [
    "print('[INFO] THETA NAc, SVM w/ Linear kernel, Accuracy: %.3f (%.3f)' % (mean(scores_s5_tnac_linear), std(scores_s5_tnac_linear)))\n"
   ]
  },
  {
   "cell_type": "code",
   "execution_count": 60,
   "metadata": {},
   "outputs": [
    {
     "name": "stdout",
     "output_type": "stream",
     "text": [
      "[INFO] --- 131.8620662689209 seconds ---\n"
     ]
    }
   ],
   "source": [
    "# execute the nested cross-validation\n",
    "start_time = time.time()\n",
    "scores_s15_tnac_linear = cross_val_score(grid_linear, X_s15_tnac, y_s15_enc, scoring='accuracy', cv=cv_outer, n_jobs=3) #linear kernel\n",
    "print(\"[INFO] --- %s seconds ---\" % (time.time() - start_time))\n",
    "\n"
   ]
  },
  {
   "cell_type": "code",
   "execution_count": 62,
   "metadata": {},
   "outputs": [
    {
     "name": "stdout",
     "output_type": "stream",
     "text": [
      "[INFO] THETA NAc, SVM w/ Linear kernel, Accuracy: 0.507 (0.014)\n"
     ]
    }
   ],
   "source": [
    "print('[INFO] THETA NAc, SVM w/ Linear kernel, Accuracy: %.3f (%.3f)' % (mean(scores_s15_tnac_linear), std(scores_s15_tnac_linear)))\n"
   ]
  },
  {
   "cell_type": "code",
   "execution_count": 63,
   "metadata": {},
   "outputs": [
    {
     "name": "stdout",
     "output_type": "stream",
     "text": [
      "[INFO] --- 1364.2642827033997 seconds ---\n"
     ]
    }
   ],
   "source": [
    "# execute the nested cross-validation\n",
    "start_time = time.time()\n",
    "scores_s15_tnac_rbf = cross_val_score(grid_rbf, X_s15_tnac, y_s15_enc,\n",
    "                                       scoring='accuracy', cv=cv_outer, n_jobs=3)\n",
    "print(\"[INFO] --- %s seconds ---\" % (time.time() - start_time))\n",
    "\n"
   ]
  },
  {
   "cell_type": "code",
   "execution_count": 64,
   "metadata": {},
   "outputs": [
    {
     "name": "stdout",
     "output_type": "stream",
     "text": [
      "[INFO]  THETA NAc, SVM w/ RBF kernel, Accuracy: 0.550 (0.010)\n"
     ]
    }
   ],
   "source": [
    "print('[INFO]  THETA NAc, SVM w/ RBF kernel, Accuracy: %.3f (%.3f)' % (mean(scores_s15_tnac_rbf), std(scores_s15_tnac_rbf)))\n"
   ]
  },
  {
   "cell_type": "code",
   "execution_count": 97,
   "metadata": {},
   "outputs": [
    {
     "name": "stdout",
     "output_type": "stream",
     "text": [
      "[INFO] --- 1316.278060913086 seconds ---\n"
     ]
    }
   ],
   "source": [
    "# execute the nested cross-validation\n",
    "start_time = time.time()\n",
    "scores_s5_tnac_rbf = cross_val_score(grid_rbf, X_s5_tnac, y_s5_enc,\n",
    "                                       scoring='accuracy', cv=cv_outer, n_jobs=3)\n",
    "print(\"[INFO] --- %s seconds ---\" % (time.time() - start_time))\n",
    "\n"
   ]
  },
  {
   "cell_type": "code",
   "execution_count": 101,
   "metadata": {},
   "outputs": [
    {
     "name": "stdout",
     "output_type": "stream",
     "text": [
      "[INFO]  THETA NAc, SVM w/ RBF kernel, Accuracy: 0.566 (0.008)\n"
     ]
    }
   ],
   "source": [
    "print('[INFO]  THETA NAc, SVM w/ RBF kernel, Accuracy: %.3f (%.3f)' % (mean(scores_s5_tnac_rbf), std(scores_s5_tnac_rbf)))\n"
   ]
  },
  {
   "cell_type": "markdown",
   "metadata": {},
   "source": [
    "> vHip"
   ]
  },
  {
   "cell_type": "code",
   "execution_count": 65,
   "metadata": {},
   "outputs": [],
   "source": [
    "# -- PFC  -- \n",
    "s5_thip_data=s5_data[['vHip_theta' ,  'MouseId_E_A1', 'MouseId_E_A3', 'MouseId_E_A7', 'MouseId_E_A8',\n",
    "                   'Treatment_Post_HFD', 'Treatment_Post_removal','Treatment_Pre_HFD']] #'MouseId','Treatment']] \n",
    "s15_thip_data=s15_data[['vHip_theta' ,'MouseId_E_A1', 'MouseId_E_A3', 'MouseId_E_A7', 'MouseId_E_A8',\n",
    "                   'Treatment_Post_HFD', 'Treatment_Post_removal', 'Treatment_Pre_HFD']] #'MouseId','Treatment']] \n",
    "\n",
    "X_s5_thip = scaler.fit_transform(s5_thip_data) # fit and transform \n",
    "X_s15_thip = scaler.fit_transform(s15_thip_data) # fit and transform"
   ]
  },
  {
   "cell_type": "code",
   "execution_count": 66,
   "metadata": {},
   "outputs": [
    {
     "name": "stdout",
     "output_type": "stream",
     "text": [
      "[INFO] --- 119.55910277366638 seconds ---\n"
     ]
    }
   ],
   "source": [
    "# execute the nested cross-validation\n",
    "start_time = time.time()\n",
    "scores_s5_thip_linear = cross_val_score(grid_linear, X_s5_thip, y_s5_enc, scoring='accuracy', cv=cv_outer, n_jobs=3) #linear kernel\n",
    "print(\"[INFO] --- %s seconds ---\" % (time.time() - start_time))\n",
    "\n"
   ]
  },
  {
   "cell_type": "code",
   "execution_count": 69,
   "metadata": {},
   "outputs": [
    {
     "name": "stdout",
     "output_type": "stream",
     "text": [
      "[INFO] THETA vHip, SVM w/ Linear kernel, Accuracy: 0.502 (0.005)\n"
     ]
    }
   ],
   "source": [
    "print('[INFO] THETA vHip, SVM w/ Linear kernel, Accuracy: %.3f (%.3f)' % (mean(scores_s5_thip_linear), std(scores_s5_thip_linear)))\n"
   ]
  },
  {
   "cell_type": "code",
   "execution_count": 67,
   "metadata": {},
   "outputs": [
    {
     "name": "stdout",
     "output_type": "stream",
     "text": [
      "[INFO] --- 126.90511131286621 seconds ---\n"
     ]
    }
   ],
   "source": [
    "# execute the nested cross-validation\n",
    "start_time = time.time()\n",
    "scores_s15_thip_linear = cross_val_score(grid_linear, X_s15_thip, y_s15_enc, scoring='accuracy', cv=cv_outer, n_jobs=3) #linear kernel\n",
    "print(\"[INFO] --- %s seconds ---\" % (time.time() - start_time))\n",
    "\n"
   ]
  },
  {
   "cell_type": "code",
   "execution_count": 68,
   "metadata": {},
   "outputs": [
    {
     "name": "stdout",
     "output_type": "stream",
     "text": [
      "[INFO] THETA vHip, SVM w/ Linear kernel, Accuracy: 0.493 (0.007)\n"
     ]
    }
   ],
   "source": [
    "print('[INFO] THETA vHip, SVM w/ Linear kernel, Accuracy: %.3f (%.3f)' % (mean(scores_s15_thip_linear), std(scores_s15_thip_linear)))\n"
   ]
  },
  {
   "cell_type": "code",
   "execution_count": 70,
   "metadata": {},
   "outputs": [
    {
     "name": "stdout",
     "output_type": "stream",
     "text": [
      "[INFO] --- 1559.5259630680084 seconds ---\n"
     ]
    }
   ],
   "source": [
    "# execute the nested cross-validation\n",
    "start_time = time.time()\n",
    "scores_s15_thip_rbf = cross_val_score(grid_rbf, X_s15_thip, y_s15_enc,  scoring='accuracy', cv=cv_outer, n_jobs=3)\n",
    "print(\"[INFO] --- %s seconds ---\" % (time.time() - start_time))\n",
    "\n"
   ]
  },
  {
   "cell_type": "code",
   "execution_count": 71,
   "metadata": {},
   "outputs": [
    {
     "name": "stdout",
     "output_type": "stream",
     "text": [
      "[INFO]  THETA NAc, SVM w/ RBF kernel, Accuracy: 0.559 (0.007)\n"
     ]
    }
   ],
   "source": [
    "print('[INFO]  THETA NAc, SVM w/ RBF kernel, Accuracy: %.3f (%.3f)' % (mean(scores_s15_thip_rbf), std(scores_s15_thip_rbf)))\n"
   ]
  },
  {
   "cell_type": "markdown",
   "metadata": {},
   "source": [
    "---"
   ]
  }
 ],
 "metadata": {
  "kernelspec": {
   "display_name": "Python 3",
   "language": "python",
   "name": "python3"
  },
  "language_info": {
   "codemirror_mode": {
    "name": "ipython",
    "version": 3
   },
   "file_extension": ".py",
   "mimetype": "text/x-python",
   "name": "python",
   "nbconvert_exporter": "python",
   "pygments_lexer": "ipython3",
   "version": "3.8.5"
  }
 },
 "nbformat": 4,
 "nbformat_minor": 4
}
