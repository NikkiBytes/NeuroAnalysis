{
 "cells": [
  {
   "cell_type": "code",
   "execution_count": null,
   "metadata": {},
   "outputs": [],
   "source": [
    "#this imports all the commands needed for the script to work#\n",
    "import os\n",
    "import numpy as np\n",
    "import nilearn\n",
    "import glob\n",
    "#import matplotlib\n",
    "import nibabel as nib\n",
    "import pandas as pd \n",
    "from nilearn.input_data import NiftiMasker \n",
    "import numpy as np\n",
    "np.seterr(divide='ignore', invalid='ignore')\n",
    "import warnings\n",
    "warnings.filterwarnings(\"ignore\")\n",
    "import matplotlib\n",
    "matplotlib.use('Agg')"
   ]
  },
  {
   "cell_type": "markdown",
   "metadata": {},
   "source": [
    "### Load Data | Subject Count: 48"
   ]
  },
  {
   "cell_type": "code",
   "execution_count": null,
   "metadata": {},
   "outputs": [],
   "source": [
    "#image mask\n",
    "imag_mask='/projects/niblab/bids_projects/Experiments/ChocoData/images/power_roimask_4bi.nii.gz'\n",
    "#our behavioral csv file \n",
    "stim = '/projects/niblab/bids_projects/Experiments/ChocoData/behavorial_data/w1_milkshake_100.csv'\n",
    "#our dataset concatenated image \n",
    "dataset='/projects/niblab/bids_projects/Experiments/ChocoData/images/w1_milkshake_100.nii.gz'\n",
    "#load behavioral data into a pandas df\n",
    "behavioral = pd.read_csv(stim, sep=\"\\t\")\n",
    "#grab conditional labels  \n",
    "y = behavioral[\"Label\"]\n",
    "session = behavioral[\"sess\"]"
   ]
  },
  {
   "cell_type": "code",
   "execution_count": null,
   "metadata": {},
   "outputs": [],
   "source": [
    "# look at unique labels and to see if we want to remove uninteresting ones\n",
    "print(y.unique())"
   ]
  },
  {
   "cell_type": "markdown",
   "metadata": {},
   "source": [
    "['rest' 'milkshake_pic' 'LF_HS_receipt' 'rinse' 'HF_HS_receipt'\n",
    " 'LF_LS_receipt' 'h20_pic' 'h20_receipt' 'HF_LS_receipt']"
   ]
  },
  {
   "cell_type": "code",
   "execution_count": null,
   "metadata": {},
   "outputs": [],
   "source": [
    "#remove rest \n",
    "non_rest = (y != 'rest')\n",
    "y = y[non_rest]\n",
    "#verify rest is out\n",
    "print(y.unique())\n"
   ]
  },
  {
   "cell_type": "markdown",
   "metadata": {},
   "source": [
    "['milkshake_pic' 'LF_HS_receipt' 'rinse' 'HF_HS_receipt' 'LF_LS_receipt'\n",
    " 'h20_pic' 'h20_receipt' 'HF_LS_receipt']"
   ]
  },
  {
   "cell_type": "code",
   "execution_count": null,
   "metadata": {},
   "outputs": [],
   "source": [
    "# Get labels of the numerical conditions represented by the y vector \n",
    "unique_conditions, order = np.unique(y, return_index=True)\n",
    "# Sort the conditions by order of appearance\n",
    "unique_conditions = unique_conditions[np.argsort(order)]"
   ]
  },
  {
   "cell_type": "code",
   "execution_count": null,
   "metadata": {},
   "outputs": [],
   "source": [
    "# Prep data\n",
    "from sklearn.preprocessing import Imputer\n",
    "masker = NiftiMasker(mask_img=imag_mask, standardize=True, memory=\"nilearn_cache\", sessions=session, memory_level=1)\n",
    "X = masker.fit_transform(dataset)\n",
    "\n",
    "\n",
    "imputer = Imputer(missing_values=\"NaN\", strategy=\"mean\", axis=0)\n",
    "imputer = imputer.fit(X)\n",
    "X = imputer.transform(X)\n",
    "\n",
    "X = X[non_rest]\n",
    "session=session[non_rest]\n"
   ]
  },
  {
   "cell_type": "code",
   "execution_count": null,
   "metadata": {},
   "outputs": [],
   "source": [
    "from sklearn.svm import SVC\n",
    "from sklearn.feature_selection import SelectKBest, f_classif\n",
    "from sklearn.multiclass import OneVsOneClassifier, OneVsRestClassifier\n",
    "from sklearn.pipeline import Pipeline\n",
    "\n",
    "svc_ovo = OneVsOneClassifier(Pipeline([\n",
    "    ('anova', SelectKBest(f_classif, k=500)),\n",
    "    ('svc', SVC(kernel='linear'))\n",
    "]), n_jobs=4)\n",
    "\n",
    "svc_ova = OneVsRestClassifier(Pipeline([\n",
    "    ('anova', SelectKBest(f_classif, k=500)),\n",
    "    ('svc', SVC(kernel='linear'))\n",
    "]), n_jobs=4)"
   ]
  },
  {
   "cell_type": "code",
   "execution_count": null,
   "metadata": {},
   "outputs": [],
   "source": [
    "from sklearn.model_selection import cross_val_score\n",
    "\n",
    "cv_scores_ovo = cross_val_score(svc_ovo, X, y, cv=5, verbose=1)\n",
    "\n",
    "cv_scores_ova = cross_val_score(svc_ova, X, y, cv=5, verbose=1)\n",
    "\n",
    "print('OvO:', cv_scores_ovo.mean())\n",
    "print('OvA:', cv_scores_ova.mean())\n",
    "stringA = 'OvO:', cv_scores_ovo.mean()\n",
    "stringB = 'OvA:', cv_scores_ova.mean()\n",
    "fileout = open(\"/projects/niblab/bids_projects/Experiments/ChocoData/multi_class_strats_milk.txt\", \"a\")\n",
    "fileout.write(stringA)\n",
    "fileout.write(stringB)\n"
   ]
  },
  {
   "cell_type": "code",
   "execution_count": null,
   "metadata": {},
   "outputs": [],
   "source": [
    "from matplotlib import pyplot as plt\n",
    "display = plt.figure(figsize=(4,3))\n",
    "display = plt.boxplot([cv_scores_ova, cv_scores_ovo])\n",
    "display = plt.xticks([1,2], [\"Onve vs All\", \"One vs One\"])\n",
    "display = plt.title(\"Prediction:Accuracy score\")\n",
    "display.savefig(\"/projects/niblab/bids_projects/Experiments/ChocoData/multi_class_milk.png\")\n"
   ]
  },
  {
   "cell_type": "code",
   "execution_count": null,
   "metadata": {},
   "outputs": [],
   "source": [
    "from sklearn.metrics import confusion_matrix\n",
    "from nilearn.plotting import plot_matrix\n",
    "\n",
    "svc.ovo.fit(X[session < 1], y[session < 1])\n",
    "y_pred_ovo = svc.ovo = svc.ovo.predict(X[session == 1])\n",
    "\n",
    "matrix1 =plot_matrix(confusion_matrix(y_pred_ovo, y[session==1]),\n",
    "            label=unique_conditions,\n",
    "            title=\"Confusion matrix: One vs. One\", cmap=\"hot_r\")\n",
    "\n",
    "svc.ova.fit(X[session < 1], y[session < 1])\n",
    "y_pred_ova = svc.ova = svc.ova.predict(X[session == 1])\n",
    "\n",
    "matrix2 =plot_matrix(confusion_matrix(y_pred_ova, y[session==1]),\n",
    "            label=unique_conditions,\n",
    "            title=\"Confusion matrix: One vs. All\", cmap=\"hot_r\")\n",
    "\n",
    "matrix1.savefig(\"/projects/niblab/bids_projects/Experiments/ChocoData/one_v_one_matrix.png\")\n",
    "matrix2.savefig(\"/projects/niblab/bids_projects/Experiments/ChocoData/one_v_all_matrix.png\")"
   ]
  }
 ],
 "metadata": {
  "kernelspec": {
   "display_name": "Python 3",
   "language": "python",
   "name": "python3"
  },
  "language_info": {
   "codemirror_mode": {
    "name": "ipython",
    "version": 3
   },
   "file_extension": ".py",
   "mimetype": "text/x-python",
   "name": "python",
   "nbconvert_exporter": "python",
   "pygments_lexer": "ipython3",
   "version": "3.6.7"
  }
 },
 "nbformat": 4,
 "nbformat_minor": 2
}
