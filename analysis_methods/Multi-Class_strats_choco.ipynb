{
 "cells": [
  {
   "cell_type": "markdown",
   "metadata": {},
   "source": [
    "# The Chocolate dataset: Different multi-class \n",
    "https://nilearn.github.io/auto_examples/02_decoding/plot_haxby_multiclass.html#sphx-glr-auto-examples-02-decoding-plot-haxby-multiclass-py"
   ]
  },
  {
   "cell_type": "code",
   "execution_count": 1,
   "metadata": {},
   "outputs": [],
   "source": [
    "import numpy as np\n",
    "import pandas as pd\n",
    "import os\n",
    "import numpy as np\n",
    "import nilearn\n",
    "import glob"
   ]
  },
  {
   "cell_type": "code",
   "execution_count": null,
   "metadata": {},
   "outputs": [],
   "source": [
    "basepath=os.path.join('/projects','niblab','data','eric_data','W1','imagine')\n",
    "#basepath ='/projects/niblab/nilearn_projects'\n",
    "outpath = \"/projects/niblab/nilearn_projects\"\n",
    "#make a list of the files to concat\n",
    "all_func = glob.glob(os.path.join(basepath,'level1_grace_edit','cs*++.feat','filtered_func_data.nii.gz'))\n",
    "len(all_func)\n",
    "\n",
    "fmri_subjs=os.path.join(outpath, 'concatenated_imagine_all.nii')\n",
    "average_ana=os.path.join(outpath,'CS_avg_mprage_image.nii.gz')\n",
    "imag_mask=os.path.join(outpath,'power_roimask_4bi.nii.gz')\n",
    "#imag_mask=\"/projects/niblab/data/eric_data/W1/imagine/level1_grace_edit/cs001++.feat/mask.nii.gz\"\n",
    "stim = os.path.join('/projects','niblab','scripts','nilean_stuff','label_all_sub.csv')\n",
    "labels = pd.read_csv(stim, sep=\",\")\n",
    "y =  labels['label']\n",
    "session = labels['sub']\n",
    "\n",
    "# removing 'trash' and 'rest'\n",
    "non_trash = (y != 'trash')\n",
    "y = y[non_trash]\n",
    "non_rest = (y != 'rest')\n",
    "y = y[non_rest]\n",
    "\n",
    "# Get the labels of the numerical conditions represented by the vector y\n",
    "unique_conditions, order = np.unique(y, return_index=True)\n",
    "# Sort the conditions by the order of appearance\n",
    "unique_conditions = unique_conditions[np.argsort(order)]\n",
    "#output > \n",
    "#array(['unapp', 'H2O', 'app'], dtype=object)\n",
    "\n",
    "\n",
    "from nilearn.input_data import NiftiMasker\n",
    "# For decoding, standardizing is often very important\n",
    "nifti_masker = NiftiMasker(mask_img=imag_mask, standardize=True)\n",
    "X = nifti_masker.fit_transform(fmri_subjs)\n",
    "\n",
    "# Remove the \"rest\" conditionv --make sure to do this in the same order you did for y \n",
    "# otherwise you will run into dimension error \n",
    "X = X[non_trash]\n",
    "session = session[non_trash]\n",
    "X = X[non_rest]\n",
    "session = session[non_rest]\n",
    "\n"
   ]
  },
  {
   "cell_type": "markdown",
   "metadata": {},
   "source": [
    "## Build the decoders, using scikit-learn  \n",
    "We are using a Support Vector Classification below,  \n",
    "we will try a linear kernel, ...,  \n",
    "and a simple feature selection step.  "
   ]
  },
  {
   "cell_type": "code",
   "execution_count": null,
   "metadata": {},
   "outputs": [],
   "source": [
    "\n",
    "from sklearn.svm import SVC\n",
    "from sklearn.feature_selection import SelectKBest, f_classif\n",
    "from sklearn.multiclass import OneVsOneClassifier, OneVsRestClassifier\n",
    "from sklearn.pipeline import Pipeline\n",
    "\n",
    "svc_ovo = OneVsOneClassifier(Pipeline([\n",
    "    ('anova', SelectKBest(f_classif, k=500)),\n",
    "    ('svc', SVC(kernel='linear'))\n",
    "]))\n",
    "\n",
    "svc_ova = OneVsRestClassifier(Pipeline([\n",
    "    ('anova', SelectKBest(f_classif, k=500)),\n",
    "    ('svc', SVC(kernel='linear'))\n",
    "]))\n",
    "\n"
   ]
  },
  {
   "cell_type": "markdown",
   "metadata": {},
   "source": [
    "## Compute Cross-validation scores"
   ]
  },
  {
   "cell_type": "code",
   "execution_count": null,
   "metadata": {},
   "outputs": [],
   "source": [
    "from sklearn.model_selection import cross_val_score\n",
    "\n",
    "cv_scores_ovo = cross_val_score(svc_ovo, X, y, cv=5, verbose=1)\n",
    "\n",
    "cv_scores_ova = cross_val_score(svc_ova, X, y, cv=5, verbose=1)\n",
    "\n",
    "print('OvO:', cv_scores_ovo.mean())\n",
    "print('OvA:', cv_scores_ova.mean())"
   ]
  }
 ],
 "metadata": {
  "kernelspec": {
   "display_name": "Python 3",
   "language": "python",
   "name": "python3"
  },
  "language_info": {
   "codemirror_mode": {
    "name": "ipython",
    "version": 3
   },
   "file_extension": ".py",
   "mimetype": "text/x-python",
   "name": "python",
   "nbconvert_exporter": "python",
   "pygments_lexer": "ipython3",
   "version": "3.6.7"
  }
 },
 "nbformat": 4,
 "nbformat_minor": 2
}
